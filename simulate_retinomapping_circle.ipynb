{
 "cells": [
  {
   "cell_type": "code",
   "execution_count": 156,
   "metadata": {
    "collapsed": true
   },
   "outputs": [],
   "source": [
    "import numpy as np\n",
    "import os\n",
    "from skimage.measure import block_reduce\n",
    "from scipy.misc import imread\n",
    "import cPickle as pkl\n",
    "import scipy.signal\n",
    "import numpy.fft as fft\n",
    "import sys\n",
    "import optparse\n",
    "from libtiff import TIFF\n",
    "from PIL import Image\n",
    "import re\n",
    "import itertools\n",
    "from scipy import ndimage\n",
    "import pandas as pd\n",
    "import matplotlib.pyplot as plt\n",
    "\n",
    "def  cart2pol(x,y, units='deg'):\n",
    "    \"\"\"Convert from cartesian to polar coordinates\n",
    "\n",
    "    :usage:\n",
    "\n",
    "        theta, radius = pol2cart(x, y, units='deg')\n",
    "\n",
    "    units refers to the units (rad or deg) for theta that should be returned\n",
    "    \"\"\"\n",
    "    radius= np.hypot(x,y)\n",
    "    theta= np.arctan2(y,x)\n",
    "    if units in ['deg', 'degs']:\n",
    "        theta=theta*180/np.pi\n",
    "    return theta, radius\n",
    "\n",
    "\n",
    "def pol2cart(theta, radius, units='deg'):\n",
    "    \"\"\"Convert from polar to cartesian coordinates\n",
    "\n",
    "    usage::\n",
    "\n",
    "        x,y = pol2cart(theta, radius, units='deg')\n",
    "\n",
    "    \"\"\"\n",
    "    if units in ['deg', 'degs']:\n",
    "        theta = theta*np.pi/180.0\n",
    "    xx = radius*np.cos(theta)\n",
    "    yy = radius*np.sin(theta)\n",
    "\n",
    "    return xx,yy"
   ]
  },
  {
   "cell_type": "code",
   "execution_count": 157,
   "metadata": {
    "collapsed": true
   },
   "outputs": [],
   "source": [
    "def atoi(text):\n",
    "    return int(text) if text.isdigit() else text\n",
    "\n",
    "def natural_keys(text):\n",
    "    return [ atoi(c) for c in re.split('(\\d+)', text) ]"
   ]
  },
  {
   "cell_type": "code",
   "execution_count": 172,
   "metadata": {
    "collapsed": true
   },
   "outputs": [],
   "source": [
    "# imdir = '/media/juliana/MAC/data/JR009/20150625/20150625_JR009_500um_0050Hz/V-Left_0'\n",
    "imdir = '/media/nas/volume1/widefield/data/CE004/20160203/awake_circle_0013_REV/stimulus'\n",
    "CW = True"
   ]
  },
  {
   "cell_type": "code",
   "execution_count": 173,
   "metadata": {
    "collapsed": true
   },
   "outputs": [],
   "source": [
    "im_format = '.tif'"
   ]
  },
  {
   "cell_type": "code",
   "execution_count": 174,
   "metadata": {
    "collapsed": false
   },
   "outputs": [],
   "source": [
    "target_freq = 0.13"
   ]
  },
  {
   "cell_type": "code",
   "execution_count": 175,
   "metadata": {
    "collapsed": true
   },
   "outputs": [],
   "source": [
    "reduce_factor = (1, 1)"
   ]
  },
  {
   "cell_type": "code",
   "execution_count": 176,
   "metadata": {
    "collapsed": false
   },
   "outputs": [],
   "source": [
    "sampling_rate = 60.0"
   ]
  },
  {
   "cell_type": "code",
   "execution_count": 177,
   "metadata": {
    "collapsed": false
   },
   "outputs": [],
   "source": [
    "cycle_dur = 1. / target_freq"
   ]
  },
  {
   "cell_type": "code",
   "execution_count": 178,
   "metadata": {
    "collapsed": true
   },
   "outputs": [],
   "source": [
    "from IPython.display import Image, display"
   ]
  },
  {
   "cell_type": "code",
   "execution_count": 179,
   "metadata": {
    "collapsed": false
   },
   "outputs": [
    {
     "data": {
      "text/plain": [
       "7.692307692307692"
      ]
     },
     "metadata": {},
     "output_type": "display_data"
    }
   ],
   "source": [
    "display(cycle_dur)"
   ]
  },
  {
   "cell_type": "code",
   "execution_count": 180,
   "metadata": {
    "collapsed": true
   },
   "outputs": [],
   "source": [
    "basepath = os.path.split(os.path.split(imdir)[0])[0]\n",
    "session = os.path.split(os.path.split(imdir)[0])[1]\n",
    "cond = os.path.split(imdir)[1]"
   ]
  },
  {
   "cell_type": "code",
   "execution_count": 181,
   "metadata": {
    "collapsed": false
   },
   "outputs": [
    {
     "data": {
      "text/plain": [
       "'/media/nas/volume1/widefield/data/CE004/20160203'"
      ]
     },
     "metadata": {},
     "output_type": "display_data"
    },
    {
     "data": {
      "text/plain": [
       "'awake_circle_0013_REV'"
      ]
     },
     "metadata": {},
     "output_type": "display_data"
    },
    {
     "data": {
      "text/plain": [
       "'stimulus'"
      ]
     },
     "metadata": {},
     "output_type": "display_data"
    }
   ],
   "source": [
    "display(basepath); display(session); display(cond)"
   ]
  },
  {
   "cell_type": "code",
   "execution_count": 182,
   "metadata": {
    "collapsed": false
   },
   "outputs": [
    {
     "name": "stdout",
     "output_type": "stream",
     "text": [
      "9230\n",
      "9230\n",
      "20160203170559553673_0_0_SZ45.0_SF0.08_TF4.0_pos[  3.61049420e+01  -3.41716727e-03]_cyc1_stim120.tif\n"
     ]
    }
   ],
   "source": [
    "files = os.listdir(imdir)\n",
    "print len(files)\n",
    "files = sorted([f for f in files if os.path.splitext(f)[1] == str(im_format)])\n",
    "print len(files)\n",
    "print files[0]"
   ]
  },
  {
   "cell_type": "code",
   "execution_count": 183,
   "metadata": {
    "collapsed": false
   },
   "outputs": [
    {
     "name": "stdout",
     "output_type": "stream",
     "text": [
      "sample type: float64, range: [1494.0, 74.0]\n",
      "sample shape: (164, 218)\n"
     ]
    },
    {
     "data": {
      "text/plain": [
       "<matplotlib.image.AxesImage at 0x7f3fe81e4750>"
      ]
     },
     "execution_count": 183,
     "metadata": {},
     "output_type": "execute_result"
    },
    {
     "data": {
      "image/png": "[encoded data removed]",
      "text/plain": [
       "<matplotlib.figure.Figure at 0x7f3fe95e9a10>"
      ]
     },
     "metadata": {},
     "output_type": "display_data"
    }
   ],
   "source": [
    "%matplotlib inline\n",
    "tiff = TIFF.open(os.path.join(imdir, files[0]), mode='r')\n",
    "sample = tiff.read_image().astype('float')\n",
    "print \"sample type: %s, range: %s\" % (sample.dtype, str([sample.max(), sample.min()]))\n",
    "print \"sample shape: %s\" % str(sample.shape)\n",
    "tiff.close()\n",
    "plt.imshow(sample, cmap='gray')"
   ]
  },
  {
   "cell_type": "code",
   "execution_count": 184,
   "metadata": {
    "collapsed": false
   },
   "outputs": [
    {
     "name": "stdout",
     "output_type": "stream",
     "text": [
      "['Target_fft_stimulus_(1, 1)_nas.pkl']\n"
     ]
    }
   ],
   "source": [
    "# FIND CYCLE STARTS:\n",
    "\n",
    "outdir = '/media/nas/volume1/widefield/data/CE004/20160203/awake_circle_0013_REV/structs'\n",
    "key='stimulus'\n",
    "\n",
    "structs = os.listdir(outdir)\n",
    "structs = [f for f in structs if os.path.splitext(f)[1] == '.pkl']\n",
    "dstructs = [f for f in structs if 'Target_fft' in f and str(reduce_factor) and key in f]\n",
    "\n",
    "D = dict()\n",
    "for f in dstructs:\n",
    "\toutfile = os.path.join(outdir, f)\n",
    "\twith open(outfile,'rb') as fp:\n",
    "\t\tD[f] = pkl.load(fp)\n",
    "\n",
    "print D.keys()\n",
    "cw_key = D.keys()[0]\n",
    "\n",
    "# positions = [re.findall(\"\\[([^[\\]]*)\\]\", f) for f in files]\n",
    "# plist = list(itertools.chain.from_iterable(positions))\n",
    "# positions = [map(float, i.split(',')) for i in plist]"
   ]
  },
  {
   "cell_type": "code",
   "execution_count": 185,
   "metadata": {
    "collapsed": false
   },
   "outputs": [
    {
     "name": "stdout",
     "output_type": "stream",
     "text": [
      "['direction', 'phase_map', 'ft', 'mag_map', 'nframes_per_cycle', 'target_freq', 'positions', 'mean_intensity', 'freqs', 'binsize', 'dynrange', 'degrees', 'fps', 'strt_idxs', 'reduce_factor', 'target_bin']\n"
     ]
    }
   ],
   "source": [
    "print D[cw_key].keys()\n",
    "# print D[cw_key]['degrees']\n",
    "positions = D[cw_key]['positions']\n"
   ]
  },
  {
   "cell_type": "code",
   "execution_count": 186,
   "metadata": {
    "collapsed": false
   },
   "outputs": [],
   "source": [
    "positions = [re.findall(\"\\[([^[\\]]*)\\]\", f) for f in files]\n",
    "plist = list(itertools.chain.from_iterable(positions))\n",
    "pos = []\n",
    "for i in plist:\n",
    "    split_string = i.split(' ')\n",
    "    split_num = [float(s) for s in split_string if s is not '']\n",
    "    pos.append([split_num[0], split_num[1]])\n",
    "\n",
    "degs = [cart2pol(p[0], p[1], units='deg') for p in pos]\n",
    "\n",
    "degrees = [i[0] for i in degs]\n",
    "shift_degrees = [i[0] for i in degs]\n",
    "for x in range(len(shift_degrees)):\n",
    "    if shift_degrees[x] < 0:\n",
    "        shift_degrees[x] += 360.\n",
    "\n",
    "if CW:\n",
    "    find_cycs = list(itertools.chain.from_iterable(np.where(np.diff(shift_degrees) > 0)))\n",
    "else:\n",
    "    find_cycs = list(itertools.chain.from_iterable(np.where(np.diff(shift_degrees) < 0)))"
   ]
  },
  {
   "cell_type": "code",
   "execution_count": 187,
   "metadata": {
    "collapsed": false
   },
   "outputs": [
    {
     "name": "stdout",
     "output_type": "stream",
     "text": [
      "[460, 921, 1383, 1844, 2306, 2767, 3229, 3690, 4152, 4614, 5075, 5537, 5998, 6460, 6921, 7383, 7844, 8306, 8768]\n"
     ]
    }
   ],
   "source": [
    "print find_cycs"
   ]
  },
  {
   "cell_type": "code",
   "execution_count": 188,
   "metadata": {
    "collapsed": true
   },
   "outputs": [],
   "source": [
    "from psychopy import visual, event, core, monitors, logging, tools"
   ]
  },
  {
   "cell_type": "code",
   "execution_count": 189,
   "metadata": {
    "collapsed": true
   },
   "outputs": [],
   "source": [
    "monitor_list = monitors.getAllMonitors()"
   ]
  },
  {
   "cell_type": "code",
   "execution_count": 190,
   "metadata": {
    "collapsed": false
   },
   "outputs": [
    {
     "data": {
      "text/plain": [
       "[u'AQUOS', u'testMonitor', u'BenQtest', u'syncmaster2433BW']"
      ]
     },
     "execution_count": 190,
     "metadata": {},
     "output_type": "execute_result"
    }
   ],
   "source": [
    "monitor_list"
   ]
  },
  {
   "cell_type": "code",
   "execution_count": 191,
   "metadata": {
    "collapsed": true
   },
   "outputs": [],
   "source": [
    "whichMonitor = 'AQUOS'\n",
    "# whichMonitor = 'syncmaster2433BW'"
   ]
  },
  {
   "cell_type": "code",
   "execution_count": 192,
   "metadata": {
    "collapsed": true
   },
   "outputs": [],
   "source": [
    "winsize = monitors.Monitor(whichMonitor).getSizePix()"
   ]
  },
  {
   "cell_type": "code",
   "execution_count": 193,
   "metadata": {
    "collapsed": false
   },
   "outputs": [
    {
     "data": {
      "text/plain": [
       "[1360, 768]"
      ]
     },
     "execution_count": 193,
     "metadata": {},
     "output_type": "execute_result"
    }
   ],
   "source": [
    "winsize"
   ]
  },
  {
   "cell_type": "code",
   "execution_count": 194,
   "metadata": {
    "collapsed": false
   },
   "outputs": [
    {
     "name": "stdout",
     "output_type": "stream",
     "text": [
      "[213.11945001432255, 120.34980706691158]\n"
     ]
    }
   ],
   "source": [
    "screen_width_cm = monitors.Monitor(whichMonitor).getWidth()\n",
    "screen_height_cm = (float(screen_width_cm)/monitors.Monitor(whichMonitor).getSizePix()[0])*monitors.Monitor(whichMonitor).getSizePix()[1]\n",
    "\n",
    "screen_width_deg = tools.monitorunittools.cm2deg(screen_width_cm, monitors.Monitor(whichMonitor))\n",
    "screen_height_deg = tools.monitorunittools.cm2deg(screen_height_cm, monitors.Monitor(whichMonitor))\n",
    "\n",
    "print [screen_width_deg, screen_height_deg]\n",
    "\n"
   ]
  },
  {
   "cell_type": "code",
   "execution_count": 48,
   "metadata": {
    "collapsed": false
   },
   "outputs": [],
   "source": [
    "# win = visual.Window(fullscr=True, rgb=-1, size=winsize, units='deg', monitor=whichMonitor)"
   ]
  },
  {
   "cell_type": "code",
   "execution_count": 49,
   "metadata": {
    "collapsed": false
   },
   "outputs": [],
   "source": [
    "# win.close()"
   ]
  },
  {
   "cell_type": "code",
   "execution_count": 133,
   "metadata": {
    "collapsed": false
   },
   "outputs": [
    {
     "data": {
      "text/plain": [
       "[<matplotlib.lines.Line2D at 0x7f3fe898dad0>]"
      ]
     },
     "execution_count": 133,
     "metadata": {},
     "output_type": "execute_result"
    },
    {
     "data": {
      "text/plain": [
       "<matplotlib.figure.Figure at 0x7f3fe898db10>"
      ]
     },
     "metadata": {},
     "output_type": "display_data"
    },
    {
     "data": {
      "image/png": "[encoded data removed]",
      "text/plain": [
       "<matplotlib.figure.Figure at 0x7f3fe83e2410>"
      ]
     },
     "metadata": {},
     "output_type": "display_data"
    }
   ],
   "source": [
    "# Using linspace so that the endpoint of 360 is included...\n",
    "\n",
    "fig = plt.figure()\n",
    "d = np.array(D[cw_key]['degrees'])\n",
    "\n",
    "# P = np.ones((len(d), 2))\n",
    "\n",
    "# P[:,1] *= D[cw_key]['degrees']\n",
    "\n",
    "# r=np.arange(0,P.shape[1],1)\n",
    "# t=np.arange(0,np.shape(P)[0],1)\n",
    "\n",
    "# R,T  = np.meshgrid(r,t)\n",
    "\n",
    "R = np.ones(d.shape)\n",
    "P = np.ones((2, len(d)))\n",
    "\n",
    "fig, ax = plt.subplots(subplot_kw=dict(projection='polar'))\n",
    "plt.plot(d)\n",
    "\n",
    "\n",
    "# azimuths = np.radians(np.linspace(0, 360, 20))\n",
    "# zeniths = np.arange(10, 70, 10)\n",
    "\n",
    "# r, theta = np.meshgrid(zeniths, azimuths)\n",
    "# values = np.random.random((azimuths.size, zeniths.size))\n",
    "\n",
    "# #-- Plot... ------------------------------------------------\n",
    "# fig, ax = plt.subplots(subplot_kw=dict(projection='polar'))\n",
    "# ax.contourf(theta, r, values)\n",
    "\n",
    "# plt.show()"
   ]
  },
  {
   "cell_type": "code",
   "execution_count": 153,
   "metadata": {
    "collapsed": false
   },
   "outputs": [
    {
     "data": {
      "text/plain": [
       "[-0.0054227828942816393,\n",
       " -0.81033782282808053,\n",
       " -1.5677979531243473,\n",
       " -2.3426645262349517,\n",
       " -3.1182786948007459,\n",
       " -3.9022278818126295,\n",
       " -5.4615122750610778,\n",
       " -5.8660563484895238,\n",
       " -6.6456427506829812,\n",
       " -7.4251510571549426,\n",
       " -8.2047374794515928,\n",
       " -9.3622896274005676,\n",
       " -9.7641669219245575,\n",
       " -10.543284695915855,\n",
       " -11.323395546343868,\n",
       " -12.478894621412898,\n",
       " -12.882311719017888,\n",
       " -13.66208781779426,\n",
       " -14.44168539270537,\n",
       " -15.221461489276496,\n",
       " -16.376447296796435,\n",
       " -16.781359579795335,\n",
       " -17.561236087730251,\n",
       " -18.341391568239288,\n",
       " -19.496734421025849,\n",
       " -19.901133448155228,\n",
       " -20.681244273507797,\n",
       " -21.461120795727137,\n",
       " -22.241934583565691,\n",
       " -23.395693026018318,\n",
       " -23.80130824922016,\n",
       " -24.580805402128181,\n",
       " -25.36110591022663,\n",
       " -27.299416069703959,\n",
       " -27.704518026450884,\n",
       " -28.483557705719882,\n",
       " -29.26239652138203,\n",
       " -30.042083354907479,\n",
       " -31.198754028903064,\n",
       " -31.601702501943542,\n",
       " -32.381344702221803,\n",
       " -33.161076157305381,\n",
       " -34.313529113225712,\n",
       " -34.720963105712578,\n",
       " -35.500928878380954,\n",
       " -36.28080540780909,\n",
       " -37.060637288540519,\n",
       " -38.210936732350852,\n",
       " -38.620345697610823,\n",
       " -39.401293376395323]"
      ]
     },
     "execution_count": 153,
     "metadata": {},
     "output_type": "execute_result"
    }
   ],
   "source": [
    "pos = [i[0] for i in degs]\n",
    "pos[0:50]"
   ]
  },
  {
   "cell_type": "code",
   "execution_count": 155,
   "metadata": {
    "collapsed": false
   },
   "outputs": [
    {
     "data": {
      "text/plain": [
       "(0.0, 6.2831853071795862, -1.0, 1.0)"
      ]
     },
     "execution_count": 155,
     "metadata": {},
     "output_type": "execute_result"
    },
    {
     "data": {
      "image/png": "[encoded data removed]",
      "text/plain": [
       "<matplotlib.figure.Figure at 0x7f3fe8949950>"
      ]
     },
     "metadata": {},
     "output_type": "display_data"
    }
   ],
   "source": [
    "# POLAR / CIRCULAR COLORMAP:\n",
    "import matplotlib as mpl\n",
    "import matplotlib.cm as cm\n",
    "\n",
    "fig = plt.figure()\n",
    "\n",
    "ax = fig.add_subplot(1,2,1, projection='polar')\n",
    "plt.plot(pos)\n",
    "\n",
    "ax = fig.add_subplot(1,2,2, projection='polar')\n",
    "ax.set_theta_zero_location('W') # W puts 0 on RIGHT side...\n",
    "\n",
    "ax._direction = 2*np.pi # object moves toward bottom first (CW)\n",
    "\n",
    "# ax._direction = -2*np.pi # objecct moves toward top first (CCW)\n",
    "\n",
    "norm = mpl.colors.Normalize(vmax=1*np.pi, vmin=-1*np.pi)\n",
    "#norm = mpl.colors.Normalize(vmax=2*np.pi, vmin=0)\n",
    "cb = mpl.colorbar.ColorbarBase(ax, cmap=cm.get_cmap('spectral'),\n",
    "                                norm=norm, orientation='horizontal')\n",
    "# cb.ax.invert_xaxis()\n",
    "# cb.outline.set_visible(False)\n",
    "# ax.set_axis_off()\n",
    "ax.set_rlim([-1, 1])\n",
    "ax.axis('off')"
   ]
  },
  {
   "cell_type": "code",
   "execution_count": 50,
   "metadata": {
    "collapsed": false
   },
   "outputs": [
    {
     "data": {
      "text/plain": [
       "9230"
      ]
     },
     "execution_count": 50,
     "metadata": {},
     "output_type": "execute_result"
    }
   ],
   "source": [
    "len(positions)"
   ]
  },
  {
   "cell_type": "code",
   "execution_count": 55,
   "metadata": {
    "collapsed": false
   },
   "outputs": [],
   "source": [
    "patch_size = (45, 45)"
   ]
  },
  {
   "cell_type": "code",
   "execution_count": 112,
   "metadata": {
    "collapsed": false
   },
   "outputs": [],
   "source": [
    "# # More weird stuff... why are timestamps so off?\n",
    "\n",
    "# from datetime import datetime\n",
    "# tstamps = [f.split('_')[1] for f in files]\n",
    "# FORMAT = '%Y%m%d%H%M%S%f'\n",
    "# #date = datetime.strptime(tstamps[0], FORMAT)\n",
    "# #display(date)\n",
    "# # convert string into math-able form:\n",
    "# #'{hrs}:{min}:{sec}.{msec}'.format(hrs = str(d.hour), min = str(d.minute), sec = str(d.second), msec = str(d.microsecond/1000))\n",
    "# fmt_tstamps = [datetime.strptime(t, FORMAT) for t in tstamps]\n",
    "# times = ['{hrs}:{min}:{sec}.{msec}'.format(hrs = str(d.hour), min = str(d.minute), sec = str(d.second), msec = str(d.microsecond)) for d in fmt_tstamps]"
   ]
  },
  {
   "cell_type": "code",
   "execution_count": 113,
   "metadata": {
    "collapsed": false
   },
   "outputs": [],
   "source": [
    "# mstimes = []\n",
    "# for t in times:\n",
    "#     hours, minutes, seconds = (t.split(\":\"))[-3:]\n",
    "#     hours = int(hours)\n",
    "#     minutes = int(minutes)\n",
    "#     seconds = float(seconds)\n",
    "#     miliseconds = int(3600000 * hours + 60000 * minutes + 1000 * seconds)\n",
    "#     mstimes.append(miliseconds)"
   ]
  },
  {
   "cell_type": "code",
   "execution_count": 195,
   "metadata": {
    "collapsed": false
   },
   "outputs": [
    {
     "name": "stdout",
     "output_type": "stream",
     "text": [
      "[214.0, 121.0]\n"
     ]
    }
   ],
   "source": [
    "window = [np.ceil(screen_width_deg), np.ceil(screen_height_deg)]\n",
    "print window"
   ]
  },
  {
   "cell_type": "code",
   "execution_count": 301,
   "metadata": {
    "collapsed": false
   },
   "outputs": [
    {
     "data": {
      "text/plain": [
       "214.0"
      ]
     },
     "metadata": {},
     "output_type": "display_data"
    },
    {
     "data": {
      "text/plain": [
       "121.0"
      ]
     },
     "metadata": {},
     "output_type": "display_data"
    },
    {
     "data": {
      "text/plain": [
       "<rect(0, 0, 214, 121)>"
      ]
     },
     "execution_count": 301,
     "metadata": {},
     "output_type": "execute_result"
    }
   ],
   "source": [
    "import pygame\n",
    "import sys\n",
    "\n",
    "# shift_P = [i+np.ceil(max(P)) for i in P]\n",
    "\n",
    "# w=abs(np.ceil(abs(P[0])+barWidth)*2) # include offset to compensate for stupid positioning above...\n",
    "# h=abs(np.ceil(stimSize[0]))\n",
    "w = window[0]\n",
    "h = window[1]\n",
    "display(w,h)\n",
    "\n",
    "black = (0,0,0)\n",
    "white = (255,255,255)\n",
    "\n",
    "pygame.init()\n",
    "screen = pygame.display.set_mode((int(w),int(h)))\n",
    "\n",
    "screen.fill(black)\n"
   ]
  },
  {
   "cell_type": "code",
   "execution_count": 302,
   "metadata": {
    "collapsed": false
   },
   "outputs": [
    {
     "name": "stdout",
     "output_type": "stream",
     "text": [
      "/media/nas/volume1/widefield/data/CE004/20160203/awake_circle_0013_REV/simulation/stimulus\n"
     ]
    }
   ],
   "source": [
    "savedir = os.path.join(os.path.split(imdir)[0], 'simulation', cond)\n",
    "if not os.path.exists(savedir):\n",
    "    os.makedirs(savedir)\n",
    "    \n",
    "print savedir"
   ]
  },
  {
   "cell_type": "code",
   "execution_count": 311,
   "metadata": {
    "collapsed": false
   },
   "outputs": [
    {
     "name": "stdout",
     "output_type": "stream",
     "text": [
      "[36.104942000000001, 36.101331209999991, 36.09142623999999, 36.074766859999997, 36.051483959999999]\n",
      "[72.209884000000002, 72.206273209679964, 72.19636823880208, 72.179708857325551, 72.15642595526198]\n",
      "[-0.0034171672699999998, -0.51061744999999992, -0.98782477999999985, -1.4758190400000004, -1.9640137799999999]\n",
      "[36.101524932730001, 35.594324650000004, 35.117117320000006, 34.629123060000005, 34.14092832]\n"
     ]
    }
   ],
   "source": [
    "stim_size = 45.0 # in degrees\n",
    "pos_vec = [pol2cart(p[0], p[1]) for p in degs]\n",
    "\n",
    "px = [p[0] for p in pos_vec]\n",
    "py = [p[1] for p in pos_vec]\n",
    "\n",
    "old_min = min(px)\n",
    "old_max = max(px)\n",
    "old_range = (old_max - old_min)\n",
    "new_min = 0\n",
    "new_range = max(px)*2 - 0.\n",
    "shift_px = [((((i - old_min) * float(new_range)) / old_range) + new_min) for i in px]\n",
    "new_px = [i+(w/4.) for i in shift_px]\n",
    "\n",
    "print px[0:5]\n",
    "print shift_px[0:5]\n",
    "old_min = min(py)\n",
    "old_max = max(py)\n",
    "old_range = (old_max - old_min)\n",
    "new_min = 0\n",
    "new_range = max(py)*2 - 0.\n",
    "shift_py = [((((i - old_min) * float(new_range)) / old_range) + new_min) for i in py]\n",
    "new_py = np.flipud([i+(h/4.) for i in shift_py])-5 \n",
    "# need to flip UD because actual stim-pos assumes center of (0,0), but this is upper-left corner of pygame rect \n",
    "# also, shifted by 5 pixels to center stimulus\n",
    "\n",
    "print py[0:5]\n",
    "print shift_py[0:5]\n",
    "\n",
    "\n",
    "# shift_posvec = [[shift_px[i], shift_py[i]] for i in range(len(shift_px))]\n",
    "shift_posvec = [[new_px[i], new_py[i]] for i in range(len(new_py))]"
   ]
  },
  {
   "cell_type": "code",
   "execution_count": 317,
   "metadata": {
    "collapsed": false
   },
   "outputs": [
    {
     "name": "stdout",
     "output_type": "stream",
     "text": [
      "[101.81882411252279, 27.231776289999999]\n"
     ]
    }
   ],
   "source": [
    "# test the positions...\n",
    "pos_vec[0]\n",
    "currpos = shift_posvec[370] \n",
    "print currpos\n",
    "\n",
    "screen.fill(black)\n",
    "\n",
    "pygame.draw.circle(screen, white, [int(currpos[0]), int(currpos[1])], int(stim_size/2.), 0)\n",
    "pygame.display.update()"
   ]
  },
  {
   "cell_type": "code",
   "execution_count": 318,
   "metadata": {
    "collapsed": false
   },
   "outputs": [],
   "source": [
    "# Create frames:\n",
    "\n",
    "actual_nframes = len(positions)\n",
    "\n",
    "fps = 60.\n",
    "delay_secs = 5 # n seconds to wait to simulate hemo \"delay\"\n",
    "delay_frames = delay_secs * fps\n",
    "\n",
    "nframes = 0\n",
    "while nframes < actual_nframes:\n",
    "\n",
    "    currpos = shift_posvec[nframes]\n",
    "    \n",
    "    screen.fill(black)\n",
    "    pygame.draw.circle(screen, white, [int(currpos[0]), int(currpos[1])], int(stim_size/2.), 0)\n",
    "    pygame.display.update()\n",
    "\n",
    "    pygame.image.save(screen, os.path.join(savedir, \"screen_%i.bmp\" % nframes))\n",
    "    nframes += 1"
   ]
  },
  {
   "cell_type": "code",
   "execution_count": 322,
   "metadata": {
    "collapsed": false
   },
   "outputs": [],
   "source": [
    "pygame.quit()"
   ]
  },
  {
   "cell_type": "code",
   "execution_count": 61,
   "metadata": {
    "collapsed": false
   },
   "outputs": [
    {
     "name": "stdout",
     "output_type": "stream",
     "text": [
      "N frames: 23964\n",
      "N positions: 23964\n"
     ]
    }
   ],
   "source": [
    "nframes_collected = os.listdir(savedir)\n",
    "print(\"N frames: %s\" % str(len(nframes_collected)))\n",
    "print(\"N positions: %s\" % str(len(positions)))"
   ]
  },
  {
   "cell_type": "code",
   "execution_count": 62,
   "metadata": {
    "collapsed": false
   },
   "outputs": [],
   "source": [
    "sim_frames = sorted([i for i in nframes_collected if i.split('.')[1]=='bmp'], key=natural_keys)"
   ]
  },
  {
   "cell_type": "code",
   "execution_count": 68,
   "metadata": {
    "collapsed": false
   },
   "outputs": [],
   "source": [
    "from PIL import Image\n",
    "sim=Image.open(os.path.join(savedir, sim_frames[-1]),'r')"
   ]
  },
  {
   "cell_type": "code",
   "execution_count": 69,
   "metadata": {
    "collapsed": false
   },
   "outputs": [
    {
     "name": "stdout",
     "output_type": "stream",
     "text": [
      "SIM IMAGE SHAPE: (120, 93)\n"
     ]
    },
    {
     "data": {
      "image/png": "[encoded data removed]",
      "text/plain": [
       "<matplotlib.figure.Figure at 0x7fe821125990>"
      ]
     },
     "metadata": {},
     "output_type": "display_data"
    }
   ],
   "source": [
    "# is it working...?\n",
    "# sim = Image.open(os.path.join(\"./stimuli/simulated\", sim_frames[100])).convert('LA')\n",
    "# sim=sim.convert('1') # make BW so don't have to deal with 3d\n",
    "# lena = misc.imread(os.path.join(\"./stimuli/simulated\", sim_frames[100]))\n",
    "\n",
    "# sim=Image.open(os.path.join(savedir, sim_frames[100]),'r')\n",
    "sim=sim.convert('L') #makes it greyscale\n",
    "y=np.asarray(sim.getdata(),dtype=np.float64).reshape((sim.size[1],sim.size[0]))\n",
    "y=np.asarray(y,dtype=np.uint8)\n",
    "\n",
    "plt.imshow(y)\n",
    "print \"SIM IMAGE SHAPE: %s\" % str(sim.size)"
   ]
  },
  {
   "cell_type": "code",
   "execution_count": 26,
   "metadata": {
    "collapsed": false
   },
   "outputs": [
    {
     "data": {
      "text/plain": [
       "255"
      ]
     },
     "execution_count": 26,
     "metadata": {},
     "output_type": "execute_result"
    }
   ],
   "source": [
    "y.max()"
   ]
  },
  {
   "cell_type": "code",
   "execution_count": 27,
   "metadata": {
    "collapsed": false
   },
   "outputs": [
    {
     "name": "stdout",
     "output_type": "stream",
     "text": [
      "(93, 120, 23964)\n",
      "0 images processed...\n",
      "1000 images processed...\n",
      "2000 images processed...\n",
      "3000 images processed...\n",
      "4000 images processed...\n",
      "5000 images processed...\n",
      "6000 images processed...\n",
      "7000 images processed...\n",
      "8000 images processed...\n",
      "9000 images processed...\n",
      "10000 images processed...\n",
      "11000 images processed...\n",
      "12000 images processed...\n",
      "13000 images processed...\n",
      "14000 images processed...\n",
      "15000 images processed...\n",
      "16000 images processed...\n",
      "17000 images processed...\n",
      "18000 images processed...\n",
      "19000 images processed...\n",
      "20000 images processed...\n",
      "21000 images processed...\n",
      "22000 images processed...\n",
      "23000 images processed...\n"
     ]
    }
   ],
   "source": [
    "stack = np.empty((sim.size[1], sim.size[0], len(sim_frames)))\n",
    "print stack.shape\n",
    "\n",
    "for i, f in enumerate(sim_frames):\n",
    "    if i % 1000 == 0:\n",
    "        print('%d images processed...' % i)\n",
    "    sim=Image.open(os.path.join(savedir, sim_frames[i]),'r')\n",
    "    sim=sim.convert('L') #makes it greyscale\n",
    "    y=np.asarray(sim.getdata(),dtype=np.float64).reshape((sim.size[1],sim.size[0]))\n",
    "    stack[:, :, i] = y"
   ]
  },
  {
   "cell_type": "code",
   "execution_count": 31,
   "metadata": {
    "collapsed": false
   },
   "outputs": [
    {
     "data": {
      "text/plain": [
       "<matplotlib.image.AxesImage at 0x7fe821024390>"
      ]
     },
     "execution_count": 31,
     "metadata": {},
     "output_type": "execute_result"
    },
    {
     "data": {
      "image/png": "[encoded data removed]",
      "text/plain": [
       "<matplotlib.figure.Figure at 0x7fe8211a4dd0>"
      ]
     },
     "metadata": {},
     "output_type": "display_data"
    }
   ],
   "source": [
    "plt.imshow(stack[:,:,100])"
   ]
  },
  {
   "cell_type": "code",
   "execution_count": 32,
   "metadata": {
    "collapsed": true
   },
   "outputs": [],
   "source": [
    "for i in range(stack.shape[2]):\n",
    "    stack[:,:,i] -= np.mean(stack[:,:,i].ravel())"
   ]
  },
  {
   "cell_type": "code",
   "execution_count": 33,
   "metadata": {
    "collapsed": false
   },
   "outputs": [
    {
     "data": {
      "text/plain": [
       "<matplotlib.image.AxesImage at 0x7fe81ac44e10>"
      ]
     },
     "execution_count": 33,
     "metadata": {},
     "output_type": "execute_result"
    },
    {
     "data": {
      "image/png": "[encoded data removed]",
      "text/plain": [
       "<matplotlib.figure.Figure at 0x7fe81ac91810>"
      ]
     },
     "metadata": {},
     "output_type": "display_data"
    }
   ],
   "source": [
    "plt.imshow(stack[:,:,100])"
   ]
  },
  {
   "cell_type": "code",
   "execution_count": 130,
   "metadata": {
    "collapsed": false
   },
   "outputs": [
    {
     "name": "stdout",
     "output_type": "stream",
     "text": [
      "TARGET:  20 0.050075112669\n",
      "FREQS:  [ 0.          0.00250376  0.00500751 ..., -0.00751127 -0.00500751\n",
      " -0.00250376]\n"
     ]
    }
   ],
   "source": [
    "freqs = fft.fftfreq(len(stack[0, 0, :]), 1 / sampling_rate) # When set fps to 60 vs 120 -- target_bin should be 2x higher for 120, but freq correct (looks for closest matching target_bin )\n",
    "binwidth = freqs[1] - freqs[0]\n",
    "#target_bin = int(target_freq / binwidth)\n",
    "target_bin = np.where(freqs == min(freqs, key=lambda x: abs(float(x) - target_freq)))[0][0]\n",
    "print \"TARGET: \", target_bin, freqs[target_bin]\n",
    "print \"FREQS: \", freqs"
   ]
  },
  {
   "cell_type": "code",
   "execution_count": 131,
   "metadata": {
    "collapsed": false
   },
   "outputs": [],
   "source": [
    "\n",
    "# FFT:\n",
    "sample = stack[:,:,0]\n",
    "mag_map = np.empty(sample.shape)\n",
    "phase_map = np.empty(sample.shape)\n",
    "\n",
    "ft_real = np.empty(sample.shape)\n",
    "ft_imag = np.empty(sample.shape)\n",
    "\n",
    "ft_real_shift = np.empty(sample.shape)\n",
    "ft_imag_shift = np.empty(sample.shape)\n",
    "\n",
    "dynrange = np.empty(sample.shape)\n",
    "\n",
    "ft = np.empty(sample.shape)\n",
    "ft = ft + 0j\n",
    "\n",
    "#dlist = []\n",
    "i = 0\n",
    "for x in range(sample.shape[0]):\n",
    "    for y in range(sample.shape[1]):\n",
    "\n",
    "        # THIS IS BASICALLY MOVING AVG WINDOW...\n",
    "        pix = scipy.signal.detrend(stack[x, y, :], type='constant')\n",
    "\n",
    "        #dynrange[x, y] = np.log2(pix.max() - pix.min())\n",
    "\n",
    "        curr_ft = fft.fft(pix)  # fft.fft(pix) / len(pix)])\n",
    "        #curr_ft_shift = fft.fftshift(curr_ft)\n",
    "\n",
    "# DF = pd.DataFrame.from_records(dlist)\n",
    "\n",
    "        #mag = np.abs(curr_ft)\n",
    "        # mag_max = np.where(mag == mag.max())\n",
    "        # mag_min = np.where(mag == mag.min())\n",
    "        \n",
    "        phase = np.angle(curr_ft)\n",
    "\n",
    "        ft_real[x, y] = curr_ft[target_bin].real\n",
    "        ft_imag[x, y] = curr_ft[target_bin].imag\n",
    "        \n",
    "        ft[x,y] = curr_ft[target_bin]\n",
    "\n",
    "        #ft_real_shift[x, y] = curr_ft_shift[target_bin_shift].real\n",
    "        #ft_imag_shift[x, y] = curr_ft_shift[target_bin_shift].imag\n",
    "\n",
    "        # if i % 100 == 0:\n",
    "        # print ft_real[x, y], ft_imag[x,y]\n",
    "\n",
    "        #mag_map[x, y] = mag[target_bin]\n",
    "        phase_map[x, y] = phase[target_bin]\n",
    "\n",
    "        #dlist.append((x, y, curr_ft))\n",
    "\n",
    "        i += 1"
   ]
  },
  {
   "cell_type": "code",
   "execution_count": 132,
   "metadata": {
    "collapsed": false
   },
   "outputs": [
    {
     "data": {
      "text/plain": [
       "'./tests/simulation'"
      ]
     },
     "execution_count": 132,
     "metadata": {},
     "output_type": "execute_result"
    }
   ],
   "source": [
    "os.path.split(os.path.split(savedir)[0])[0]"
   ]
  },
  {
   "cell_type": "code",
   "execution_count": 34,
   "metadata": {
    "collapsed": false
   },
   "outputs": [
    {
     "data": {
      "text/plain": [
       "'./tests/simulation/structs'"
      ]
     },
     "execution_count": 34,
     "metadata": {},
     "output_type": "execute_result"
    }
   ],
   "source": [
    "outdir = os.path.join(os.path.split(os.path.split(savedir)[0])[0], \"structs\")\n",
    "append_to_name = \"simulated\"\n",
    "outdir\n"
   ]
  },
  {
   "cell_type": "code",
   "execution_count": 134,
   "metadata": {
    "collapsed": false
   },
   "outputs": [],
   "source": [
    "\n",
    "D = dict()\n",
    "\n",
    "D['ft_real'] = ft_real  # np.array(ft)\n",
    "D['ft_imag'] = ft_imag\n",
    "D['ft'] = ft\n",
    "\n",
    "# D['mag_map'] = mag_map\n",
    "D['phase_map'] = phase_map\n",
    "\n",
    "D['mean_intensity'] = np.mean(stack, axis=2)\n",
    "#D['stack'] = stack\n",
    "#del stack\n",
    "D['dynrange'] = dynrange\n",
    "D['target_freq'] = target_freq\n",
    "D['fps'] = sampling_rate\n",
    "D['freqs'] = freqs  # fft.fftfreq(len(pix), 1 / sampling_rate)\n",
    "# D['freqs_shift'] = freqs_shift #fft.fftfreq(len(pix), 1 / sampling_rate)\n",
    "\n",
    "D['binsize'] = freqs[1] - freqs[0]\n",
    "# np.where(freqs == min(freqs, key=lambda x: abs(float(x) - target_freq)))[0][0]\n",
    "D['target_bin'] = target_bin\n",
    "#D['target_bin_shift'] = target_bin_shift\n",
    "D['nframes'] = nframes_per_cycle\n",
    "D['reduce_factor'] = reduce_factor\n",
    "\n",
    "# SAVE condition info:\n",
    "sessionpath = os.path.split(imdir)[0]\n",
    "# outdir = os.path.join(sessionpath, 'structs')\n",
    "# if not os.path.exists(outdir):\n",
    "#     os.makedirs(outdir)\n",
    "\n",
    "reduce_factor = (1, 1)\n",
    "fext = 'D_target_FFT_%s_%s_%s.pkl' % (cond, str(reduce_factor), append_to_name)\n",
    "fname = os.path.join(outdir, fext)\n",
    "with open(fname, 'wb') as f:\n",
    "    # protocol=pkl.HIGHEST_PROTOCOL)\n",
    "    pkl.dump(D, f, protocol=pkl.HIGHEST_PROTOCOL)"
   ]
  },
  {
   "cell_type": "code",
   "execution_count": 49,
   "metadata": {
    "collapsed": false
   },
   "outputs": [
    {
     "data": {
      "text/plain": [
       "'./tests/simulation/structs'"
      ]
     },
     "execution_count": 49,
     "metadata": {},
     "output_type": "execute_result"
    }
   ],
   "source": [
    "# outdir = \"./tests/simulation/V-Left_0/structs\"\n",
    "os.listdir(outdir)\n",
    "outdir"
   ]
  },
  {
   "cell_type": "code",
   "execution_count": 38,
   "metadata": {
    "collapsed": false
   },
   "outputs": [
    {
     "name": "stdout",
     "output_type": "stream",
     "text": [
      "./tests/simulation/structs\n",
      "['D_target_V-Right_0_(1, 1)_simulated_orig.pkl', 'D_target_FFT_H-Down_0_(1, 1)_simulated.pkl', 'D_target_V-Left_0_(1, 1)_simulated.pkl', 'D_target_FFT_V-Left_0_(1, 1)_simulated.pkl', 'D_target_FFT_V-Right_0_(1, 1)_simulated.pkl', 'D_target_FFT_H-Up_0_(1, 1)_simulated.pkl', 'D_target_V-Right_0_(1, 1)_simulated.pkl', 'D_target_V-Left_0_(1, 1)_True.pkl']\n",
      "['D_target_FFT_H-Down_0_(1, 1)_simulated.pkl', 'D_target_FFT_V-Left_0_(1, 1)_simulated.pkl', 'D_target_FFT_V-Right_0_(1, 1)_simulated.pkl', 'D_target_FFT_H-Up_0_(1, 1)_simulated.pkl']\n"
     ]
    }
   ],
   "source": [
    "#####################################################\n",
    "# TEST MERGE:\n",
    "#####################################################\n",
    "\n",
    "reduce_factor = (1,1)\n",
    "print outdir\n",
    "flist = os.listdir(outdir)\n",
    "\n",
    "flist = [f for f in flist if os.path.splitext(f)[1] == '.pkl']\n",
    "print flist\n",
    "dstructs = [f for f in flist if 'D_target_FFT' in f and str(reduce_factor) in f]\n",
    "# if not dstructs:\n",
    "#     dstructs = [f for f in flist if 'D_' in f and str(reduce_factor) in f]\n",
    "\n",
    "print dstructs\n",
    "    \n",
    "D = dict()\n",
    "for f in dstructs:\n",
    "    outfile = os.path.join(outdir, f)\n",
    "    with open(outfile,'rb') as fp:\n",
    "        D[f] = pkl.load(fp)"
   ]
  },
  {
   "cell_type": "code",
   "execution_count": 39,
   "metadata": {
    "collapsed": false
   },
   "outputs": [
    {
     "name": "stdout",
     "output_type": "stream",
     "text": [
      "['D_target_FFT_V-Right_0_(1, 1)_simulated.pkl', 'D_target_FFT_H-Down_0_(1, 1)_simulated.pkl', 'D_target_FFT_V-Left_0_(1, 1)_simulated.pkl', 'D_target_FFT_H-Up_0_(1, 1)_simulated.pkl']\n"
     ]
    }
   ],
   "source": [
    "for d in D.keys():\n",
    "    if \"Left\" in d:\n",
    "        leftkey = d\n",
    "    elif \"Right\" in d:\n",
    "        rightkey = d\n",
    "print D.keys()"
   ]
  },
  {
   "cell_type": "code",
   "execution_count": 40,
   "metadata": {
    "collapsed": false
   },
   "outputs": [],
   "source": [
    "# print min([ftmap[rightkey].shape, ftmap[leftkey].shape])\n",
    "# leftmap = np.zeros(min([ftmap[rightkey].shape, ftmap[leftkey].shape]))\n",
    "# rightmap = np.zeros(min([ftmap[rightkey].shape, ftmap[leftkey].shape]))\n",
    "\n",
    "# leftmap = leftmap + 0j\n",
    "# rightmap = rightmap + 0j\n",
    "\n",
    "\n",
    "leftmap = D[leftkey]['ft']\n",
    "rightmap = D[rightkey]['ft'][:,0:120]"
   ]
  },
  {
   "cell_type": "code",
   "execution_count": 41,
   "metadata": {
    "collapsed": false
   },
   "outputs": [
    {
     "data": {
      "text/plain": [
       "(93, 120)"
      ]
     },
     "execution_count": 41,
     "metadata": {},
     "output_type": "execute_result"
    }
   ],
   "source": [
    "rightmap.shape"
   ]
  },
  {
   "cell_type": "code",
   "execution_count": 45,
   "metadata": {
    "collapsed": false
   },
   "outputs": [
    {
     "data": {
      "text/plain": [
       "<matplotlib.colorbar.Colorbar instance at 0x7fe81aa3ab48>"
      ]
     },
     "execution_count": 45,
     "metadata": {},
     "output_type": "execute_result"
    },
    {
     "data": {
      "image/png": "[encoded data removed]",
      "text/plain": [
       "<matplotlib.figure.Figure at 0x7fe820ba7050>"
      ]
     },
     "metadata": {},
     "output_type": "display_data"
    }
   ],
   "source": [
    "phase_left = np.angle(leftmap)\n",
    "plt.imshow(phase_left, cmap='spectral')\n",
    "plt.colorbar()"
   ]
  },
  {
   "cell_type": "code",
   "execution_count": 55,
   "metadata": {
    "collapsed": false
   },
   "outputs": [
    {
     "data": {
      "image/png": "[encoded data removed]",
      "text/plain": [
       "<matplotlib.figure.Figure at 0x7fe81a769e50>"
      ]
     },
     "metadata": {},
     "output_type": "display_data"
    }
   ],
   "source": [
    "# SHIFT NEGATIVE VALUES by 2PI\n",
    "\n",
    "import math\n",
    "phase_left = np.angle(leftmap)\n",
    "phase_right = np.angle(rightmap)\n",
    "\n",
    "for x in range(phase_left.shape[0]):\n",
    "    for y in range(phase_left.shape[1]):\n",
    "        if phase_left[x,y] < 0:\n",
    "            phase_left[x,y] += 2*math.pi\n",
    "\n",
    "for x in range(phase_right.shape[0]):\n",
    "    for y in range(phase_right.shape[1]):\n",
    "        if phase_right[x,y] < 0:\n",
    "            phase_right[x,y] += 2*math.pi\n",
    "\n",
    "        \n",
    "# plt.imshow(phase_left, cmap='spectral', vmin=-1*math.pi, vmax=1*math.pi)\n",
    "phase_left\n",
    "\n",
    "# plt.subplot(1,2,2)\n",
    "# plt.imshow(phase_right, cmap='spectral')\n",
    "# plt.colorbar()\n",
    "        \n",
    "az = (phase_left - phase_right) / 2.\n",
    "# plt.imshow(az, cmap='spectral') #, vmin=-1*math.pi, vmax=1*math.pi)\n",
    "plt.imshow(az, cmap='spectral') #, vmin=0, vmax=2*math.pi)\n",
    "# plt.colorbar()\n",
    "# plt.colorbar()\n",
    "# x = np.where(phase_left<0)\n",
    "# len(x[1])\n",
    "# phase_left.max()\n",
    "az.min()\n",
    "\n",
    "plt.axis('off')\n",
    "\n",
    "# plt.colorbar()\n",
    "\n",
    "legend_path = '/home/juliana/Repositories/retinotopy-mapper/tests/simulation/LEFT_RIGHT_legend.tif'\n",
    "plt.savefig(legend_path)\n",
    "# print az[-5]"
   ]
  },
  {
   "cell_type": "code",
   "execution_count": 59,
   "metadata": {
    "collapsed": false
   },
   "outputs": [
    {
     "name": "stdout",
     "output_type": "stream",
     "text": [
      "[-0.01195602  3.0944027   3.04197291  2.98841946  2.93469808  2.88180209\n",
      "  2.82806864  2.77426141  2.72070648  2.66733827  2.61372288  2.5600421\n",
      "  2.50731928  2.45410418  2.40057897  2.3471697   2.294454    2.24048406\n",
      "  2.18564951  2.13244588  2.07985851  2.0262631   1.97270509  1.92004939\n",
      "  1.86670288  1.81263785  1.75940072  1.70602805  1.65173487  1.59798351\n",
      "  1.54523141  1.49182359  1.43813036  1.38520015  1.33248408  1.27882825\n",
      "  1.22426392  1.17071791  1.11748489  1.06390282  1.0106508   0.95801693\n",
      "  0.90452628  0.85040859  0.79749212  0.74468339  0.68991967  0.63580173\n",
      "  0.58314353  0.52992716  0.47618642  0.42323225  0.37080246  0.31697272\n",
      "  0.26290952  0.20954962  0.15540267  0.10136844  0.04835885 -0.00407094\n",
      " -0.05751778 -0.11135659 -0.16430105 -0.21727293 -0.27137617 -0.32551267\n",
      " -0.37894434 -0.4324741  -0.48597567 -0.53885563 -0.59136951 -0.64540118\n",
      " -0.69930218 -0.75210892 -0.8063921  -0.86060768 -0.91367423 -0.96615881\n",
      " -1.01966649 -1.07334728 -1.1260701  -1.17954192 -1.23365021 -1.28708742\n",
      " -1.34049037 -1.39453018 -1.44823096 -1.5009435  -1.55326319 -1.606317\n",
      " -1.65952951 -1.71244295 -1.76618764 -1.82098673 -1.87450595 -1.92693573\n",
      " -1.9806214  -2.03434026 -2.08684702 -2.14043798 -2.194186   -2.24703776\n",
      " -2.30040518 -2.35479404 -2.40871494 -2.46145831 -2.51463739 -2.56838157\n",
      " -2.62130703 -2.67410259 -2.72793349 -2.78182784 -2.83548112 -2.88879151\n",
      " -2.94237297 -2.99594483 -3.04867278  0.05233397 -3.1119076  -3.13281213]\n"
     ]
    },
    {
     "data": {
      "image/png": "[encoded data removed]",
      "text/plain": [
       "<matplotlib.figure.Figure at 0x7fe81a245110>"
      ]
     },
     "metadata": {},
     "output_type": "display_data"
    }
   ],
   "source": [
    "plt.plot(az[-5])\n",
    "print az[-5]"
   ]
  },
  {
   "cell_type": "code",
   "execution_count": 168,
   "metadata": {
    "collapsed": false
   },
   "outputs": [
    {
     "data": {
      "text/plain": [
       "<matplotlib.colorbar.Colorbar instance at 0x7f01d2174b48>"
      ]
     },
     "execution_count": 168,
     "metadata": {},
     "output_type": "execute_result"
    },
    {
     "data": {
      "image/png": "[encoded data removed]",
      "text/plain": [
       "<matplotlib.figure.Figure at 0x7f01d297e750>"
      ]
     },
     "metadata": {},
     "output_type": "display_data"
    }
   ],
   "source": [
    "#########################################################################\n",
    "# STIM MAPS:\n",
    "#########################################################################\n",
    "\n",
    "azimuth_phase = np.angle( (leftmap / rightmap) )\n",
    "# azimuth_phase = ( np.angle(leftmap) - np.angle(rightmap) ) / 2. \n",
    "plt.imshow(azimuth_phase, cmap='spectral', vmin=-1*math.pi, vmax=1*math.pi)\n",
    "plt.colorbar()\n",
    "# THIS IS DOUBLE-COLOR-MAPPED, i.e., [from LEFT --> RIGHT] 0 --> -pi, pi --> 0 --> -pi, pi --> 0."
   ]
  },
  {
   "cell_type": "code",
   "execution_count": 172,
   "metadata": {
    "collapsed": false
   },
   "outputs": [
    {
     "data": {
      "image/png": "[encoded data removed]",
      "text/plain": [
       "<matplotlib.figure.Figure at 0x7f01d1fae250>"
      ]
     },
     "metadata": {},
     "output_type": "display_data"
    }
   ],
   "source": [
    "#####################################################\n",
    "# V-LEFT_0 STIMULATION:\n",
    "# ---------------------------------------------------\n",
    "plt.imshow(np.angle(leftmap), cmap='spectral')\n",
    "plt.axis('off')\n",
    "\n",
    "legend_path = '/home/juliana/Repositories/retinotopy-mapper/tests/simulation/V-Left_legend.tif'\n",
    "plt.savefig(legend_path)\n",
    "#####################################################\n",
    "# THIS IS GOING:\n",
    "# 0 (LEFT edge) to -pi, to pi, back to 0"
   ]
  },
  {
   "cell_type": "code",
   "execution_count": 171,
   "metadata": {
    "collapsed": false
   },
   "outputs": [
    {
     "data": {
      "image/png": "[encoded data removed]",
      "text/plain": [
       "<matplotlib.figure.Figure at 0x7f01d2249550>"
      ]
     },
     "metadata": {},
     "output_type": "display_data"
    }
   ],
   "source": [
    "#####################################################\n",
    "# V-RIGHT_0 STIMULATION:\n",
    "# ---------------------------------------------------\n",
    "plt.imshow(np.angle(rightmap), cmap='spectral')\n",
    "plt.axis('off')\n",
    "\n",
    "legend_path = '/home/juliana/Repositories/retinotopy-mapper/tests/simulation/V-Right_legend.tif'\n",
    "plt.savefig(legend_path)\n",
    "#####################################################\n",
    "# THIS IS GOING:\n",
    "# 0 (right edge) to -pi, to pi, back to 0"
   ]
  },
  {
   "cell_type": "code",
   "execution_count": 156,
   "metadata": {
    "collapsed": false
   },
   "outputs": [
    {
     "data": {
      "text/plain": [
       "<matplotlib.colorbar.Colorbar instance at 0x7f01d29a8320>"
      ]
     },
     "execution_count": 156,
     "metadata": {},
     "output_type": "execute_result"
    },
    {
     "data": {
      "image/png": "[encoded data removed]",
      "text/plain": [
       "<matplotlib.figure.Figure at 0x7f02522ade50>"
      ]
     },
     "metadata": {},
     "output_type": "display_data"
    }
   ],
   "source": [
    "azimuth_phase = np.angle(leftmap / rightmap) / 2\n",
    "# azimuth_phase = ( np.angle(leftmap) - np.angle(rightmap) ) / 2. \n",
    "plt.imshow(azimuth_phase, cmap='spectral', vmin=-1*math.pi, vmax=1*math.pi)\n",
    "plt.colorbar()"
   ]
  },
  {
   "cell_type": "code",
   "execution_count": 157,
   "metadata": {
    "collapsed": false
   },
   "outputs": [
    {
     "data": {
      "text/plain": [
       "<matplotlib.colorbar.Colorbar instance at 0x7f01d286e488>"
      ]
     },
     "execution_count": 157,
     "metadata": {},
     "output_type": "execute_result"
    },
    {
     "data": {
      "image/png": "[encoded data removed]",
      "text/plain": [
       "<matplotlib.figure.Figure at 0x7f02524ccdd0>"
      ]
     },
     "metadata": {},
     "output_type": "display_data"
    }
   ],
   "source": [
    "#########################################################################\n",
    "# DELAY MAP:\n",
    "#########################################################################\n",
    "delay_vert = np.angle(leftmap * rightmap) / 2\n",
    "# azimuth_phase = ( np.angle(leftmap) - np.angle(rightmap) ) / 2. \n",
    "plt.imshow(delay_vert, cmap='spectral', vmin=-1*math.pi, vmax=1*math.pi)\n",
    "plt.colorbar()"
   ]
  },
  {
   "cell_type": "code",
   "execution_count": 158,
   "metadata": {
    "collapsed": false
   },
   "outputs": [
    {
     "data": {
      "text/plain": [
       "<matplotlib.text.Text at 0x7f01d27fd610>"
      ]
     },
     "execution_count": 158,
     "metadata": {},
     "output_type": "execute_result"
    },
    {
     "data": {
      "image/png": "[encoded data removed]",
      "text/plain": [
       "<matplotlib.figure.Figure at 0x7f01d28376d0>"
      ]
     },
     "metadata": {},
     "output_type": "display_data"
    }
   ],
   "source": [
    "# azimuth_phase = np.angle(leftmap / rightmap) / 2. \n",
    "# azimuth_phase = ( np.angle(leftmap) - np.angle(rightmap) ) / 2\n",
    "\n",
    "fig = plt.figure()\n",
    "fig.add_subplot(2,2,1)\n",
    "left_phase = np.angle(leftmap)\n",
    "plt.imshow(left_phase, cmap='spectral', vmin=-1*math.pi, vmax=1*math.pi)\n",
    "plt.title('left map')\n",
    "\n",
    "fig.add_subplot(2,2,2)\n",
    "# azimuth_phase = np.angle(leftmap.conjugate()) - delay_vert\n",
    "azimuth_phase = np.angle(leftmap) - delay_vert\n",
    "plt.imshow(azimuth_phase, cmap='spectral', vmin=-1*math.pi, vmax=1*math.pi)\n",
    "# plt.colorbar()\n",
    "plt.title('leftmap shifted by delay')\n",
    "\n",
    "fig.add_subplot(2,2,3)\n",
    "right_phase = np.angle(rightmap)\n",
    "plt.imshow(right_phase, cmap='spectral', vmin=-1*math.pi, vmax=1*math.pi)\n",
    "plt.title('right map')\n",
    "\n",
    "fig.add_subplot(2,2,4)\n",
    "azimuth_phase = np.angle(rightmap.conjugate()) - delay_vert\n",
    "# azimuth_phase = np.angle(rightmap) - delay_vert\n",
    "plt.imshow(azimuth_phase, cmap='spectral', vmin=-1*math.pi, vmax=1*math.pi)\n",
    "# plt.colorbar()\n",
    "plt.title('rightmap shifted by delay')"
   ]
  },
  {
   "cell_type": "code",
   "execution_count": 46,
   "metadata": {
    "collapsed": false
   },
   "outputs": [
    {
     "data": {
      "text/plain": [
       "<matplotlib.colorbar.Colorbar instance at 0x7fe81a88f200>"
      ]
     },
     "execution_count": 46,
     "metadata": {},
     "output_type": "execute_result"
    },
    {
     "data": {
      "image/png": "[encoded data removed]",
      "text/plain": [
       "<matplotlib.figure.Figure at 0x7fe81aacd650>"
      ]
     },
     "metadata": {},
     "output_type": "display_data"
    }
   ],
   "source": [
    "azimuth_phase = np.angle(leftmap / rightmap) / 2. \n",
    "# azimuth_phase = ( np.angle(rightmap) - np.angle(leftmap) ) / 2. \n",
    "plt.imshow(azimuth_phase, cmap='spectral', vmin=-1*math.pi, vmax=1*math.pi)\n",
    "plt.colorbar()"
   ]
  },
  {
   "cell_type": "code",
   "execution_count": 160,
   "metadata": {
    "collapsed": false
   },
   "outputs": [
    {
     "data": {
      "text/plain": [
       "<matplotlib.colorbar.Colorbar instance at 0x7f01d2448368>"
      ]
     },
     "execution_count": 160,
     "metadata": {},
     "output_type": "execute_result"
    },
    {
     "data": {
      "image/png": "[encoded data removed]",
      "text/plain": [
       "<matplotlib.figure.Figure at 0x7f02526bd550>"
      ]
     },
     "metadata": {},
     "output_type": "display_data"
    }
   ],
   "source": [
    "# azimuth_phase = np.angle(leftmap / rightmap) / 2. \n",
    "azimuth_phase = ( np.angle(rightmap) - np.angle(leftmap) ) / 2. \n",
    "# fig=plt.imshow(azimuth_phase, cmap='spectral', vmin=-1*math.pi, vmax=1*math.pi)\n",
    "# cbar = plt.colorbar(fig) \n",
    "# cbar.ax.invert_yaxis()\n",
    "plt.imshow(azimuth_phase, cmap='spectral', vmin=1*math.pi, vmax=-1*math.pi)\n",
    "plt.colorbar()"
   ]
  },
  {
   "cell_type": "code",
   "execution_count": 161,
   "metadata": {
    "collapsed": true
   },
   "outputs": [],
   "source": [
    "###########################################################################################################"
   ]
  },
  {
   "cell_type": "code",
   "execution_count": 162,
   "metadata": {
    "collapsed": false
   },
   "outputs": [],
   "source": [
    "# DONT DO THIS.\n",
    "\n",
    "# ftmap = dict()\n",
    "# # outshape = D[D.keys()[0]]['ft_real'].shape\n",
    "# # print outshape\n",
    "# for curr_key in D.keys():\n",
    "#     outshape = D[curr_key]['ft_real'].shape # WTF, outshape changing based on stim... (but maybe not for actual imaging acquis. data)\n",
    "#     print outshape\n",
    "#     reals = D[curr_key]['ft_real'].ravel()\n",
    "#     imags = D[curr_key]['ft_imag'].ravel()\n",
    "# #     imags = imags*-1.\n",
    "# #     if 'Down' in curr_key:\n",
    "# #         imags = imags*-1\n",
    "# #     if 'Right' in curr_key:\n",
    "# #         imags = imags*-1\n",
    "#     ftmap[curr_key] = [complex(x[0], x[1]) for x in zip(reals, imags)]\n",
    "#     ftmap[curr_key] = np.reshape(np.array(ftmap[curr_key]), outshape)\n"
   ]
  },
  {
   "cell_type": "code",
   "execution_count": 822,
   "metadata": {
    "collapsed": false
   },
   "outputs": [
    {
     "name": "stdout",
     "output_type": "stream",
     "text": [
      "2.0\n",
      "3.0\n",
      "<type 'complex'>\n",
      "2.0 -3.0\n"
     ]
    }
   ],
   "source": [
    "# WTF, why multipling by -1.... imags are just imags!\n",
    "\n",
    "i = 2\n",
    "j = -3\n",
    "c = complex(2,3)\n",
    "# c = 2-3j\n",
    "# print c\n",
    "print c.real\n",
    "print c.imag\n",
    "\n",
    "c = 2-3j\n",
    "print type(c)\n",
    "cr = c.real\n",
    "ci = c.imag\n",
    "print cr, ci"
   ]
  },
  {
   "cell_type": "code",
   "execution_count": null,
   "metadata": {
    "collapsed": true
   },
   "outputs": [],
   "source": [
    "###########################################################################################################"
   ]
  },
  {
   "cell_type": "code",
   "execution_count": 1191,
   "metadata": {
    "collapsed": false
   },
   "outputs": [
    {
     "name": "stdout",
     "output_type": "stream",
     "text": [
      "(0.99807766255210428, 0.99923106502084169, 0.74602077638401709, 1.0)\n"
     ]
    },
    {
     "data": {
      "text/plain": [
       "(0.80000000000000004, 0.80000000000000004, 0.80000000000000004, 1.0)"
      ]
     },
     "execution_count": 1191,
     "metadata": {},
     "output_type": "execute_result"
    }
   ],
   "source": [
    "import matplotlib\n",
    "\n",
    "cmap = matplotlib.cm.get_cmap('Spectral')\n",
    "\n",
    "rgba = cmap(0.5)\n",
    "print(rgba)\n",
    "\n",
    "from matplotlib import cm\n"
   ]
  },
  {
   "cell_type": "code",
   "execution_count": 1234,
   "metadata": {
    "collapsed": false
   },
   "outputs": [
    {
     "name": "stdout",
     "output_type": "stream",
     "text": [
      "[480, 300]\n"
     ]
    }
   ],
   "source": [
    "# map_shape = leftmap.shape\n",
    "# screen_legend = np.zeros(map_shape)\n",
    "\n",
    "screen_size = [int(i*0.25) for i in winsize]\n",
    "print screen_size\n",
    "screen_legend = np.zeros((screen_size[1], screen_size[0]))\n",
    "\n",
    "VERT = 1\n",
    "left = 1\n",
    "\n",
    "if VERT: \n",
    "    if left:\n",
    "        # First, set half the screen width (0 to 239 = to 0 to -pi)\n",
    "        nspaces_start = np.linspace(0, -1*math.pi, screen_size[0]/2)\n",
    "        for i in range(screen_size[1]):\n",
    "            screen_legend[i][0:screen_size[0]/2] = nspaces_start\n",
    "        # Then, set right side of screen (240 to end = to pi to 0)\n",
    "        nspaces_end = np.linspace(1*math.pi, 0, screen_size[0]/2)\n",
    "        for i in range(screen_size[1]):\n",
    "            screen_legend[i][screen_size[0]/2:] = nspaces_end\n",
    "    if right:\n",
    "        # First, set half the screen width (0 to 239 = to 0 to -pi)\n",
    "        nspaces_start = np.linspace(0, 1*math.pi, screen_size[0]/2)\n",
    "        for i in range(screen_size[1]):\n",
    "            screen_legend[i][0:screen_size[0]/2] = nspaces_start\n",
    "        # Then, set right side of screen (240 to end = to pi to 0)\n",
    "        nspaces_end = np.linspace(-1*math.pi, 0, screen_size[0]/2)\n",
    "        for i in range(screen_size[1]):\n",
    "            screen_legend[i][screen_size[0]/2:] = nspaces_end\n",
    "\n",
    "if HORZ:\n",
    "    if up:\n",
    "        # First, set half the screen width (0 to 239 = to 0 to -pi)\n",
    "        nspaces_start = np.linspace(0, -1*math.pi, screen_size[0]/2)\n",
    "        for i in range(screen_size[0]):\n",
    "            screen_legend[i][0:screen_size[0]/2] = nspaces_start\n",
    "        # Then, set right side of screen (240 to end = to pi to 0)\n",
    "        nspaces_end = np.linspace(1*math.pi, 0, screen_size[0]/2)\n",
    "        for i in range(screen_size[1]):\n",
    "            screen_legend[i][screen_size[0]/2:] = nspaces_end\n",
    "    if right:\n",
    "        # First, set half the screen width (0 to 239 = to 0 to -pi)\n",
    "        nspaces_start = np.linspace(0, 1*math.pi, screen_size[0]/2)\n",
    "        for i in range(screen_size[1]):\n",
    "            screen_legend[i][0:screen_size[0]/2] = nspaces_start\n",
    "        # Then, set right side of screen (240 to end = to pi to 0)\n",
    "        nspaces_end = np.linspace(-1*math.pi, 0, screen_size[0]/2)\n",
    "        for i in range(screen_size[1]):\n",
    "            screen_legend[i][screen_size[0]/2:] = nspaces_end\n",
    "\n",
    "plt.imshow(screen_legend, cmap='spectral')"
   ]
  },
  {
   "cell_type": "code",
   "execution_count": 1235,
   "metadata": {
    "collapsed": false
   },
   "outputs": [
    {
     "data": {
      "text/plain": [
       "<matplotlib.image.AxesImage at 0x7f3d6fc14f50>"
      ]
     },
     "execution_count": 1235,
     "metadata": {},
     "output_type": "execute_result"
    },
    {
     "data": {
      "image/png": "[encoded data removed]",
      "text/plain": [
       "<matplotlib.figure.Figure at 0x7f3d6fc9ab90>"
      ]
     },
     "metadata": {},
     "output_type": "display_data"
    }
   ],
   "source": [
    "###################################################\n",
    "# V-LEFT:\n",
    "###################################################\n",
    "\n",
    "plt.imshow(screen_legend, cmap='spectral')"
   ]
  },
  {
   "cell_type": "code",
   "execution_count": 1233,
   "metadata": {
    "collapsed": false
   },
   "outputs": [
    {
     "data": {
      "text/plain": [
       "0.0"
      ]
     },
     "execution_count": 1233,
     "metadata": {},
     "output_type": "execute_result"
    }
   ],
   "source": [
    "screen_legend[i][240]"
   ]
  },
  {
   "cell_type": "code",
   "execution_count": 1221,
   "metadata": {
    "collapsed": false
   },
   "outputs": [
    {
     "data": {
      "text/plain": [
       "(480,)"
      ]
     },
     "execution_count": 1221,
     "metadata": {},
     "output_type": "execute_result"
    }
   ],
   "source": [
    "screen_legend[i].shape"
   ]
  },
  {
   "cell_type": "code",
   "execution_count": 1240,
   "metadata": {
    "collapsed": false
   },
   "outputs": [
    {
     "name": "stdout",
     "output_type": "stream",
     "text": [
      "[480, 300]\n"
     ]
    }
   ],
   "source": [
    "screen_size = [int(i*0.25) for i in winsize]\n",
    "print screen_size\n",
    "screen_legend = np.zeros((screen_size[1], screen_size[0]))\n",
    "\n",
    "VERT = 1\n",
    "left = 0\n",
    "\n",
    "HORZ = 0\n",
    "up = 1\n",
    "\n",
    "if VERT: \n",
    "    if left:\n",
    "        # First, set half the screen width (0 to 239 = to 0 to -pi)\n",
    "        nspaces_start = np.linspace(0, -1*math.pi, screen_size[0]/2)\n",
    "        for i in range(screen_size[1]):\n",
    "            screen_legend[i][0:screen_size[0]/2] = nspaces_start\n",
    "        # Then, set right side of screen (240 to end = to pi to 0)\n",
    "        nspaces_end = np.linspace(1*math.pi, 0, screen_size[0]/2)\n",
    "        for i in range(screen_size[1]):\n",
    "            screen_legend[i][screen_size[0]/2:] = nspaces_end\n",
    "    else:\n",
    "        # First, set half the screen width (0 to 239 = to 0 to -pi)\n",
    "        nspaces_start = np.linspace(0, 1*math.pi, screen_size[0]/2)\n",
    "        for i in range(screen_size[1]):\n",
    "            screen_legend[i][0:screen_size[0]/2] = nspaces_start\n",
    "        # Then, set right side of screen (240 to end = to pi to 0)\n",
    "        nspaces_end = np.linspace(-1*math.pi, 0, screen_size[0]/2)\n",
    "        for i in range(screen_size[1]):\n",
    "            screen_legend[i][screen_size[0]/2:] = nspaces_end\n",
    "\n",
    "if HORZ:\n",
    "    if up:\n",
    "        # First, set half the screen width (0 to 239 = to 0 to -pi)\n",
    "        nspaces_start = np.linspace(0, -1*math.pi, screen_size[0]/2)\n",
    "        for i in range(screen_size[0]):\n",
    "            screen_legend[i][0:screen_size[0]/2] = nspaces_start\n",
    "        # Then, set right side of screen (240 to end = to pi to 0)\n",
    "        nspaces_end = np.linspace(1*math.pi, 0, screen_size[0]/2)\n",
    "        for i in range(screen_size[1]):\n",
    "            screen_legend[i][screen_size[0]/2:] = nspaces_end\n",
    "    else:\n",
    "        # First, set half the screen width (0 to 239 = to 0 to -pi)\n",
    "        nspaces_start = np.linspace(0, 1*math.pi, screen_size[0]/2)\n",
    "        for i in range(screen_size[1]):\n",
    "            screen_legend[i][0:screen_size[0]/2] = nspaces_start\n",
    "        # Then, set right side of screen (240 to end = to pi to 0)\n",
    "        nspaces_end = np.linspace(-1*math.pi, 0, screen_size[0]/2)\n",
    "        for i in range(screen_size[1]):\n",
    "            screen_legend[i][screen_size[0]/2:] = nspaces_end\n"
   ]
  },
  {
   "cell_type": "code",
   "execution_count": 1241,
   "metadata": {
    "collapsed": false
   },
   "outputs": [
    {
     "data": {
      "text/plain": [
       "<matplotlib.image.AxesImage at 0x7f3d6f302ad0>"
      ]
     },
     "execution_count": 1241,
     "metadata": {},
     "output_type": "execute_result"
    },
    {
     "data": {
      "image/png": "[encoded data removed]",
      "text/plain": [
       "<matplotlib.figure.Figure at 0x7f3d6f758490>"
      ]
     },
     "metadata": {},
     "output_type": "display_data"
    }
   ],
   "source": [
    "###################################################\n",
    "# V-RIGHT:\n",
    "###################################################\n",
    "\n",
    "plt.imshow(screen_legend, cmap='spectral')\n"
   ]
  },
  {
   "cell_type": "code",
   "execution_count": null,
   "metadata": {
    "collapsed": true
   },
   "outputs": [],
   "source": []
  }
 ],
 "metadata": {
  "kernelspec": {
   "display_name": "Python 2",
   "language": "python",
   "name": "python2"
  },
  "language_info": {
   "codemirror_mode": {
    "name": "ipython",
    "version": 2
   },
   "file_extension": ".py",
   "mimetype": "text/x-python",
   "name": "python",
   "nbconvert_exporter": "python",
   "pygments_lexer": "ipython2",
   "version": "2.7.11"
  }
 },
 "nbformat": 4,
 "nbformat_minor": 0
}
