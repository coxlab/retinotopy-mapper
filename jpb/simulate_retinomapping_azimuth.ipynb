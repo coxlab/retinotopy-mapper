{
 "cells": [
  {
   "cell_type": "code",
   "execution_count": 8,
   "metadata": {
    "collapsed": true
   },
   "outputs": [],
   "source": [
    "import numpy as np\n",
    "import os\n",
    "from skimage.measure import block_reduce\n",
    "from scipy.misc import imread\n",
    "import cPickle as pkl\n",
    "import scipy.signal\n",
    "import numpy.fft as fft\n",
    "import sys\n",
    "import optparse\n",
    "from libtiff import TIFF\n",
    "from PIL import Image\n",
    "import re\n",
    "import itertools\n",
    "from scipy import ndimage\n",
    "import pandas as pd\n",
    "import matplotlib.pyplot as plt"
   ]
  },
  {
   "cell_type": "code",
   "execution_count": 9,
   "metadata": {
    "collapsed": true
   },
   "outputs": [],
   "source": [
    "def atoi(text):\n",
    "    return int(text) if text.isdigit() else text\n",
    "\n",
    "def natural_keys(text):\n",
    "    return [ atoi(c) for c in re.split('(\\d+)', text) ]"
   ]
  },
  {
   "cell_type": "code",
   "execution_count": 10,
   "metadata": {
    "collapsed": true
   },
   "outputs": [],
   "source": [
    "# imdir = '/media/juliana/MAC/data/JR009/20150625/20150625_JR009_500um_0050Hz/V-Left_0'\n",
    "\n",
    "imdir = '/media/nas/volume1/widefield/data/CE004/20160203/anesthetized_bar_0013/V-Right_1'"
   ]
  },
  {
   "cell_type": "code",
   "execution_count": 2,
   "metadata": {
    "collapsed": true
   },
   "outputs": [],
   "source": [
    "# imdir = '/media/juliana/MAC/data/JR009/20150625/20150625_JR009_500um_0050Hz/V-Right_0'"
   ]
  },
  {
   "cell_type": "code",
   "execution_count": 14,
   "metadata": {
    "collapsed": true
   },
   "outputs": [],
   "source": [
    "im_format = '.tif'"
   ]
  },
  {
   "cell_type": "code",
   "execution_count": 15,
   "metadata": {
    "collapsed": false
   },
   "outputs": [],
   "source": [
    "# target_freq = 0.05"
   ]
  },
  {
   "cell_type": "code",
   "execution_count": 17,
   "metadata": {
    "collapsed": true
   },
   "outputs": [],
   "source": [
    "# reduce_factor = (2, 2)\n",
    "reduce_factor = (1, 1)"
   ]
  },
  {
   "cell_type": "code",
   "execution_count": 18,
   "metadata": {
    "collapsed": false
   },
   "outputs": [],
   "source": [
    "sampling_rate = 60.0"
   ]
  },
  {
   "cell_type": "code",
   "execution_count": 19,
   "metadata": {
    "collapsed": true
   },
   "outputs": [],
   "source": [
    "cycle_dur = 1. / target_freq"
   ]
  },
  {
   "cell_type": "code",
   "execution_count": 20,
   "metadata": {
    "collapsed": true
   },
   "outputs": [],
   "source": [
    "from IPython.display import Image, display"
   ]
  },
  {
   "cell_type": "code",
   "execution_count": 21,
   "metadata": {
    "collapsed": false
   },
   "outputs": [
    {
     "data": {
      "text/plain": [
       "20.0"
      ]
     },
     "metadata": {},
     "output_type": "display_data"
    }
   ],
   "source": [
    "display(cycle_dur)"
   ]
  },
  {
   "cell_type": "code",
   "execution_count": 22,
   "metadata": {
    "collapsed": false
   },
   "outputs": [],
   "source": [
    "basepath = os.path.split(os.path.split(imdir)[0])[0]\n",
    "session = os.path.split(os.path.split(imdir)[0])[1]\n",
    "cond = os.path.split(imdir)[1]"
   ]
  },
  {
   "cell_type": "code",
   "execution_count": 23,
   "metadata": {
    "collapsed": false
   },
   "outputs": [
    {
     "data": {
      "text/plain": [
       "'/media/nas/volume1/widefield/data/CE004/20160203'"
      ]
     },
     "metadata": {},
     "output_type": "display_data"
    },
    {
     "data": {
      "text/plain": [
       "'anesthetized_bar_0013'"
      ]
     },
     "metadata": {},
     "output_type": "display_data"
    },
    {
     "data": {
      "text/plain": [
       "'V-Right_1'"
      ]
     },
     "metadata": {},
     "output_type": "display_data"
    }
   ],
   "source": [
    "display(basepath); display(session); display(cond)"
   ]
  },
  {
   "cell_type": "code",
   "execution_count": 24,
   "metadata": {
    "collapsed": false
   },
   "outputs": [
    {
     "name": "stdout",
     "output_type": "stream",
     "text": [
      "9232\n",
      "9232\n",
      "002_20160203155619321493_0_0_2deg_[107.55963873256827, 6.58612836456427e-15].tif\n"
     ]
    }
   ],
   "source": [
    "files = os.listdir(imdir)\n",
    "print len(files)\n",
    "files = sorted([f for f in files if os.path.splitext(f)[1] == str(im_format)])\n",
    "print len(files)\n",
    "print files[0]"
   ]
  },
  {
   "cell_type": "code",
   "execution_count": 25,
   "metadata": {
    "collapsed": false
   },
   "outputs": [
    {
     "name": "stdout",
     "output_type": "stream",
     "text": [
      "sample type: float64, range: [972.0, 38.0]\n",
      "sample shape: (164, 218)\n"
     ]
    },
    {
     "data": {
      "text/plain": [
       "<matplotlib.image.AxesImage at 0x7fc377725810>"
      ]
     },
     "execution_count": 25,
     "metadata": {},
     "output_type": "execute_result"
    },
    {
     "data": {
      "image/png": "[encoded data removed]",
      "text/plain": [
       "<matplotlib.figure.Figure at 0x7fc391384610>"
      ]
     },
     "metadata": {},
     "output_type": "display_data"
    }
   ],
   "source": [
    "%matplotlib inline\n",
    "tiff = TIFF.open(os.path.join(imdir, files[0]), mode='r')\n",
    "sample = tiff.read_image().astype('float')\n",
    "print \"sample type: %s, range: %s\" % (sample.dtype, str([sample.max(), sample.min()]))\n",
    "print \"sample shape: %s\" % str(sample.shape)\n",
    "tiff.close()\n",
    "plt.imshow(sample, cmap='gray')"
   ]
  },
  {
   "cell_type": "code",
   "execution_count": 26,
   "metadata": {
    "collapsed": false
   },
   "outputs": [],
   "source": [
    "# FIND CYCLE STARTS:\n",
    "positions = [re.findall(\"\\[([^[\\]]*)\\]\", f) for f in files]\n",
    "plist = list(itertools.chain.from_iterable(positions))\n",
    "positions = [map(float, i.split(',')) for i in plist]"
   ]
  },
  {
   "cell_type": "code",
   "execution_count": 27,
   "metadata": {
    "collapsed": false
   },
   "outputs": [
    {
     "data": {
      "text/plain": [
       "[107.55963873256827, 6.58612836456427e-15]"
      ]
     },
     "metadata": {},
     "output_type": "display_data"
    },
    {
     "data": {
      "text/plain": [
       "9232"
      ]
     },
     "execution_count": 27,
     "metadata": {},
     "output_type": "execute_result"
    }
   ],
   "source": [
    "display(positions[0]); len(positions)"
   ]
  },
  {
   "cell_type": "code",
   "execution_count": 28,
   "metadata": {
    "collapsed": true
   },
   "outputs": [],
   "source": [
    "if 'H-Up' in cond:\n",
    "    find_cycs = list(itertools.chain.from_iterable(\n",
    "        np.where(np.diff([p[1] for p in positions]) < 0)))\n",
    "    moveX = 0\n",
    "    condType = 4\n",
    "    \n",
    "if 'H-Down' in cond:\n",
    "    find_cycs = list(itertools.chain.from_iterable(\n",
    "        np.where(np.diff([p[1] for p in positions]) > 0)))\n",
    "    moveX = 0\n",
    "    condType = 3\n",
    "    \n",
    "if 'V-Left' in cond:\n",
    "    find_cycs = list(itertools.chain.from_iterable(\n",
    "        np.where(np.diff([p[0] for p in positions]) < 0)))\n",
    "    moveX = 1\n",
    "    condType = 1\n",
    "    \n",
    "if 'V-Right' in cond:\n",
    "    find_cycs = list(itertools.chain.from_iterable(\n",
    "        np.where(np.diff([p[0] for p in positions]) > 0)))\n",
    "    moveX = 1\n",
    "    condType = 2\n",
    "    \n",
    "idxs = [i + 1 for i in find_cycs]\n",
    "idxs.append(0)\n",
    "idxs.append(len(positions))\n",
    "idxs = sorted(idxs)\n",
    "nframes_per_cycle = [idxs[i] - idxs[i - 1] for i in range(1, len(idxs))]"
   ]
  },
  {
   "cell_type": "code",
   "execution_count": 29,
   "metadata": {
    "collapsed": false
   },
   "outputs": [
    {
     "data": {
      "text/plain": [
       "[0,\n",
       " 462,\n",
       " 924,\n",
       " 1385,\n",
       " 1847,\n",
       " 2308,\n",
       " 2770,\n",
       " 3231,\n",
       " 3693,\n",
       " 4154,\n",
       " 4616,\n",
       " 5078,\n",
       " 5539,\n",
       " 6001,\n",
       " 6462,\n",
       " 6924,\n",
       " 7385,\n",
       " 7847,\n",
       " 8308,\n",
       " 8770,\n",
       " 9232]"
      ]
     },
     "metadata": {},
     "output_type": "display_data"
    }
   ],
   "source": [
    "display(idxs)"
   ]
  },
  {
   "cell_type": "code",
   "execution_count": 30,
   "metadata": {
    "collapsed": false
   },
   "outputs": [
    {
     "data": {
      "text/plain": [
       "[462,\n",
       " 462,\n",
       " 461,\n",
       " 462,\n",
       " 461,\n",
       " 462,\n",
       " 461,\n",
       " 462,\n",
       " 461,\n",
       " 462,\n",
       " 462,\n",
       " 461,\n",
       " 462,\n",
       " 461,\n",
       " 462,\n",
       " 461,\n",
       " 462,\n",
       " 461,\n",
       " 462,\n",
       " 462]"
      ]
     },
     "metadata": {},
     "output_type": "display_data"
    }
   ],
   "source": [
    "display(nframes_per_cycle) # 0.05 cyc/sec, 20sec * 60Hz fps = 1200 frames per cycle (and, 1200*20 cycles=24k frames total )"
   ]
  },
  {
   "cell_type": "code",
   "execution_count": 31,
   "metadata": {
    "collapsed": false
   },
   "outputs": [
    {
     "data": {
      "text/plain": [
       "[[107.55963873256827, 6.58612836456427e-15],\n",
       " [107.44606818564264, 6.5791741742257764e-15],\n",
       " [106.99137453449657, 6.551332218002343e-15],\n",
       " [106.52914181122361, 6.523028626751473e-15],\n",
       " [106.06815675129559, 6.494801432846693e-15]]"
      ]
     },
     "execution_count": 31,
     "metadata": {},
     "output_type": "execute_result"
    }
   ],
   "source": [
    "positions[0:5]"
   ]
  },
  {
   "cell_type": "code",
   "execution_count": 32,
   "metadata": {
    "collapsed": false
   },
   "outputs": [
    {
     "data": {
      "text/plain": [
       "[[-18.59026915773555, -1.1383256809654302e-15],\n",
       " [-19.055375488606174, -1.166805229933624e-15],\n",
       " [-19.519001878381488, -1.1951941586455533e-15],\n",
       " [-19.982827363371385, -1.2235952784233456e-15],\n",
       " [-20.44701121974761, -1.2520183421196964e-15]]"
      ]
     },
     "execution_count": 32,
     "metadata": {},
     "output_type": "execute_result"
    }
   ],
   "source": [
    "positions[1195:1200] # idx[1] = 1198, i.e., start of cycle 2"
   ]
  },
  {
   "cell_type": "code",
   "execution_count": 33,
   "metadata": {
    "collapsed": true
   },
   "outputs": [],
   "source": [
    "from psychopy import visual, event, core, monitors, logging, tools"
   ]
  },
  {
   "cell_type": "code",
   "execution_count": 34,
   "metadata": {
    "collapsed": true
   },
   "outputs": [],
   "source": [
    "monitor_list = monitors.getAllMonitors()"
   ]
  },
  {
   "cell_type": "code",
   "execution_count": 35,
   "metadata": {
    "collapsed": false
   },
   "outputs": [
    {
     "data": {
      "text/plain": [
       "[u'AQUOS', u'testMonitor', u'BenQtest', u'syncmaster2433BW']"
      ]
     },
     "execution_count": 35,
     "metadata": {},
     "output_type": "execute_result"
    }
   ],
   "source": [
    "monitor_list"
   ]
  },
  {
   "cell_type": "code",
   "execution_count": 144,
   "metadata": {
    "collapsed": true
   },
   "outputs": [],
   "source": [
    "whichMonitor = 'AQUOS'\n",
    "# whichMonitor = 'syncmaster2433BW'\n"
   ]
  },
  {
   "cell_type": "code",
   "execution_count": 145,
   "metadata": {
    "collapsed": true
   },
   "outputs": [],
   "source": [
    "winsize = monitors.Monitor(whichMonitor).getSizePix()"
   ]
  },
  {
   "cell_type": "code",
   "execution_count": 146,
   "metadata": {
    "collapsed": false
   },
   "outputs": [
    {
     "data": {
      "text/plain": [
       "[1360, 768]"
      ]
     },
     "execution_count": 146,
     "metadata": {},
     "output_type": "execute_result"
    }
   ],
   "source": [
    "winsize"
   ]
  },
  {
   "cell_type": "code",
   "execution_count": 147,
   "metadata": {
    "collapsed": false
   },
   "outputs": [
    {
     "name": "stdout",
     "output_type": "stream",
     "text": [
      "[213.11945001432255, 120.34980706691158]\n"
     ]
    }
   ],
   "source": [
    "screen_width_cm = monitors.Monitor(whichMonitor).getWidth()\n",
    "screen_height_cm = (float(screen_width_cm)/monitors.Monitor(whichMonitor).getSizePix()[0])*monitors.Monitor(whichMonitor).getSizePix()[1]\n",
    "\n",
    "screen_width_deg = tools.monitorunittools.cm2deg(screen_width_cm, monitors.Monitor(whichMonitor))\n",
    "screen_height_deg = tools.monitorunittools.cm2deg(screen_height_cm, monitors.Monitor(whichMonitor))\n",
    "\n",
    "print [screen_width_deg, screen_height_deg]\n"
   ]
  },
  {
   "cell_type": "code",
   "execution_count": 72,
   "metadata": {
    "collapsed": false
   },
   "outputs": [],
   "source": [
    "win = visual.Window(fullscr=True, rgb=-1, size=winsize, units='deg', monitor=whichMonitor)"
   ]
  },
  {
   "cell_type": "code",
   "execution_count": 73,
   "metadata": {
    "collapsed": false
   },
   "outputs": [
    {
     "name": "stdout",
     "output_type": "stream",
     "text": [
      "5.3314 \tWARNING \tUse of rgb arguments to stimuli are deprecated. Please use color and colorSpace args instead\n",
      "5.3319 \tWARNING \tUser requested fullscreen with size [1920 1200], but screen is actually [2560, 1440]. Using actual size\n"
     ]
    }
   ],
   "source": [
    "win.close()"
   ]
  },
  {
   "cell_type": "code",
   "execution_count": 74,
   "metadata": {
    "collapsed": true
   },
   "outputs": [],
   "source": [
    "cyc_per_sec = 0.05"
   ]
  },
  {
   "cell_type": "code",
   "execution_count": 111,
   "metadata": {
    "collapsed": true
   },
   "outputs": [],
   "source": [
    "screen_width_cm = monitors.Monitor(whichMonitor).getWidth()"
   ]
  },
  {
   "cell_type": "code",
   "execution_count": 112,
   "metadata": {
    "collapsed": true
   },
   "outputs": [],
   "source": [
    "screen_height_cm = (float(screen_width_cm)/monitors.Monitor(whichMonitor).getSizePix()[0])*monitors.Monitor(whichMonitor).getSizePix()[1]"
   ]
  },
  {
   "cell_type": "code",
   "execution_count": 113,
   "metadata": {
    "collapsed": false
   },
   "outputs": [
    {
     "data": {
      "text/plain": [
       "51.52"
      ]
     },
     "metadata": {},
     "output_type": "display_data"
    },
    {
     "data": {
      "text/plain": [
       "32.2"
      ]
     },
     "metadata": {},
     "output_type": "display_data"
    }
   ],
   "source": [
    "display(screen_width_cm); display(screen_height_cm)"
   ]
  },
  {
   "cell_type": "code",
   "execution_count": 114,
   "metadata": {
    "collapsed": false
   },
   "outputs": [
    {
     "data": {
      "text/plain": [
       "51.52"
      ]
     },
     "metadata": {},
     "output_type": "display_data"
    }
   ],
   "source": [
    "total_length = max([screen_width_cm, screen_height_cm]); display(total_length)"
   ]
  },
  {
   "cell_type": "code",
   "execution_count": 115,
   "metadata": {
    "collapsed": true
   },
   "outputs": [],
   "source": [
    "fps = 60."
   ]
  },
  {
   "cell_type": "code",
   "execution_count": 50,
   "metadata": {
    "collapsed": false
   },
   "outputs": [
    {
     "ename": "NameError",
     "evalue": "name 'cyc_per_sec' is not defined",
     "output_type": "error",
     "traceback": [
      "\u001b[1;31m---------------------------------------------------------------------------\u001b[0m",
      "\u001b[1;31mNameError\u001b[0m                                 Traceback (most recent call last)",
      "\u001b[1;32m<ipython-input-50-a9e2969c5c98>\u001b[0m in \u001b[0;36m<module>\u001b[1;34m()\u001b[0m\n\u001b[1;32m----> 1\u001b[1;33m \u001b[0mtotal_time\u001b[0m \u001b[1;33m=\u001b[0m \u001b[0mtotal_length\u001b[0m\u001b[1;33m/\u001b[0m\u001b[1;33m(\u001b[0m\u001b[0mtotal_length\u001b[0m\u001b[1;33m*\u001b[0m\u001b[0mcyc_per_sec\u001b[0m\u001b[1;33m)\u001b[0m\u001b[1;33m\u001b[0m\u001b[0m\n\u001b[0m",
      "\u001b[1;31mNameError\u001b[0m: name 'cyc_per_sec' is not defined"
     ]
    }
   ],
   "source": [
    "total_time = total_length/(total_length*cyc_per_sec)"
   ]
  },
  {
   "cell_type": "code",
   "execution_count": 81,
   "metadata": {
    "collapsed": false
   },
   "outputs": [],
   "source": [
    "frames_per_cycle = fps/cyc_per_sec"
   ]
  },
  {
   "cell_type": "code",
   "execution_count": 82,
   "metadata": {
    "collapsed": false
   },
   "outputs": [
    {
     "data": {
      "text/plain": [
       "1200.0"
      ]
     },
     "metadata": {},
     "output_type": "display_data"
    }
   ],
   "source": [
    "display(frames_per_cycle)"
   ]
  },
  {
   "cell_type": "code",
   "execution_count": 83,
   "metadata": {
    "collapsed": true
   },
   "outputs": [],
   "source": [
    "distance = monitors.Monitor(whichMonitor).getDistance()"
   ]
  },
  {
   "cell_type": "code",
   "execution_count": 84,
   "metadata": {
    "collapsed": true
   },
   "outputs": [],
   "source": [
    "num_seq_reps = 1."
   ]
  },
  {
   "cell_type": "code",
   "execution_count": 85,
   "metadata": {
    "collapsed": false
   },
   "outputs": [],
   "source": [
    "duration = total_time*num_seq_reps"
   ]
  },
  {
   "cell_type": "code",
   "execution_count": 86,
   "metadata": {
    "collapsed": false
   },
   "outputs": [
    {
     "data": {
      "text/plain": [
       "19.999999999999996"
      ]
     },
     "metadata": {},
     "output_type": "display_data"
    }
   ],
   "source": [
    "display(duration)"
   ]
  },
  {
   "cell_type": "code",
   "execution_count": 51,
   "metadata": {
    "collapsed": true
   },
   "outputs": [],
   "source": [
    "barWidth = 1"
   ]
  },
  {
   "cell_type": "code",
   "execution_count": 151,
   "metadata": {
    "collapsed": true
   },
   "outputs": [],
   "source": [
    "longside = tools.monitorunittools.cm2deg(screen_height_cm, monitors.Monitor(whichMonitor))"
   ]
  },
  {
   "cell_type": "code",
   "execution_count": 152,
   "metadata": {
    "collapsed": false
   },
   "outputs": [
    {
     "data": {
      "text/plain": [
       "120.34980706691158"
      ]
     },
     "metadata": {},
     "output_type": "display_data"
    }
   ],
   "source": [
    "display(longside)"
   ]
  },
  {
   "cell_type": "code",
   "execution_count": 153,
   "metadata": {
    "collapsed": true
   },
   "outputs": [],
   "source": [
    "width_deg = tools.monitorunittools.cm2deg(screen_width_cm, monitors.Monitor(whichMonitor))"
   ]
  },
  {
   "cell_type": "code",
   "execution_count": 154,
   "metadata": {
    "collapsed": false
   },
   "outputs": [
    {
     "data": {
      "text/plain": [
       "213.11945001432255"
      ]
     },
     "metadata": {},
     "output_type": "display_data"
    }
   ],
   "source": [
    "display(width_deg)"
   ]
  },
  {
   "cell_type": "code",
   "execution_count": 155,
   "metadata": {
    "collapsed": false
   },
   "outputs": [],
   "source": [
    "# [screen_width, screen_height_cm] = [93.0, 52.517647058823535]\n",
    "# winsize (pixels) = [1360, 768]\n",
    "# [width_deg, height_deg] = [213.11945001432255, 120.34980706691158]\n",
    "# Looks like aspect ratio is constant, phew.\n",
    "\n",
    "# 213.11945001432255/120.34980706691158\n",
    "# 1360/768.\n",
    "# 93.0/52.517647058823535"
   ]
  },
  {
   "cell_type": "code",
   "execution_count": 156,
   "metadata": {
    "collapsed": false
   },
   "outputs": [
    {
     "data": {
      "text/plain": [
       "106.55972500716128"
      ]
     },
     "metadata": {},
     "output_type": "display_data"
    }
   ],
   "source": [
    "travelDist = width_deg*0.5; display(travelDist)"
   ]
  },
  {
   "cell_type": "code",
   "execution_count": 157,
   "metadata": {
    "collapsed": false
   },
   "outputs": [
    {
     "data": {
      "text/plain": [
       "118.0635920939559"
      ]
     },
     "metadata": {},
     "output_type": "display_data"
    }
   ],
   "source": [
    "total_length_deg = tools.monitorunittools.cm2deg(total_length, monitors.Monitor(whichMonitor)); display(total_length_deg)"
   ]
  },
  {
   "cell_type": "code",
   "execution_count": 158,
   "metadata": {
    "collapsed": false
   },
   "outputs": [
    {
     "data": {
      "text/plain": [
       "(120.34980706691158, 1)"
      ]
     },
     "metadata": {},
     "output_type": "display_data"
    }
   ],
   "source": [
    "stimSize = (longside,barWidth); display(stimSize)"
   ]
  },
  {
   "cell_type": "code",
   "execution_count": 96,
   "metadata": {
    "collapsed": false
   },
   "outputs": [
    {
     "data": {
      "text/plain": [
       "73.78974505872245"
      ]
     },
     "metadata": {},
     "output_type": "display_data"
    }
   ],
   "source": [
    "uStartPoint = travelDist; display(uStartPoint) # this is just 0.5 of the travel dimension"
   ]
  },
  {
   "cell_type": "code",
   "execution_count": 97,
   "metadata": {
    "collapsed": false
   },
   "outputs": [
    {
     "name": "stdout",
     "output_type": "stream",
     "text": [
      "1\n",
      "1\n"
     ]
    }
   ],
   "source": [
    "# SPECIFICY CONDITION TYPES:\n",
    "print condType\n",
    "if condType == 1:\n",
    "    orientation = 1 # 1 = VERTICAL, 0 = horizontal\n",
    "    direction = 1 # 1 = start from LEFT or BOTTOM (neg-->pos), 0 = start RIGHT or TOP (pos-->neg)\n",
    "    # as of 04/2016, this means FROM neg TO pos (left-->right {cond1: V-Left} or bottom-->top {cond4: H-Up})\n",
    "\n",
    "elif condType == 2:\n",
    "    orientation = 1 # vertical\n",
    "    direction = 0 # start from RIGHT\n",
    "\n",
    "elif condType == 3:\n",
    "    orientation = 0 # horizontal\n",
    "    direction = 0 # start from TOP\n",
    "\n",
    "elif condType == 4:\n",
    "    orientation = 0 # horizontal\n",
    "    direction = 1 # start from BOTTOM\n",
    "\n",
    "centerPoint = [0,0] #center of screen is [0,0] (degrees).\n",
    "print direction\n",
    "if direction==1: # START FROM NEG, go POS (start left-->right, or start bottom-->top)\n",
    "    startSign = -1\n",
    "else:\n",
    "    startSign = 1"
   ]
  },
  {
   "cell_type": "code",
   "execution_count": 98,
   "metadata": {
    "collapsed": false
   },
   "outputs": [
    {
     "data": {
      "text/plain": [
       "-73.28974505872245"
      ]
     },
     "metadata": {},
     "output_type": "display_data"
    }
   ],
   "source": [
    "startPoint = startSign*uStartPoint +barWidth*0.5; display(startPoint)"
   ]
  },
  {
   "cell_type": "code",
   "execution_count": 99,
   "metadata": {
    "collapsed": false
   },
   "outputs": [
    {
     "data": {
      "text/plain": [
       "72.78974505872245"
      ]
     },
     "metadata": {},
     "output_type": "display_data"
    }
   ],
   "source": [
    "endPoint = -1*(startPoint + startSign*(total_length_deg*0.5-uStartPoint - barWidth*0.5)); display(endPoint)"
   ]
  },
  {
   "cell_type": "code",
   "execution_count": 100,
   "metadata": {
    "collapsed": false
   },
   "outputs": [
    {
     "data": {
      "text/plain": [
       "147.5794901174449"
      ]
     },
     "execution_count": 100,
     "metadata": {},
     "output_type": "execute_result"
    }
   ],
   "source": [
    "total_length_deg# *0.5-uStartPoint"
   ]
  },
  {
   "cell_type": "code",
   "execution_count": 101,
   "metadata": {
    "collapsed": false
   },
   "outputs": [
    {
     "data": {
      "text/plain": [
       "-73.78974505872245"
      ]
     },
     "execution_count": 101,
     "metadata": {},
     "output_type": "execute_result"
    }
   ],
   "source": [
    "startPoint + startSign*(total_length_deg*0.5-uStartPoint + barWidth*0.5) # should be ADDING barWidth (to start AND end off screen...)\n",
    "# This formulation follows the leading edge of the bar, with the edge starting offscreen and ending at the opposite side, with the caaveat\n",
    "# that at the end of the cycle (V-Left), we have the cycle ending w/ the bar ON screen...\n",
    "\n",
    "# ACTUALLY, this is wrong:  startPoint adds barWidth, thereby starting the trailing edge of the bar aligned to edge of screen... \n",
    "# and, endPoint results in the leading edge of the bar aligned to the edge of opposite side of screen... -- see Line "
   ]
  },
  {
   "cell_type": "code",
   "execution_count": 102,
   "metadata": {
    "collapsed": false
   },
   "outputs": [
    {
     "data": {
      "text/plain": [
       "146.0794901174449"
      ]
     },
     "metadata": {},
     "output_type": "display_data"
    }
   ],
   "source": [
    "dist = endPoint - startPoint; display(dist)"
   ]
  },
  {
   "cell_type": "code",
   "execution_count": 103,
   "metadata": {
    "collapsed": false
   },
   "outputs": [
    {
     "data": {
      "text/plain": [
       "1.5"
      ]
     },
     "execution_count": 103,
     "metadata": {},
     "output_type": "execute_result"
    }
   ],
   "source": [
    "total_length_deg - abs(dist)"
   ]
  },
  {
   "cell_type": "code",
   "execution_count": 104,
   "metadata": {
    "collapsed": false
   },
   "outputs": [],
   "source": [
    "# 04/12/2016 - jyr\n",
    "\n",
    "# signs got screwed up at some point...\n",
    "\n",
    "# SHOULD BE THIS:\n",
    "#startPoint = startSign*uStartPoint - barWidth*0.5; display(startPoint)\n",
    "# i.e., total_length_deg*0.5 + barWidth*0.5 -- this starts with bar OFF screen (leading edge)\n",
    "\n",
    "\n",
    "#endPoint = -1*(startPoint + startSign*(total_length_deg*0.5-uStartPoint + barWidth*0.5)); display(endPoint)\n",
    "# i.e., -1*total_length_deg*0.5 + barWidth*0.5 -- this starts with bar OFF screen (leading edge)\n",
    "\n",
    "# SIMPLIFIED:\n",
    "# endPoint = -1*(startPoint - startSign*(barWidth*0.5)); display(endPoint) \n",
    "# THIS is if you just want the leading edge to go from screen-end to screen-end"
   ]
  },
  {
   "cell_type": "code",
   "execution_count": 105,
   "metadata": {
    "collapsed": false
   },
   "outputs": [
    {
     "data": {
      "text/plain": [
       "106.05972500716128"
      ]
     },
     "execution_count": 105,
     "metadata": {},
     "output_type": "execute_result"
    }
   ],
   "source": [
    "105.55972500716128 + 0.5"
   ]
  },
  {
   "cell_type": "code",
   "execution_count": 106,
   "metadata": {
    "collapsed": false
   },
   "outputs": [
    {
     "data": {
      "text/plain": [
       "19.999999999999996"
      ]
     },
     "metadata": {},
     "output_type": "display_data"
    }
   ],
   "source": [
    "display(duration)"
   ]
  },
  {
   "cell_type": "code",
   "execution_count": 107,
   "metadata": {
    "collapsed": false
   },
   "outputs": [
    {
     "data": {
      "text/plain": [
       "1260"
      ]
     },
     "metadata": {},
     "output_type": "display_data"
    },
    {
     "data": {
      "text/plain": [
       "[-73.289745058722445,\n",
       " -73.168012150291247,\n",
       " -73.046279241860034,\n",
       " -72.924546333428836,\n",
       " -72.802813424997623]"
      ]
     },
     "metadata": {},
     "output_type": "display_data"
    },
    {
     "data": {
      "image/png": "[encoded data removed]",
      "text/plain": [
       "<matplotlib.figure.Figure at 0x7f02537cdf50>"
      ]
     },
     "metadata": {},
     "output_type": "display_data"
    }
   ],
   "source": [
    "# STH WERID WITH POSITIONS:\n",
    "# Just using linearly spaced 1/fps intervals for x frames should give similar coords, using the same end/startPoints...\n",
    "# But, compare below 2 figs...\n",
    "\n",
    "# SOLVED:\n",
    "# Running with monitor settings to syncmaster:\n",
    "# winsize = [1920, 1200]\n",
    "# startPoint = -73.2897450587\n",
    "# posX = -73.2896754026,-72.8982859728, ...\n",
    "# DIST:  146.079490117\n",
    "# DUR:  20.0\n",
    "\n",
    "# i.e,. datafiles from 06.25.2015 using some other config...\n",
    "\n",
    "import math\n",
    "angle = 90 # VERT \n",
    "\n",
    "nframes = 21\n",
    "dt = 1/fps\n",
    "samples = np.arange(0,nframes,dt)\n",
    "pos = []\n",
    "for i in samples:\n",
    "    curr_pos = (i % total_time) / total_time * (endPoint-startPoint) + startPoint\n",
    "    cart_pos = curr_pos*math.sin(angle*math.pi/180)+0 #centerPoint[0]\n",
    "    pos.append(cart_pos)\n",
    "    \n",
    "display(len(pos))\n",
    "plt.scatter(np.arange(len(samples)), pos)\n",
    "display(pos[0:5])"
   ]
  },
  {
   "cell_type": "code",
   "execution_count": 108,
   "metadata": {
    "collapsed": false
   },
   "outputs": [
    {
     "data": {
      "text/plain": [
       "1198"
      ]
     },
     "metadata": {},
     "output_type": "display_data"
    },
    {
     "data": {
      "text/plain": [
       "<matplotlib.collections.PathCollection at 0x7f025357d210>"
      ]
     },
     "execution_count": 108,
     "metadata": {},
     "output_type": "execute_result"
    },
    {
     "data": {
      "image/png": "[encoded data removed]",
      "text/plain": [
       "<matplotlib.figure.Figure at 0x7f02535ef090>"
      ]
     },
     "metadata": {},
     "output_type": "display_data"
    }
   ],
   "source": [
    "if moveX:\n",
    "    moving_dim = [positions[i][0] for (i,p) in enumerate(positions)]\n",
    "else:\n",
    "    moving_dim = [positions[i][1] for (i,p) in enumerate(positions)]\n",
    "    \n",
    "display(idxs[1])\n",
    "\n",
    "nframes = idxs[1] + 1\n",
    "real_pos = moving_dim[0:nframes]\n",
    "plt.scatter(np.arange(len(real_pos)), real_pos)"
   ]
  },
  {
   "cell_type": "code",
   "execution_count": 109,
   "metadata": {
    "collapsed": false
   },
   "outputs": [
    {
     "data": {
      "text/plain": [
       "23964"
      ]
     },
     "execution_count": 109,
     "metadata": {},
     "output_type": "execute_result"
    }
   ],
   "source": [
    "len(positions)"
   ]
  },
  {
   "cell_type": "code",
   "execution_count": 121,
   "metadata": {
    "collapsed": false
   },
   "outputs": [
    {
     "data": {
      "text/plain": [
       "(92.23718132340305, 1)"
      ]
     },
     "execution_count": 121,
     "metadata": {},
     "output_type": "execute_result"
    }
   ],
   "source": [
    "stimSize"
   ]
  },
  {
   "cell_type": "code",
   "execution_count": 122,
   "metadata": {
    "collapsed": false
   },
   "outputs": [
    {
     "ename": "NameError",
     "evalue": "name 'startPoint' is not defined",
     "output_type": "error",
     "traceback": [
      "\u001b[1;31m---------------------------------------------------------------------------\u001b[0m",
      "\u001b[1;31mNameError\u001b[0m                                 Traceback (most recent call last)",
      "\u001b[1;32m<ipython-input-122-8bea073ac9c3>\u001b[0m in \u001b[0;36m<module>\u001b[1;34m()\u001b[0m\n\u001b[1;32m----> 1\u001b[1;33m \u001b[0mdisplay\u001b[0m\u001b[1;33m(\u001b[0m\u001b[0mstartPoint\u001b[0m\u001b[1;33m)\u001b[0m\u001b[1;33m;\u001b[0m \u001b[0mdisplay\u001b[0m\u001b[1;33m(\u001b[0m\u001b[0mendPoint\u001b[0m\u001b[1;33m)\u001b[0m\u001b[1;33m;\u001b[0m \u001b[0mdisplay\u001b[0m\u001b[1;33m(\u001b[0m\u001b[0mmoving_dim\u001b[0m\u001b[1;33m[\u001b[0m\u001b[1;36m0\u001b[0m\u001b[1;33m]\u001b[0m\u001b[1;33m)\u001b[0m\u001b[1;33m;\u001b[0m \u001b[0mdisplay\u001b[0m\u001b[1;33m(\u001b[0m\u001b[0mmoving_dim\u001b[0m\u001b[1;33m[\u001b[0m\u001b[1;33m-\u001b[0m\u001b[1;36m1\u001b[0m\u001b[1;33m]\u001b[0m\u001b[1;33m)\u001b[0m\u001b[1;33m\u001b[0m\u001b[0m\n\u001b[0m",
      "\u001b[1;31mNameError\u001b[0m: name 'startPoint' is not defined"
     ]
    }
   ],
   "source": [
    "display(startPoint); display(endPoint); display(moving_dim[0]); display(moving_dim[-1])"
   ]
  },
  {
   "cell_type": "code",
   "execution_count": 112,
   "metadata": {
    "collapsed": false
   },
   "outputs": [],
   "source": [
    "# More weird stuff... why are timestamps so off?\n",
    "\n",
    "from datetime import datetime\n",
    "tstamps = [f.split('_')[1] for f in files]\n",
    "FORMAT = '%Y%m%d%H%M%S%f'\n",
    "#date = datetime.strptime(tstamps[0], FORMAT)\n",
    "#display(date)\n",
    "# convert string into math-able form:\n",
    "#'{hrs}:{min}:{sec}.{msec}'.format(hrs = str(d.hour), min = str(d.minute), sec = str(d.second), msec = str(d.microsecond/1000))\n",
    "fmt_tstamps = [datetime.strptime(t, FORMAT) for t in tstamps]\n",
    "times = ['{hrs}:{min}:{sec}.{msec}'.format(hrs = str(d.hour), min = str(d.minute), sec = str(d.second), msec = str(d.microsecond)) for d in fmt_tstamps]"
   ]
  },
  {
   "cell_type": "code",
   "execution_count": 113,
   "metadata": {
    "collapsed": false
   },
   "outputs": [],
   "source": [
    "mstimes = []\n",
    "for t in times:\n",
    "    hours, minutes, seconds = (t.split(\":\"))[-3:]\n",
    "    hours = int(hours)\n",
    "    minutes = int(minutes)\n",
    "    seconds = float(seconds)\n",
    "    miliseconds = int(3600000 * hours + 60000 * minutes + 1000 * seconds)\n",
    "    mstimes.append(miliseconds)"
   ]
  },
  {
   "cell_type": "code",
   "execution_count": 114,
   "metadata": {
    "collapsed": false
   },
   "outputs": [
    {
     "data": {
      "text/plain": [
       "'18:28:35.618425'"
      ]
     },
     "execution_count": 114,
     "metadata": {},
     "output_type": "execute_result"
    }
   ],
   "source": [
    "t"
   ]
  },
  {
   "cell_type": "code",
   "execution_count": 115,
   "metadata": {
    "collapsed": false
   },
   "outputs": [
    {
     "data": {
      "text/plain": [
       "['20150625182154951761',\n",
       " '20150625182154968753',\n",
       " '20150625182154985097',\n",
       " '20150625182155002058',\n",
       " '20150625182155018586']"
      ]
     },
     "execution_count": 115,
     "metadata": {},
     "output_type": "execute_result"
    }
   ],
   "source": [
    "tstamps[0:5]"
   ]
  },
  {
   "cell_type": "code",
   "execution_count": 116,
   "metadata": {
    "collapsed": false
   },
   "outputs": [
    {
     "data": {
      "text/plain": [
       "[<matplotlib.lines.Line2D at 0x7f025315fed0>]"
      ]
     },
     "execution_count": 116,
     "metadata": {},
     "output_type": "execute_result"
    },
    {
     "data": {
      "image/png": "[encoded data removed]",
      "text/plain": [
       "<matplotlib.figure.Figure at 0x7f02535f7690>"
      ]
     },
     "metadata": {},
     "output_type": "display_data"
    }
   ],
   "source": [
    "plt.plot(np.diff(mstimes[0:100]))"
   ]
  },
  {
   "cell_type": "code",
   "execution_count": 117,
   "metadata": {
    "collapsed": false
   },
   "outputs": [
    {
     "data": {
      "text/plain": [
       "-58.53176130832045"
      ]
     },
     "metadata": {},
     "output_type": "display_data"
    },
    {
     "data": {
      "text/plain": [
       "57.933660729079655"
      ]
     },
     "metadata": {},
     "output_type": "display_data"
    },
    {
     "data": {
      "text/plain": [
       "-58.531743244218546"
      ]
     },
     "metadata": {},
     "output_type": "display_data"
    }
   ],
   "source": [
    "# x = [positions[i][0] for (i,p) in enumerate(positions)]\n",
    "P = [i for i in moving_dim]\n",
    "display(P[0])\n",
    "display(P[idxs[1]-1])\n",
    "display(P[idxs[1]])\n",
    "sim = np.zeros((len(P), ))"
   ]
  },
  {
   "cell_type": "code",
   "execution_count": 118,
   "metadata": {
    "collapsed": false
   },
   "outputs": [
    {
     "data": {
      "text/plain": [
       "[-58.53176130832045,\n",
       " -58.42719239105267,\n",
       " -58.32994360369381,\n",
       " -58.235869929630695,\n",
       " -58.13534042345731]"
      ]
     },
     "execution_count": 118,
     "metadata": {},
     "output_type": "execute_result"
    }
   ],
   "source": [
    "P[0:5]"
   ]
  },
  {
   "cell_type": "code",
   "execution_count": 159,
   "metadata": {
    "collapsed": false
   },
   "outputs": [
    {
     "name": "stdout",
     "output_type": "stream",
     "text": [
      "[214.0, 121.0]\n"
     ]
    }
   ],
   "source": [
    "window = [np.ceil(screen_width_deg), np.ceil(screen_height_deg)]\n",
    "print window\n"
   ]
  },
  {
   "cell_type": "code",
   "execution_count": 170,
   "metadata": {
    "collapsed": false
   },
   "outputs": [
    {
     "data": {
      "text/plain": [
       "214.0"
      ]
     },
     "metadata": {},
     "output_type": "display_data"
    },
    {
     "data": {
      "text/plain": [
       "121.0"
      ]
     },
     "metadata": {},
     "output_type": "display_data"
    },
    {
     "data": {
      "text/plain": [
       "<rect(0, 0, 214, 121)>"
      ]
     },
     "execution_count": 170,
     "metadata": {},
     "output_type": "execute_result"
    }
   ],
   "source": [
    "# import pygame\n",
    "# import sys\n",
    "\n",
    "# shift_P = [i+np.ceil(max(P)) for i in P]\n",
    "\n",
    "# w=abs(np.ceil(abs(P[0])+barWidth)*2) # include offset to compensate for stupid positioning above...\n",
    "# h=abs(np.ceil(stimSize[0]))\n",
    "# display(w,h)\n",
    "\n",
    "# black = (0,0,0)\n",
    "# white = (255,255,255)\n",
    "\n",
    "import pygame\n",
    "import sys\n",
    "\n",
    "# shift_P = [i+np.ceil(max(P)) for i in P]\n",
    "\n",
    "# w=abs(np.ceil(abs(P[0])+barWidth)*2) # include offset to compensate for stupid positioning above...\n",
    "# h=abs(np.ceil(stimSize[0]))\n",
    "w = window[0]\n",
    "h = window[1]\n",
    "display(w,h)\n",
    "\n",
    "black = (0,0,0)\n",
    "white = (255,255,255)\n",
    "\n",
    "pygame.init()\n",
    "screen = pygame.display.set_mode((int(w),int(h)))\n",
    "\n",
    "screen.fill(black)"
   ]
  },
  {
   "cell_type": "code",
   "execution_count": 171,
   "metadata": {
    "collapsed": false
   },
   "outputs": [
    {
     "name": "stdout",
     "output_type": "stream",
     "text": [
      "/media/nas/volume1/widefield/data/CE004/20160203/anesthetized_bar_0013/simulation/V-Right_1\n"
     ]
    }
   ],
   "source": [
    "# savedir = './tests/simulation/%s/' % cond\n",
    "# if not os.path.exists(savedir):\n",
    "#     os.makedirs(savedir)\n",
    "\n",
    "savedir = os.path.join(os.path.split(imdir)[0], 'simulation', cond)\n",
    "if not os.path.exists(savedir):\n",
    "    os.makedirs(savedir)\n",
    "    \n",
    "print savedir"
   ]
  },
  {
   "cell_type": "code",
   "execution_count": 254,
   "metadata": {
    "collapsed": false
   },
   "outputs": [
    {
     "name": "stdout",
     "output_type": "stream",
     "text": [
      "-106.527817702\n",
      "107.559638733\n",
      "[107.55963873256827, 107.44606818564264, 106.99137453449657, 106.52914181122361, 106.06815675129559]\n",
      "[215.11927746513658, 215.00515955088383, 214.5482744473302, 214.08381393615716, 213.62060710159722]\n",
      "[6.58612836456427e-15, 6.5791741742257764e-15, 6.551332218002343e-15, 6.523028626751473e-15, 6.494801432846693e-15]\n",
      "[1.317225672912854e-14, 1.3165269022207792e-14, 1.3137292878225539e-14, 1.3108852874308621e-14, 1.3080489635944272e-14]\n"
     ]
    }
   ],
   "source": [
    "\n",
    "# CHECK THIS -- 05/06/2016\n",
    "# /media/nas/volume1/widefield/data/CE004/20160203/anesthetized_bar_0013/V-Right_1\n",
    "# which monitor??? -- AQUOS or syncmaster?  positions don't match up....\n",
    "\n",
    "\n",
    "px = [p[0] for p in positions]\n",
    "py = [p[1] for p in positions]\n",
    "\n",
    "old_min = min(px)\n",
    "print old_min\n",
    "old_max = max(px)\n",
    "print old_max\n",
    "old_range = (old_max - old_min)\n",
    "new_min = 0\n",
    "new_range = max(px)*2 - 0.\n",
    "shift_px = [((((i - old_min) * float(new_range)) / old_range) + new_min) for i in px]\n",
    "new_px = np.array([i+(w/4.) for i in shift_px]) - 54\n",
    "\n",
    "print px[0:5]\n",
    "print shift_px[0:5]\n",
    "old_min = min(py)\n",
    "old_max = max(py)\n",
    "old_range = (old_max - old_min)\n",
    "new_min = 0\n",
    "new_range = max(py)*2 - 0.\n",
    "shift_py = [((((i - old_min) * float(new_range)) / old_range) + new_min) for i in py]\n",
    "new_py = np.flipud([i+(h/4.) for i in shift_py]) - 30\n",
    "\n",
    "# need to flip UD because actual stim-pos assumes center of (0,0), but this is upper-left corner of pygame rect \n",
    "# also, shifted by 5 pixels to center stimulus\n",
    "\n",
    "print py[0:5]\n",
    "print shift_py[0:5]\n",
    "\n",
    "\n",
    "# shift_posvec = [[shift_px[i], shift_py[i]] for i in range(len(shift_px))]\n",
    "shift_posvec = [[new_px[i], new_py[i]] for i in range(len(new_py))]"
   ]
  },
  {
   "cell_type": "code",
   "execution_count": 255,
   "metadata": {
    "collapsed": false
   },
   "outputs": [],
   "source": [
    "pygame.init()\n",
    "screen = pygame.display.set_mode((int(w),int(h)))\n",
    "\n",
    "screen.fill(black)\n",
    "\n",
    "barw = stimSize[1]\n",
    "barh = stimSize[0]\n",
    "\n",
    "screen.fill(black)\n",
    "\n",
    "i=461\n",
    "posx = shift_posvec[i][0]\n",
    "posy = shift_posvec[i][1]\n",
    "\n",
    "pygame.draw.rect(screen, white, (posx,posy,barw,barh), 0)\n",
    "pygame.display.update()"
   ]
  },
  {
   "cell_type": "code",
   "execution_count": 256,
   "metadata": {
    "collapsed": false
   },
   "outputs": [],
   "source": [
    "# pygame.init()\n",
    "# screen = pygame.display.set_mode((int(w),int(h)))\n",
    "\n",
    "screen.fill(black)\n",
    "\n",
    "# savedir = './tests/simulation/%s/' % cond\n",
    "# if not os.path.exists(savedir):\n",
    "#     os.makedirs(savedir)\n",
    "\n",
    "# stimSize = (longside,barWidth); display(stimSize)\n",
    "\n",
    "barw = stimSize[1]\n",
    "barh = stimSize[0]\n",
    "\n",
    "actual_nframes = len(positions)\n",
    "\n",
    "delay_secs = 5 # n seconds to wait to simulate hemo \"delay\"\n",
    "delay_frames = delay_secs * fps\n",
    "\n",
    "\n",
    "nframes = 0\n",
    "while nframes < actual_nframes:\n",
    "#     if moveX:\n",
    "#         posx=shift_P[nframes]\n",
    "#         posy=0 #shift_x[nframes]\n",
    "#     else:\n",
    "#         posx=0\n",
    "#         posy=shift_P[nframes]\n",
    "\n",
    "    posx = shift_posvec[nframes][0]\n",
    "    posy = shift_posvec[nframes][1]\n",
    "\n",
    "        \n",
    "    screen.fill(black)\n",
    "    pygame.draw.rect(screen, white, (posx,posy,barw,barh), 0)\n",
    "    pygame.display.update()\n",
    "    pygame.image.save(screen, os.path.join(savedir, \"screen_%i.bmp\" % nframes))\n",
    "    nframes += 1"
   ]
  },
  {
   "cell_type": "code",
   "execution_count": 61,
   "metadata": {
    "collapsed": false
   },
   "outputs": [
    {
     "name": "stdout",
     "output_type": "stream",
     "text": [
      "N frames: 23964\n",
      "N positions: 23964\n"
     ]
    }
   ],
   "source": [
    "nframes_collected = os.listdir(savedir)\n",
    "print(\"N frames: %s\" % str(len(nframes_collected)))\n",
    "print(\"N positions: %s\" % str(len(positions)))"
   ]
  },
  {
   "cell_type": "code",
   "execution_count": 62,
   "metadata": {
    "collapsed": false
   },
   "outputs": [],
   "source": [
    "sim_frames = sorted([i for i in nframes_collected if i.split('.')[1]=='bmp'], key=natural_keys)"
   ]
  },
  {
   "cell_type": "code",
   "execution_count": 68,
   "metadata": {
    "collapsed": false
   },
   "outputs": [],
   "source": [
    "from PIL import Image\n",
    "sim=Image.open(os.path.join(savedir, sim_frames[-1]),'r')"
   ]
  },
  {
   "cell_type": "code",
   "execution_count": 69,
   "metadata": {
    "collapsed": false
   },
   "outputs": [
    {
     "name": "stdout",
     "output_type": "stream",
     "text": [
      "SIM IMAGE SHAPE: (120, 93)\n"
     ]
    },
    {
     "data": {
      "image/png": "[encoded data removed]",
      "text/plain": [
       "<matplotlib.figure.Figure at 0x7fe821125990>"
      ]
     },
     "metadata": {},
     "output_type": "display_data"
    }
   ],
   "source": [
    "# is it working...?\n",
    "# sim = Image.open(os.path.join(\"./stimuli/simulated\", sim_frames[100])).convert('LA')\n",
    "# sim=sim.convert('1') # make BW so don't have to deal with 3d\n",
    "# lena = misc.imread(os.path.join(\"./stimuli/simulated\", sim_frames[100]))\n",
    "\n",
    "# sim=Image.open(os.path.join(savedir, sim_frames[100]),'r')\n",
    "sim=sim.convert('L') #makes it greyscale\n",
    "y=np.asarray(sim.getdata(),dtype=np.float64).reshape((sim.size[1],sim.size[0]))\n",
    "y=np.asarray(y,dtype=np.uint8)\n",
    "\n",
    "plt.imshow(y)\n",
    "print \"SIM IMAGE SHAPE: %s\" % str(sim.size)"
   ]
  },
  {
   "cell_type": "code",
   "execution_count": 26,
   "metadata": {
    "collapsed": false
   },
   "outputs": [
    {
     "data": {
      "text/plain": [
       "255"
      ]
     },
     "execution_count": 26,
     "metadata": {},
     "output_type": "execute_result"
    }
   ],
   "source": [
    "y.max()"
   ]
  },
  {
   "cell_type": "code",
   "execution_count": 27,
   "metadata": {
    "collapsed": false
   },
   "outputs": [
    {
     "name": "stdout",
     "output_type": "stream",
     "text": [
      "(93, 120, 23964)\n",
      "0 images processed...\n",
      "1000 images processed...\n",
      "2000 images processed...\n",
      "3000 images processed...\n",
      "4000 images processed...\n",
      "5000 images processed...\n",
      "6000 images processed...\n",
      "7000 images processed...\n",
      "8000 images processed...\n",
      "9000 images processed...\n",
      "10000 images processed...\n",
      "11000 images processed...\n",
      "12000 images processed...\n",
      "13000 images processed...\n",
      "14000 images processed...\n",
      "15000 images processed...\n",
      "16000 images processed...\n",
      "17000 images processed...\n",
      "18000 images processed...\n",
      "19000 images processed...\n",
      "20000 images processed...\n",
      "21000 images processed...\n",
      "22000 images processed...\n",
      "23000 images processed...\n"
     ]
    }
   ],
   "source": [
    "stack = np.empty((sim.size[1], sim.size[0], len(sim_frames)))\n",
    "print stack.shape\n",
    "\n",
    "for i, f in enumerate(sim_frames):\n",
    "    if i % 1000 == 0:\n",
    "        print('%d images processed...' % i)\n",
    "    sim=Image.open(os.path.join(savedir, sim_frames[i]),'r')\n",
    "    sim=sim.convert('L') #makes it greyscale\n",
    "    y=np.asarray(sim.getdata(),dtype=np.float64).reshape((sim.size[1],sim.size[0]))\n",
    "    stack[:, :, i] = y"
   ]
  },
  {
   "cell_type": "code",
   "execution_count": 31,
   "metadata": {
    "collapsed": false
   },
   "outputs": [
    {
     "data": {
      "text/plain": [
       "<matplotlib.image.AxesImage at 0x7fe821024390>"
      ]
     },
     "execution_count": 31,
     "metadata": {},
     "output_type": "execute_result"
    },
    {
     "data": {
      "image/png": "[encoded data removed]",
      "text/plain": [
       "<matplotlib.figure.Figure at 0x7fe8211a4dd0>"
      ]
     },
     "metadata": {},
     "output_type": "display_data"
    }
   ],
   "source": [
    "plt.imshow(stack[:,:,100])"
   ]
  },
  {
   "cell_type": "code",
   "execution_count": 32,
   "metadata": {
    "collapsed": true
   },
   "outputs": [],
   "source": [
    "for i in range(stack.shape[2]):\n",
    "    stack[:,:,i] -= np.mean(stack[:,:,i].ravel())"
   ]
  },
  {
   "cell_type": "code",
   "execution_count": 33,
   "metadata": {
    "collapsed": false
   },
   "outputs": [
    {
     "data": {
      "text/plain": [
       "<matplotlib.image.AxesImage at 0x7fe81ac44e10>"
      ]
     },
     "execution_count": 33,
     "metadata": {},
     "output_type": "execute_result"
    },
    {
     "data": {
      "image/png": "[encoded data removed]",
      "text/plain": [
       "<matplotlib.figure.Figure at 0x7fe81ac91810>"
      ]
     },
     "metadata": {},
     "output_type": "display_data"
    }
   ],
   "source": [
    "plt.imshow(stack[:,:,100])"
   ]
  },
  {
   "cell_type": "code",
   "execution_count": 130,
   "metadata": {
    "collapsed": false
   },
   "outputs": [
    {
     "name": "stdout",
     "output_type": "stream",
     "text": [
      "TARGET:  20 0.050075112669\n",
      "FREQS:  [ 0.          0.00250376  0.00500751 ..., -0.00751127 -0.00500751\n",
      " -0.00250376]\n"
     ]
    }
   ],
   "source": [
    "freqs = fft.fftfreq(len(stack[0, 0, :]), 1 / sampling_rate) # When set fps to 60 vs 120 -- target_bin should be 2x higher for 120, but freq correct (looks for closest matching target_bin )\n",
    "binwidth = freqs[1] - freqs[0]\n",
    "#target_bin = int(target_freq / binwidth)\n",
    "target_bin = np.where(freqs == min(freqs, key=lambda x: abs(float(x) - target_freq)))[0][0]\n",
    "print \"TARGET: \", target_bin, freqs[target_bin]\n",
    "print \"FREQS: \", freqs"
   ]
  },
  {
   "cell_type": "code",
   "execution_count": 131,
   "metadata": {
    "collapsed": false
   },
   "outputs": [],
   "source": [
    "\n",
    "# FFT:\n",
    "sample = stack[:,:,0]\n",
    "mag_map = np.empty(sample.shape)\n",
    "phase_map = np.empty(sample.shape)\n",
    "\n",
    "ft_real = np.empty(sample.shape)\n",
    "ft_imag = np.empty(sample.shape)\n",
    "\n",
    "ft_real_shift = np.empty(sample.shape)\n",
    "ft_imag_shift = np.empty(sample.shape)\n",
    "\n",
    "dynrange = np.empty(sample.shape)\n",
    "\n",
    "ft = np.empty(sample.shape)\n",
    "ft = ft + 0j\n",
    "\n",
    "#dlist = []\n",
    "i = 0\n",
    "for x in range(sample.shape[0]):\n",
    "    for y in range(sample.shape[1]):\n",
    "\n",
    "        # THIS IS BASICALLY MOVING AVG WINDOW...\n",
    "        pix = scipy.signal.detrend(stack[x, y, :], type='constant')\n",
    "\n",
    "        #dynrange[x, y] = np.log2(pix.max() - pix.min())\n",
    "\n",
    "        curr_ft = fft.fft(pix)  # fft.fft(pix) / len(pix)])\n",
    "        #curr_ft_shift = fft.fftshift(curr_ft)\n",
    "\n",
    "# DF = pd.DataFrame.from_records(dlist)\n",
    "\n",
    "        #mag = np.abs(curr_ft)\n",
    "        # mag_max = np.where(mag == mag.max())\n",
    "        # mag_min = np.where(mag == mag.min())\n",
    "        \n",
    "        phase = np.angle(curr_ft)\n",
    "\n",
    "        ft_real[x, y] = curr_ft[target_bin].real\n",
    "        ft_imag[x, y] = curr_ft[target_bin].imag\n",
    "        \n",
    "        ft[x,y] = curr_ft[target_bin]\n",
    "\n",
    "        #ft_real_shift[x, y] = curr_ft_shift[target_bin_shift].real\n",
    "        #ft_imag_shift[x, y] = curr_ft_shift[target_bin_shift].imag\n",
    "\n",
    "        # if i % 100 == 0:\n",
    "        # print ft_real[x, y], ft_imag[x,y]\n",
    "\n",
    "        #mag_map[x, y] = mag[target_bin]\n",
    "        phase_map[x, y] = phase[target_bin]\n",
    "\n",
    "        #dlist.append((x, y, curr_ft))\n",
    "\n",
    "        i += 1"
   ]
  },
  {
   "cell_type": "code",
   "execution_count": 132,
   "metadata": {
    "collapsed": false
   },
   "outputs": [
    {
     "data": {
      "text/plain": [
       "'./tests/simulation'"
      ]
     },
     "execution_count": 132,
     "metadata": {},
     "output_type": "execute_result"
    }
   ],
   "source": [
    "os.path.split(os.path.split(savedir)[0])[0]"
   ]
  },
  {
   "cell_type": "code",
   "execution_count": 34,
   "metadata": {
    "collapsed": false
   },
   "outputs": [
    {
     "data": {
      "text/plain": [
       "'./tests/simulation/structs'"
      ]
     },
     "execution_count": 34,
     "metadata": {},
     "output_type": "execute_result"
    }
   ],
   "source": [
    "outdir = os.path.join(os.path.split(os.path.split(savedir)[0])[0], \"structs\")\n",
    "append_to_name = \"simulated\"\n",
    "outdir\n"
   ]
  },
  {
   "cell_type": "code",
   "execution_count": 134,
   "metadata": {
    "collapsed": false
   },
   "outputs": [],
   "source": [
    "\n",
    "D = dict()\n",
    "\n",
    "D['ft_real'] = ft_real  # np.array(ft)\n",
    "D['ft_imag'] = ft_imag\n",
    "D['ft'] = ft\n",
    "\n",
    "# D['mag_map'] = mag_map\n",
    "D['phase_map'] = phase_map\n",
    "\n",
    "D['mean_intensity'] = np.mean(stack, axis=2)\n",
    "#D['stack'] = stack\n",
    "#del stack\n",
    "D['dynrange'] = dynrange\n",
    "D['target_freq'] = target_freq\n",
    "D['fps'] = sampling_rate\n",
    "D['freqs'] = freqs  # fft.fftfreq(len(pix), 1 / sampling_rate)\n",
    "# D['freqs_shift'] = freqs_shift #fft.fftfreq(len(pix), 1 / sampling_rate)\n",
    "\n",
    "D['binsize'] = freqs[1] - freqs[0]\n",
    "# np.where(freqs == min(freqs, key=lambda x: abs(float(x) - target_freq)))[0][0]\n",
    "D['target_bin'] = target_bin\n",
    "#D['target_bin_shift'] = target_bin_shift\n",
    "D['nframes'] = nframes_per_cycle\n",
    "D['reduce_factor'] = reduce_factor\n",
    "\n",
    "# SAVE condition info:\n",
    "sessionpath = os.path.split(imdir)[0]\n",
    "# outdir = os.path.join(sessionpath, 'structs')\n",
    "# if not os.path.exists(outdir):\n",
    "#     os.makedirs(outdir)\n",
    "\n",
    "reduce_factor = (1, 1)\n",
    "fext = 'D_target_FFT_%s_%s_%s.pkl' % (cond, str(reduce_factor), append_to_name)\n",
    "fname = os.path.join(outdir, fext)\n",
    "with open(fname, 'wb') as f:\n",
    "    # protocol=pkl.HIGHEST_PROTOCOL)\n",
    "    pkl.dump(D, f, protocol=pkl.HIGHEST_PROTOCOL)"
   ]
  },
  {
   "cell_type": "code",
   "execution_count": 49,
   "metadata": {
    "collapsed": false
   },
   "outputs": [
    {
     "data": {
      "text/plain": [
       "'./tests/simulation/structs'"
      ]
     },
     "execution_count": 49,
     "metadata": {},
     "output_type": "execute_result"
    }
   ],
   "source": [
    "# outdir = \"./tests/simulation/V-Left_0/structs\"\n",
    "os.listdir(outdir)\n",
    "outdir"
   ]
  },
  {
   "cell_type": "code",
   "execution_count": 38,
   "metadata": {
    "collapsed": false
   },
   "outputs": [
    {
     "name": "stdout",
     "output_type": "stream",
     "text": [
      "./tests/simulation/structs\n",
      "['D_target_V-Right_0_(1, 1)_simulated_orig.pkl', 'D_target_FFT_H-Down_0_(1, 1)_simulated.pkl', 'D_target_V-Left_0_(1, 1)_simulated.pkl', 'D_target_FFT_V-Left_0_(1, 1)_simulated.pkl', 'D_target_FFT_V-Right_0_(1, 1)_simulated.pkl', 'D_target_FFT_H-Up_0_(1, 1)_simulated.pkl', 'D_target_V-Right_0_(1, 1)_simulated.pkl', 'D_target_V-Left_0_(1, 1)_True.pkl']\n",
      "['D_target_FFT_H-Down_0_(1, 1)_simulated.pkl', 'D_target_FFT_V-Left_0_(1, 1)_simulated.pkl', 'D_target_FFT_V-Right_0_(1, 1)_simulated.pkl', 'D_target_FFT_H-Up_0_(1, 1)_simulated.pkl']\n"
     ]
    }
   ],
   "source": [
    "#####################################################\n",
    "# TEST MERGE:\n",
    "#####################################################\n",
    "\n",
    "reduce_factor = (1,1)\n",
    "print outdir\n",
    "flist = os.listdir(outdir)\n",
    "\n",
    "flist = [f for f in flist if os.path.splitext(f)[1] == '.pkl']\n",
    "print flist\n",
    "dstructs = [f for f in flist if 'D_target_FFT' in f and str(reduce_factor) in f]\n",
    "# if not dstructs:\n",
    "#     dstructs = [f for f in flist if 'D_' in f and str(reduce_factor) in f]\n",
    "\n",
    "print dstructs\n",
    "    \n",
    "D = dict()\n",
    "for f in dstructs:\n",
    "    outfile = os.path.join(outdir, f)\n",
    "    with open(outfile,'rb') as fp:\n",
    "        D[f] = pkl.load(fp)"
   ]
  },
  {
   "cell_type": "code",
   "execution_count": 39,
   "metadata": {
    "collapsed": false
   },
   "outputs": [
    {
     "name": "stdout",
     "output_type": "stream",
     "text": [
      "['D_target_FFT_V-Right_0_(1, 1)_simulated.pkl', 'D_target_FFT_H-Down_0_(1, 1)_simulated.pkl', 'D_target_FFT_V-Left_0_(1, 1)_simulated.pkl', 'D_target_FFT_H-Up_0_(1, 1)_simulated.pkl']\n"
     ]
    }
   ],
   "source": [
    "for d in D.keys():\n",
    "    if \"Left\" in d:\n",
    "        leftkey = d\n",
    "    elif \"Right\" in d:\n",
    "        rightkey = d\n",
    "print D.keys()"
   ]
  },
  {
   "cell_type": "code",
   "execution_count": 40,
   "metadata": {
    "collapsed": false
   },
   "outputs": [],
   "source": [
    "# print min([ftmap[rightkey].shape, ftmap[leftkey].shape])\n",
    "# leftmap = np.zeros(min([ftmap[rightkey].shape, ftmap[leftkey].shape]))\n",
    "# rightmap = np.zeros(min([ftmap[rightkey].shape, ftmap[leftkey].shape]))\n",
    "\n",
    "# leftmap = leftmap + 0j\n",
    "# rightmap = rightmap + 0j\n",
    "\n",
    "\n",
    "leftmap = D[leftkey]['ft']\n",
    "rightmap = D[rightkey]['ft'][:,0:120]"
   ]
  },
  {
   "cell_type": "code",
   "execution_count": 41,
   "metadata": {
    "collapsed": false
   },
   "outputs": [
    {
     "data": {
      "text/plain": [
       "(93, 120)"
      ]
     },
     "execution_count": 41,
     "metadata": {},
     "output_type": "execute_result"
    }
   ],
   "source": [
    "rightmap.shape"
   ]
  },
  {
   "cell_type": "code",
   "execution_count": 45,
   "metadata": {
    "collapsed": false
   },
   "outputs": [
    {
     "data": {
      "text/plain": [
       "<matplotlib.colorbar.Colorbar instance at 0x7fe81aa3ab48>"
      ]
     },
     "execution_count": 45,
     "metadata": {},
     "output_type": "execute_result"
    },
    {
     "data": {
      "image/png": "[encoded data removed]",
      "text/plain": [
       "<matplotlib.figure.Figure at 0x7fe820ba7050>"
      ]
     },
     "metadata": {},
     "output_type": "display_data"
    }
   ],
   "source": [
    "phase_left = np.angle(leftmap)\n",
    "plt.imshow(phase_left, cmap='spectral')\n",
    "plt.colorbar()"
   ]
  },
  {
   "cell_type": "code",
   "execution_count": 55,
   "metadata": {
    "collapsed": false
   },
   "outputs": [
    {
     "data": {
      "image/png": "[encoded data removed]",
      "text/plain": [
       "<matplotlib.figure.Figure at 0x7fe81a769e50>"
      ]
     },
     "metadata": {},
     "output_type": "display_data"
    }
   ],
   "source": [
    "# SHIFT NEGATIVE VALUES by 2PI\n",
    "\n",
    "import math\n",
    "phase_left = np.angle(leftmap)\n",
    "phase_right = np.angle(rightmap)\n",
    "\n",
    "for x in range(phase_left.shape[0]):\n",
    "    for y in range(phase_left.shape[1]):\n",
    "        if phase_left[x,y] < 0:\n",
    "            phase_left[x,y] += 2*math.pi\n",
    "\n",
    "for x in range(phase_right.shape[0]):\n",
    "    for y in range(phase_right.shape[1]):\n",
    "        if phase_right[x,y] < 0:\n",
    "            phase_right[x,y] += 2*math.pi\n",
    "\n",
    "        \n",
    "# plt.imshow(phase_left, cmap='spectral', vmin=-1*math.pi, vmax=1*math.pi)\n",
    "phase_left\n",
    "\n",
    "# plt.subplot(1,2,2)\n",
    "# plt.imshow(phase_right, cmap='spectral')\n",
    "# plt.colorbar()\n",
    "        \n",
    "az = (phase_left - phase_right) / 2.\n",
    "# plt.imshow(az, cmap='spectral') #, vmin=-1*math.pi, vmax=1*math.pi)\n",
    "plt.imshow(az, cmap='spectral') #, vmin=0, vmax=2*math.pi)\n",
    "# plt.colorbar()\n",
    "# plt.colorbar()\n",
    "# x = np.where(phase_left<0)\n",
    "# len(x[1])\n",
    "# phase_left.max()\n",
    "az.min()\n",
    "\n",
    "plt.axis('off')\n",
    "\n",
    "# plt.colorbar()\n",
    "\n",
    "legend_path = '/home/juliana/Repositories/retinotopy-mapper/tests/simulation/LEFT_RIGHT_legend.tif'\n",
    "plt.savefig(legend_path)\n",
    "# print az[-5]"
   ]
  },
  {
   "cell_type": "code",
   "execution_count": 59,
   "metadata": {
    "collapsed": false
   },
   "outputs": [
    {
     "name": "stdout",
     "output_type": "stream",
     "text": [
      "[-0.01195602  3.0944027   3.04197291  2.98841946  2.93469808  2.88180209\n",
      "  2.82806864  2.77426141  2.72070648  2.66733827  2.61372288  2.5600421\n",
      "  2.50731928  2.45410418  2.40057897  2.3471697   2.294454    2.24048406\n",
      "  2.18564951  2.13244588  2.07985851  2.0262631   1.97270509  1.92004939\n",
      "  1.86670288  1.81263785  1.75940072  1.70602805  1.65173487  1.59798351\n",
      "  1.54523141  1.49182359  1.43813036  1.38520015  1.33248408  1.27882825\n",
      "  1.22426392  1.17071791  1.11748489  1.06390282  1.0106508   0.95801693\n",
      "  0.90452628  0.85040859  0.79749212  0.74468339  0.68991967  0.63580173\n",
      "  0.58314353  0.52992716  0.47618642  0.42323225  0.37080246  0.31697272\n",
      "  0.26290952  0.20954962  0.15540267  0.10136844  0.04835885 -0.00407094\n",
      " -0.05751778 -0.11135659 -0.16430105 -0.21727293 -0.27137617 -0.32551267\n",
      " -0.37894434 -0.4324741  -0.48597567 -0.53885563 -0.59136951 -0.64540118\n",
      " -0.69930218 -0.75210892 -0.8063921  -0.86060768 -0.91367423 -0.96615881\n",
      " -1.01966649 -1.07334728 -1.1260701  -1.17954192 -1.23365021 -1.28708742\n",
      " -1.34049037 -1.39453018 -1.44823096 -1.5009435  -1.55326319 -1.606317\n",
      " -1.65952951 -1.71244295 -1.76618764 -1.82098673 -1.87450595 -1.92693573\n",
      " -1.9806214  -2.03434026 -2.08684702 -2.14043798 -2.194186   -2.24703776\n",
      " -2.30040518 -2.35479404 -2.40871494 -2.46145831 -2.51463739 -2.56838157\n",
      " -2.62130703 -2.67410259 -2.72793349 -2.78182784 -2.83548112 -2.88879151\n",
      " -2.94237297 -2.99594483 -3.04867278  0.05233397 -3.1119076  -3.13281213]\n"
     ]
    },
    {
     "data": {
      "image/png": "[encoded data removed]",
      "text/plain": [
       "<matplotlib.figure.Figure at 0x7fe81a245110>"
      ]
     },
     "metadata": {},
     "output_type": "display_data"
    }
   ],
   "source": [
    "plt.plot(az[-5])\n",
    "print az[-5]"
   ]
  },
  {
   "cell_type": "code",
   "execution_count": 168,
   "metadata": {
    "collapsed": false
   },
   "outputs": [
    {
     "data": {
      "text/plain": [
       "<matplotlib.colorbar.Colorbar instance at 0x7f01d2174b48>"
      ]
     },
     "execution_count": 168,
     "metadata": {},
     "output_type": "execute_result"
    },
    {
     "data": {
      "image/png": "[encoded data removed]",
      "text/plain": [
       "<matplotlib.figure.Figure at 0x7f01d297e750>"
      ]
     },
     "metadata": {},
     "output_type": "display_data"
    }
   ],
   "source": [
    "#########################################################################\n",
    "# STIM MAPS:\n",
    "#########################################################################\n",
    "\n",
    "azimuth_phase = np.angle( (leftmap / rightmap) )\n",
    "# azimuth_phase = ( np.angle(leftmap) - np.angle(rightmap) ) / 2. \n",
    "plt.imshow(azimuth_phase, cmap='spectral', vmin=-1*math.pi, vmax=1*math.pi)\n",
    "plt.colorbar()\n",
    "# THIS IS DOUBLE-COLOR-MAPPED, i.e., [from LEFT --> RIGHT] 0 --> -pi, pi --> 0 --> -pi, pi --> 0."
   ]
  },
  {
   "cell_type": "code",
   "execution_count": 172,
   "metadata": {
    "collapsed": false
   },
   "outputs": [
    {
     "data": {
      "image/png": "[encoded data removed]",
      "text/plain": [
       "<matplotlib.figure.Figure at 0x7f01d1fae250>"
      ]
     },
     "metadata": {},
     "output_type": "display_data"
    }
   ],
   "source": [
    "#####################################################\n",
    "# V-LEFT_0 STIMULATION:\n",
    "# ---------------------------------------------------\n",
    "plt.imshow(np.angle(leftmap), cmap='spectral')\n",
    "plt.axis('off')\n",
    "\n",
    "legend_path = '/home/juliana/Repositories/retinotopy-mapper/tests/simulation/V-Left_legend.tif'\n",
    "plt.savefig(legend_path)\n",
    "#####################################################\n",
    "# THIS IS GOING:\n",
    "# 0 (LEFT edge) to -pi, to pi, back to 0"
   ]
  },
  {
   "cell_type": "code",
   "execution_count": 171,
   "metadata": {
    "collapsed": false
   },
   "outputs": [
    {
     "data": {
      "image/png": "[encoded data removed]",
      "text/plain": [
       "<matplotlib.figure.Figure at 0x7f01d2249550>"
      ]
     },
     "metadata": {},
     "output_type": "display_data"
    }
   ],
   "source": [
    "#####################################################\n",
    "# V-RIGHT_0 STIMULATION:\n",
    "# ---------------------------------------------------\n",
    "plt.imshow(np.angle(rightmap), cmap='spectral')\n",
    "plt.axis('off')\n",
    "\n",
    "legend_path = '/home/juliana/Repositories/retinotopy-mapper/tests/simulation/V-Right_legend.tif'\n",
    "plt.savefig(legend_path)\n",
    "#####################################################\n",
    "# THIS IS GOING:\n",
    "# 0 (right edge) to -pi, to pi, back to 0"
   ]
  },
  {
   "cell_type": "code",
   "execution_count": 156,
   "metadata": {
    "collapsed": false
   },
   "outputs": [
    {
     "data": {
      "text/plain": [
       "<matplotlib.colorbar.Colorbar instance at 0x7f01d29a8320>"
      ]
     },
     "execution_count": 156,
     "metadata": {},
     "output_type": "execute_result"
    },
    {
     "data": {
      "image/png": "[encoded data removed]",
      "text/plain": [
       "<matplotlib.figure.Figure at 0x7f02522ade50>"
      ]
     },
     "metadata": {},
     "output_type": "display_data"
    }
   ],
   "source": [
    "azimuth_phase = np.angle(leftmap / rightmap) / 2\n",
    "# azimuth_phase = ( np.angle(leftmap) - np.angle(rightmap) ) / 2. \n",
    "plt.imshow(azimuth_phase, cmap='spectral', vmin=-1*math.pi, vmax=1*math.pi)\n",
    "plt.colorbar()"
   ]
  },
  {
   "cell_type": "code",
   "execution_count": 157,
   "metadata": {
    "collapsed": false
   },
   "outputs": [
    {
     "data": {
      "text/plain": [
       "<matplotlib.colorbar.Colorbar instance at 0x7f01d286e488>"
      ]
     },
     "execution_count": 157,
     "metadata": {},
     "output_type": "execute_result"
    },
    {
     "data": {
      "image/png": "[encoded data removed]",
      "text/plain": [
       "<matplotlib.figure.Figure at 0x7f02524ccdd0>"
      ]
     },
     "metadata": {},
     "output_type": "display_data"
    }
   ],
   "source": [
    "#########################################################################\n",
    "# DELAY MAP:\n",
    "#########################################################################\n",
    "delay_vert = np.angle(leftmap * rightmap) / 2\n",
    "# azimuth_phase = ( np.angle(leftmap) - np.angle(rightmap) ) / 2. \n",
    "plt.imshow(delay_vert, cmap='spectral', vmin=-1*math.pi, vmax=1*math.pi)\n",
    "plt.colorbar()"
   ]
  },
  {
   "cell_type": "code",
   "execution_count": 158,
   "metadata": {
    "collapsed": false
   },
   "outputs": [
    {
     "data": {
      "text/plain": [
       "<matplotlib.text.Text at 0x7f01d27fd610>"
      ]
     },
     "execution_count": 158,
     "metadata": {},
     "output_type": "execute_result"
    },
    {
     "data": {
      "image/png": "[encoded data removed]",
      "text/plain": [
       "<matplotlib.figure.Figure at 0x7f01d28376d0>"
      ]
     },
     "metadata": {},
     "output_type": "display_data"
    }
   ],
   "source": [
    "# azimuth_phase = np.angle(leftmap / rightmap) / 2. \n",
    "# azimuth_phase = ( np.angle(leftmap) - np.angle(rightmap) ) / 2\n",
    "\n",
    "fig = plt.figure()\n",
    "fig.add_subplot(2,2,1)\n",
    "left_phase = np.angle(leftmap)\n",
    "plt.imshow(left_phase, cmap='spectral', vmin=-1*math.pi, vmax=1*math.pi)\n",
    "plt.title('left map')\n",
    "\n",
    "fig.add_subplot(2,2,2)\n",
    "# azimuth_phase = np.angle(leftmap.conjugate()) - delay_vert\n",
    "azimuth_phase = np.angle(leftmap) - delay_vert\n",
    "plt.imshow(azimuth_phase, cmap='spectral', vmin=-1*math.pi, vmax=1*math.pi)\n",
    "# plt.colorbar()\n",
    "plt.title('leftmap shifted by delay')\n",
    "\n",
    "fig.add_subplot(2,2,3)\n",
    "right_phase = np.angle(rightmap)\n",
    "plt.imshow(right_phase, cmap='spectral', vmin=-1*math.pi, vmax=1*math.pi)\n",
    "plt.title('right map')\n",
    "\n",
    "fig.add_subplot(2,2,4)\n",
    "azimuth_phase = np.angle(rightmap.conjugate()) - delay_vert\n",
    "# azimuth_phase = np.angle(rightmap) - delay_vert\n",
    "plt.imshow(azimuth_phase, cmap='spectral', vmin=-1*math.pi, vmax=1*math.pi)\n",
    "# plt.colorbar()\n",
    "plt.title('rightmap shifted by delay')"
   ]
  },
  {
   "cell_type": "code",
   "execution_count": 46,
   "metadata": {
    "collapsed": false
   },
   "outputs": [
    {
     "data": {
      "text/plain": [
       "<matplotlib.colorbar.Colorbar instance at 0x7fe81a88f200>"
      ]
     },
     "execution_count": 46,
     "metadata": {},
     "output_type": "execute_result"
    },
    {
     "data": {
      "image/png": "[encoded data removed]",
      "text/plain": [
       "<matplotlib.figure.Figure at 0x7fe81aacd650>"
      ]
     },
     "metadata": {},
     "output_type": "display_data"
    }
   ],
   "source": [
    "azimuth_phase = np.angle(leftmap / rightmap) / 2. \n",
    "# azimuth_phase = ( np.angle(rightmap) - np.angle(leftmap) ) / 2. \n",
    "plt.imshow(azimuth_phase, cmap='spectral', vmin=-1*math.pi, vmax=1*math.pi)\n",
    "plt.colorbar()"
   ]
  },
  {
   "cell_type": "code",
   "execution_count": 160,
   "metadata": {
    "collapsed": false
   },
   "outputs": [
    {
     "data": {
      "text/plain": [
       "<matplotlib.colorbar.Colorbar instance at 0x7f01d2448368>"
      ]
     },
     "execution_count": 160,
     "metadata": {},
     "output_type": "execute_result"
    },
    {
     "data": {
      "image/png": "[encoded data removed]",
      "text/plain": [
       "<matplotlib.figure.Figure at 0x7f02526bd550>"
      ]
     },
     "metadata": {},
     "output_type": "display_data"
    }
   ],
   "source": [
    "# azimuth_phase = np.angle(leftmap / rightmap) / 2. \n",
    "azimuth_phase = ( np.angle(rightmap) - np.angle(leftmap) ) / 2. \n",
    "# fig=plt.imshow(azimuth_phase, cmap='spectral', vmin=-1*math.pi, vmax=1*math.pi)\n",
    "# cbar = plt.colorbar(fig) \n",
    "# cbar.ax.invert_yaxis()\n",
    "plt.imshow(azimuth_phase, cmap='spectral', vmin=1*math.pi, vmax=-1*math.pi)\n",
    "plt.colorbar()"
   ]
  },
  {
   "cell_type": "code",
   "execution_count": 161,
   "metadata": {
    "collapsed": true
   },
   "outputs": [],
   "source": [
    "###########################################################################################################"
   ]
  },
  {
   "cell_type": "code",
   "execution_count": 162,
   "metadata": {
    "collapsed": false
   },
   "outputs": [],
   "source": [
    "# DONT DO THIS.\n",
    "\n",
    "# ftmap = dict()\n",
    "# # outshape = D[D.keys()[0]]['ft_real'].shape\n",
    "# # print outshape\n",
    "# for curr_key in D.keys():\n",
    "#     outshape = D[curr_key]['ft_real'].shape # WTF, outshape changing based on stim... (but maybe not for actual imaging acquis. data)\n",
    "#     print outshape\n",
    "#     reals = D[curr_key]['ft_real'].ravel()\n",
    "#     imags = D[curr_key]['ft_imag'].ravel()\n",
    "# #     imags = imags*-1.\n",
    "# #     if 'Down' in curr_key:\n",
    "# #         imags = imags*-1\n",
    "# #     if 'Right' in curr_key:\n",
    "# #         imags = imags*-1\n",
    "#     ftmap[curr_key] = [complex(x[0], x[1]) for x in zip(reals, imags)]\n",
    "#     ftmap[curr_key] = np.reshape(np.array(ftmap[curr_key]), outshape)\n"
   ]
  },
  {
   "cell_type": "code",
   "execution_count": 822,
   "metadata": {
    "collapsed": false
   },
   "outputs": [
    {
     "name": "stdout",
     "output_type": "stream",
     "text": [
      "2.0\n",
      "3.0\n",
      "<type 'complex'>\n",
      "2.0 -3.0\n"
     ]
    }
   ],
   "source": [
    "# WTF, why multipling by -1.... imags are just imags!\n",
    "\n",
    "i = 2\n",
    "j = -3\n",
    "c = complex(2,3)\n",
    "# c = 2-3j\n",
    "# print c\n",
    "print c.real\n",
    "print c.imag\n",
    "\n",
    "c = 2-3j\n",
    "print type(c)\n",
    "cr = c.real\n",
    "ci = c.imag\n",
    "print cr, ci"
   ]
  },
  {
   "cell_type": "code",
   "execution_count": null,
   "metadata": {
    "collapsed": true
   },
   "outputs": [],
   "source": [
    "###########################################################################################################"
   ]
  },
  {
   "cell_type": "code",
   "execution_count": 1191,
   "metadata": {
    "collapsed": false
   },
   "outputs": [
    {
     "name": "stdout",
     "output_type": "stream",
     "text": [
      "(0.99807766255210428, 0.99923106502084169, 0.74602077638401709, 1.0)\n"
     ]
    },
    {
     "data": {
      "text/plain": [
       "(0.80000000000000004, 0.80000000000000004, 0.80000000000000004, 1.0)"
      ]
     },
     "execution_count": 1191,
     "metadata": {},
     "output_type": "execute_result"
    }
   ],
   "source": [
    "import matplotlib\n",
    "\n",
    "cmap = matplotlib.cm.get_cmap('Spectral')\n",
    "\n",
    "rgba = cmap(0.5)\n",
    "print(rgba)\n",
    "\n",
    "from matplotlib import cm\n"
   ]
  },
  {
   "cell_type": "code",
   "execution_count": 1234,
   "metadata": {
    "collapsed": false
   },
   "outputs": [
    {
     "name": "stdout",
     "output_type": "stream",
     "text": [
      "[480, 300]\n"
     ]
    }
   ],
   "source": [
    "# map_shape = leftmap.shape\n",
    "# screen_legend = np.zeros(map_shape)\n",
    "\n",
    "screen_size = [int(i*0.25) for i in winsize]\n",
    "print screen_size\n",
    "screen_legend = np.zeros((screen_size[1], screen_size[0]))\n",
    "\n",
    "VERT = 1\n",
    "left = 1\n",
    "\n",
    "if VERT: \n",
    "    if left:\n",
    "        # First, set half the screen width (0 to 239 = to 0 to -pi)\n",
    "        nspaces_start = np.linspace(0, -1*math.pi, screen_size[0]/2)\n",
    "        for i in range(screen_size[1]):\n",
    "            screen_legend[i][0:screen_size[0]/2] = nspaces_start\n",
    "        # Then, set right side of screen (240 to end = to pi to 0)\n",
    "        nspaces_end = np.linspace(1*math.pi, 0, screen_size[0]/2)\n",
    "        for i in range(screen_size[1]):\n",
    "            screen_legend[i][screen_size[0]/2:] = nspaces_end\n",
    "    if right:\n",
    "        # First, set half the screen width (0 to 239 = to 0 to -pi)\n",
    "        nspaces_start = np.linspace(0, 1*math.pi, screen_size[0]/2)\n",
    "        for i in range(screen_size[1]):\n",
    "            screen_legend[i][0:screen_size[0]/2] = nspaces_start\n",
    "        # Then, set right side of screen (240 to end = to pi to 0)\n",
    "        nspaces_end = np.linspace(-1*math.pi, 0, screen_size[0]/2)\n",
    "        for i in range(screen_size[1]):\n",
    "            screen_legend[i][screen_size[0]/2:] = nspaces_end\n",
    "\n",
    "if HORZ:\n",
    "    if up:\n",
    "        # First, set half the screen width (0 to 239 = to 0 to -pi)\n",
    "        nspaces_start = np.linspace(0, -1*math.pi, screen_size[0]/2)\n",
    "        for i in range(screen_size[0]):\n",
    "            screen_legend[i][0:screen_size[0]/2] = nspaces_start\n",
    "        # Then, set right side of screen (240 to end = to pi to 0)\n",
    "        nspaces_end = np.linspace(1*math.pi, 0, screen_size[0]/2)\n",
    "        for i in range(screen_size[1]):\n",
    "            screen_legend[i][screen_size[0]/2:] = nspaces_end\n",
    "    if right:\n",
    "        # First, set half the screen width (0 to 239 = to 0 to -pi)\n",
    "        nspaces_start = np.linspace(0, 1*math.pi, screen_size[0]/2)\n",
    "        for i in range(screen_size[1]):\n",
    "            screen_legend[i][0:screen_size[0]/2] = nspaces_start\n",
    "        # Then, set right side of screen (240 to end = to pi to 0)\n",
    "        nspaces_end = np.linspace(-1*math.pi, 0, screen_size[0]/2)\n",
    "        for i in range(screen_size[1]):\n",
    "            screen_legend[i][screen_size[0]/2:] = nspaces_end\n",
    "\n",
    "plt.imshow(screen_legend, cmap='spectral')"
   ]
  },
  {
   "cell_type": "code",
   "execution_count": 1235,
   "metadata": {
    "collapsed": false
   },
   "outputs": [
    {
     "data": {
      "text/plain": [
       "<matplotlib.image.AxesImage at 0x7f3d6fc14f50>"
      ]
     },
     "execution_count": 1235,
     "metadata": {},
     "output_type": "execute_result"
    },
    {
     "data": {
      "image/png": "[encoded data removed]",
      "text/plain": [
       "<matplotlib.figure.Figure at 0x7f3d6fc9ab90>"
      ]
     },
     "metadata": {},
     "output_type": "display_data"
    }
   ],
   "source": [
    "###################################################\n",
    "# V-LEFT:\n",
    "###################################################\n",
    "\n",
    "plt.imshow(screen_legend, cmap='spectral')"
   ]
  },
  {
   "cell_type": "code",
   "execution_count": 1233,
   "metadata": {
    "collapsed": false
   },
   "outputs": [
    {
     "data": {
      "text/plain": [
       "0.0"
      ]
     },
     "execution_count": 1233,
     "metadata": {},
     "output_type": "execute_result"
    }
   ],
   "source": [
    "screen_legend[i][240]"
   ]
  },
  {
   "cell_type": "code",
   "execution_count": 1221,
   "metadata": {
    "collapsed": false
   },
   "outputs": [
    {
     "data": {
      "text/plain": [
       "(480,)"
      ]
     },
     "execution_count": 1221,
     "metadata": {},
     "output_type": "execute_result"
    }
   ],
   "source": [
    "screen_legend[i].shape"
   ]
  },
  {
   "cell_type": "code",
   "execution_count": 1240,
   "metadata": {
    "collapsed": false
   },
   "outputs": [
    {
     "name": "stdout",
     "output_type": "stream",
     "text": [
      "[480, 300]\n"
     ]
    }
   ],
   "source": [
    "screen_size = [int(i*0.25) for i in winsize]\n",
    "print screen_size\n",
    "screen_legend = np.zeros((screen_size[1], screen_size[0]))\n",
    "\n",
    "VERT = 1\n",
    "left = 0\n",
    "\n",
    "HORZ = 0\n",
    "up = 1\n",
    "\n",
    "if VERT: \n",
    "    if left:\n",
    "        # First, set half the screen width (0 to 239 = to 0 to -pi)\n",
    "        nspaces_start = np.linspace(0, -1*math.pi, screen_size[0]/2)\n",
    "        for i in range(screen_size[1]):\n",
    "            screen_legend[i][0:screen_size[0]/2] = nspaces_start\n",
    "        # Then, set right side of screen (240 to end = to pi to 0)\n",
    "        nspaces_end = np.linspace(1*math.pi, 0, screen_size[0]/2)\n",
    "        for i in range(screen_size[1]):\n",
    "            screen_legend[i][screen_size[0]/2:] = nspaces_end\n",
    "    else:\n",
    "        # First, set half the screen width (0 to 239 = to 0 to -pi)\n",
    "        nspaces_start = np.linspace(0, 1*math.pi, screen_size[0]/2)\n",
    "        for i in range(screen_size[1]):\n",
    "            screen_legend[i][0:screen_size[0]/2] = nspaces_start\n",
    "        # Then, set right side of screen (240 to end = to pi to 0)\n",
    "        nspaces_end = np.linspace(-1*math.pi, 0, screen_size[0]/2)\n",
    "        for i in range(screen_size[1]):\n",
    "            screen_legend[i][screen_size[0]/2:] = nspaces_end\n",
    "\n",
    "if HORZ:\n",
    "    if up:\n",
    "        # First, set half the screen width (0 to 239 = to 0 to -pi)\n",
    "        nspaces_start = np.linspace(0, -1*math.pi, screen_size[0]/2)\n",
    "        for i in range(screen_size[0]):\n",
    "            screen_legend[i][0:screen_size[0]/2] = nspaces_start\n",
    "        # Then, set right side of screen (240 to end = to pi to 0)\n",
    "        nspaces_end = np.linspace(1*math.pi, 0, screen_size[0]/2)\n",
    "        for i in range(screen_size[1]):\n",
    "            screen_legend[i][screen_size[0]/2:] = nspaces_end\n",
    "    else:\n",
    "        # First, set half the screen width (0 to 239 = to 0 to -pi)\n",
    "        nspaces_start = np.linspace(0, 1*math.pi, screen_size[0]/2)\n",
    "        for i in range(screen_size[1]):\n",
    "            screen_legend[i][0:screen_size[0]/2] = nspaces_start\n",
    "        # Then, set right side of screen (240 to end = to pi to 0)\n",
    "        nspaces_end = np.linspace(-1*math.pi, 0, screen_size[0]/2)\n",
    "        for i in range(screen_size[1]):\n",
    "            screen_legend[i][screen_size[0]/2:] = nspaces_end\n"
   ]
  },
  {
   "cell_type": "code",
   "execution_count": 1241,
   "metadata": {
    "collapsed": false
   },
   "outputs": [
    {
     "data": {
      "text/plain": [
       "<matplotlib.image.AxesImage at 0x7f3d6f302ad0>"
      ]
     },
     "execution_count": 1241,
     "metadata": {},
     "output_type": "execute_result"
    },
    {
     "data": {
      "image/png": "[encoded data removed]",
      "text/plain": [
       "<matplotlib.figure.Figure at 0x7f3d6f758490>"
      ]
     },
     "metadata": {},
     "output_type": "display_data"
    }
   ],
   "source": [
    "###################################################\n",
    "# V-RIGHT:\n",
    "###################################################\n",
    "\n",
    "plt.imshow(screen_legend, cmap='spectral')\n"
   ]
  },
  {
   "cell_type": "code",
   "execution_count": null,
   "metadata": {
    "collapsed": true
   },
   "outputs": [],
   "source": []
  }
 ],
 "metadata": {
  "kernelspec": {
   "display_name": "Python 2",
   "language": "python",
   "name": "python2"
  },
  "language_info": {
   "codemirror_mode": {
    "name": "ipython",
    "version": 2
   },
   "file_extension": ".py",
   "mimetype": "text/x-python",
   "name": "python",
   "nbconvert_exporter": "python",
   "pygments_lexer": "ipython2",
   "version": "2.7.11"
  }
 },
 "nbformat": 4,
 "nbformat_minor": 0
}
