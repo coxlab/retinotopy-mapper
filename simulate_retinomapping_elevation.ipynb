{
 "cells": [
  {
   "cell_type": "code",
   "execution_count": 87,
   "metadata": {
    "collapsed": true
   },
   "outputs": [],
   "source": [
    "import numpy as np\n",
    "import os\n",
    "from skimage.measure import block_reduce\n",
    "from scipy.misc import imread\n",
    "import cPickle as pkl\n",
    "import scipy.signal\n",
    "import numpy.fft as fft\n",
    "import sys\n",
    "import optparse\n",
    "from libtiff import TIFF\n",
    "from PIL import Image\n",
    "import re\n",
    "import itertools\n",
    "from scipy import ndimage\n",
    "import pandas as pd\n",
    "import matplotlib.pyplot as plt"
   ]
  },
  {
   "cell_type": "code",
   "execution_count": 88,
   "metadata": {
    "collapsed": true
   },
   "outputs": [],
   "source": [
    "def atoi(text):\n",
    "    return int(text) if text.isdigit() else text\n",
    "\n",
    "def natural_keys(text):\n",
    "    return [ atoi(c) for c in re.split('(\\d+)', text) ]"
   ]
  },
  {
   "cell_type": "code",
   "execution_count": 89,
   "metadata": {
    "collapsed": true
   },
   "outputs": [],
   "source": [
    "# imdir = '/media/juliana/MAC/data/JR009/20150625/20150625_JR009_500um_0050Hz/V-Left_0'"
   ]
  },
  {
   "cell_type": "code",
   "execution_count": 845,
   "metadata": {
    "collapsed": true
   },
   "outputs": [],
   "source": [
    "# imdir = '/media/juliana/MAC/data/JR009/20150625/20150625_JR009_500um_0050Hz/H-Up_0'\n",
    "imdir = '/media/juliana/MAC/data/JR009/20150625/20150625_JR009_500um_0050Hz/H-Down_0'"
   ]
  },
  {
   "cell_type": "code",
   "execution_count": 846,
   "metadata": {
    "collapsed": true
   },
   "outputs": [],
   "source": [
    "im_format = '.png'"
   ]
  },
  {
   "cell_type": "code",
   "execution_count": 847,
   "metadata": {
    "collapsed": false
   },
   "outputs": [],
   "source": [
    "target_freq = 0.05"
   ]
  },
  {
   "cell_type": "code",
   "execution_count": 848,
   "metadata": {
    "collapsed": true
   },
   "outputs": [],
   "source": [
    "reduce_factor = (2, 2)"
   ]
  },
  {
   "cell_type": "code",
   "execution_count": 849,
   "metadata": {
    "collapsed": false
   },
   "outputs": [],
   "source": [
    "sampling_rate = 60.0"
   ]
  },
  {
   "cell_type": "code",
   "execution_count": 850,
   "metadata": {
    "collapsed": true
   },
   "outputs": [],
   "source": [
    "cycle_dur = 1. / target_freq"
   ]
  },
  {
   "cell_type": "code",
   "execution_count": 851,
   "metadata": {
    "collapsed": true
   },
   "outputs": [],
   "source": [
    "from IPython.display import Image, display"
   ]
  },
  {
   "cell_type": "code",
   "execution_count": 852,
   "metadata": {
    "collapsed": false
   },
   "outputs": [
    {
     "data": {
      "text/plain": [
       "20.0"
      ]
     },
     "metadata": {},
     "output_type": "display_data"
    }
   ],
   "source": [
    "display(cycle_dur)"
   ]
  },
  {
   "cell_type": "code",
   "execution_count": 853,
   "metadata": {
    "collapsed": false
   },
   "outputs": [],
   "source": [
    "basepath = os.path.split(os.path.split(imdir)[0])[0]\n",
    "session = os.path.split(os.path.split(imdir)[0])[1]\n",
    "cond = os.path.split(imdir)[1]"
   ]
  },
  {
   "cell_type": "code",
   "execution_count": 854,
   "metadata": {
    "collapsed": false
   },
   "outputs": [
    {
     "data": {
      "text/plain": [
       "'/media/juliana/MAC/data/JR009/20150625'"
      ]
     },
     "metadata": {},
     "output_type": "display_data"
    },
    {
     "data": {
      "text/plain": [
       "'20150625_JR009_500um_0050Hz'"
      ]
     },
     "metadata": {},
     "output_type": "display_data"
    },
    {
     "data": {
      "text/plain": [
       "'H-Down_0'"
      ]
     },
     "metadata": {},
     "output_type": "display_data"
    }
   ],
   "source": [
    "display(basepath); display(session); display(cond)"
   ]
  },
  {
   "cell_type": "code",
   "execution_count": 855,
   "metadata": {
    "collapsed": false
   },
   "outputs": [
    {
     "name": "stdout",
     "output_type": "stream",
     "text": [
      "23973\n",
      "23973\n",
      "003_20150625174441758431_0_0_1deg_[0.0, 37.39484838995645].png\n"
     ]
    }
   ],
   "source": [
    "files = os.listdir(imdir)\n",
    "print len(files)\n",
    "files = sorted([f for f in files if os.path.splitext(f)[1] == str(im_format)])\n",
    "print len(files)\n",
    "print files[0]"
   ]
  },
  {
   "cell_type": "code",
   "execution_count": 856,
   "metadata": {
    "collapsed": false
   },
   "outputs": [
    {
     "name": "stdout",
     "output_type": "stream",
     "text": [
      "file: 003_20150625174441758431_0_0_1deg_[0.0, 37.39484838995645].png\n",
      "sample type: float64, range: [3658.0, 1649.0]\n",
      "sample shape: (246, 328)\n"
     ]
    },
    {
     "data": {
      "text/plain": [
       "<matplotlib.image.AxesImage at 0x7f41adeae550>"
      ]
     },
     "execution_count": 856,
     "metadata": {},
     "output_type": "execute_result"
    },
    {
     "data": {
      "image/png": "[encoded data removed]",
      "text/plain": [
       "<matplotlib.figure.Figure at 0x7f41ad116e10>"
      ]
     },
     "metadata": {},
     "output_type": "display_data"
    }
   ],
   "source": [
    "%matplotlib inline\n",
    "tiff = TIFF.open(os.path.join(imdir, files[0]), mode='r')\n",
    "sample = tiff.read_image().astype('float')\n",
    "print \"file: %s\" % files[0]\n",
    "print \"sample type: %s, range: %s\" % (sample.dtype, str([sample.max(), sample.min()]))\n",
    "print \"sample shape: %s\" % str(sample.shape)\n",
    "tiff.close()\n",
    "plt.imshow(sample, cmap='gray')"
   ]
  },
  {
   "cell_type": "code",
   "execution_count": 857,
   "metadata": {
    "collapsed": true
   },
   "outputs": [],
   "source": [
    "# FIND CYCLE STARTS:\n",
    "positions = [re.findall(\"\\[([^[\\]]*)\\]\", f) for f in files]\n",
    "plist = list(itertools.chain.from_iterable(positions))\n",
    "positions = [map(float, i.split(',')) for i in plist]"
   ]
  },
  {
   "cell_type": "code",
   "execution_count": 858,
   "metadata": {
    "collapsed": false
   },
   "outputs": [
    {
     "data": {
      "text/plain": [
       "[[0.0, 37.39484838995645],\n",
       " [0.0, 37.305595814539764],\n",
       " [0.0, 37.2283681111874],\n",
       " [0.0, 37.148319545962764],\n",
       " [0.0, 37.06496388228396],\n",
       " [0.0, 36.985098086838335],\n",
       " [0.0, 36.9066841041656],\n",
       " [0.0, 36.82518372616807],\n",
       " [0.0, 36.74515470236634],\n",
       " [0.0, 36.66430149031588]]"
      ]
     },
     "metadata": {},
     "output_type": "display_data"
    },
    {
     "data": {
      "text/plain": [
       "23973"
      ]
     },
     "execution_count": 858,
     "metadata": {},
     "output_type": "execute_result"
    }
   ],
   "source": [
    "display(positions[0:10]); len(positions)"
   ]
  },
  {
   "cell_type": "code",
   "execution_count": 913,
   "metadata": {
    "collapsed": true
   },
   "outputs": [],
   "source": [
    "if 'H-Up' in cond:\n",
    "    find_cycs = list(itertools.chain.from_iterable(\n",
    "        np.where(np.diff([p[1] for p in positions]) < 0)))\n",
    "    moveX = 0\n",
    "    \n",
    "    orientation=0\n",
    "    direction=0\n",
    "    \n",
    "if 'H-Down' in cond:\n",
    "    find_cycs = list(itertools.chain.from_iterable(\n",
    "        np.where(np.diff([p[1] for p in positions]) > 0)))\n",
    "    moveX = 0\n",
    "    \n",
    "    orientation=0\n",
    "    direction=1\n",
    "    \n",
    "if 'V-Left' in cond:\n",
    "    find_cycs = list(itertools.chain.from_iterable(\n",
    "        np.where(np.diff([p[0] for p in positions]) < 0)))\n",
    "    moveX = 1\n",
    "    \n",
    "    orientation=1\n",
    "    direction=1\n",
    "    \n",
    "if 'V-Right' in cond:\n",
    "    find_cycs = list(itertools.chain.from_iterable(\n",
    "        np.where(np.diff([p[0] for p in positions]) > 0)))\n",
    "    moveX = 1\n",
    "\n",
    "    orientation=1\n",
    "    direction=0\n",
    "    \n",
    "idxs = [i + 1 for i in find_cycs]\n",
    "idxs.append(0)\n",
    "idxs.append(len(positions))\n",
    "idxs = sorted(idxs)\n",
    "nframes_per_cycle = [idxs[i] - idxs[i - 1] for i in range(1, len(idxs))]"
   ]
  },
  {
   "cell_type": "code",
   "execution_count": 914,
   "metadata": {
    "collapsed": false
   },
   "outputs": [
    {
     "data": {
      "text/plain": [
       "[0,\n",
       " 1199,\n",
       " 2397,\n",
       " 3596,\n",
       " 4795,\n",
       " 5994,\n",
       " 7192,\n",
       " 8390,\n",
       " 9589,\n",
       " 10788,\n",
       " 11987,\n",
       " 13185,\n",
       " 14383,\n",
       " 15582,\n",
       " 16781,\n",
       " 17980,\n",
       " 19178,\n",
       " 20376,\n",
       " 21575,\n",
       " 22774,\n",
       " 23973]"
      ]
     },
     "metadata": {},
     "output_type": "display_data"
    }
   ],
   "source": [
    "display(idxs)"
   ]
  },
  {
   "cell_type": "code",
   "execution_count": 915,
   "metadata": {
    "collapsed": false
   },
   "outputs": [
    {
     "data": {
      "text/plain": [
       "[1199,\n",
       " 1198,\n",
       " 1199,\n",
       " 1199,\n",
       " 1199,\n",
       " 1198,\n",
       " 1198,\n",
       " 1199,\n",
       " 1199,\n",
       " 1199,\n",
       " 1198,\n",
       " 1198,\n",
       " 1199,\n",
       " 1199,\n",
       " 1199,\n",
       " 1198,\n",
       " 1198,\n",
       " 1199,\n",
       " 1199,\n",
       " 1199]"
      ]
     },
     "metadata": {},
     "output_type": "display_data"
    }
   ],
   "source": [
    "display(nframes_per_cycle) # 0.05 cyc/sec, 20sec * 60Hz fps = 1200 frames per cycle (and, 1200*20 cycles=24k frames total )"
   ]
  },
  {
   "cell_type": "code",
   "execution_count": 916,
   "metadata": {
    "collapsed": false
   },
   "outputs": [
    {
     "data": {
      "text/plain": [
       "[[0.0, 37.39484838995645],\n",
       " [0.0, 37.305595814539764],\n",
       " [0.0, 37.2283681111874],\n",
       " [0.0, 37.148319545962764],\n",
       " [0.0, 37.06496388228396]]"
      ]
     },
     "execution_count": 916,
     "metadata": {},
     "output_type": "execute_result"
    }
   ],
   "source": [
    "positions[0:5]"
   ]
  },
  {
   "cell_type": "code",
   "execution_count": 917,
   "metadata": {
    "collapsed": false
   },
   "outputs": [
    {
     "data": {
      "text/plain": [
       "[[0.0, -58.793558513776745],\n",
       " [0.0, -58.873009341359335],\n",
       " [0.0, -58.9534533330241],\n",
       " [0.0, -59.03166040651304],\n",
       " [0.0, 37.39479091518317],\n",
       " [0.0, 37.30795917721678],\n",
       " [0.0, 37.21538455990488]]"
      ]
     },
     "execution_count": 917,
     "metadata": {},
     "output_type": "execute_result"
    }
   ],
   "source": [
    "positions[1195:1202] # idx[1] = 1198, i.e., start of cycle 2"
   ]
  },
  {
   "cell_type": "code",
   "execution_count": 918,
   "metadata": {
    "collapsed": true
   },
   "outputs": [],
   "source": [
    "from psychopy import visual, event, core, monitors, logging, tools"
   ]
  },
  {
   "cell_type": "code",
   "execution_count": 919,
   "metadata": {
    "collapsed": true
   },
   "outputs": [],
   "source": [
    "monitor_list = monitors.getAllMonitors()"
   ]
  },
  {
   "cell_type": "code",
   "execution_count": 920,
   "metadata": {
    "collapsed": false
   },
   "outputs": [
    {
     "data": {
      "text/plain": [
       "[u'AQUOS', u'testMonitor', u'BenQtest', u'syncmaster2433BW']"
      ]
     },
     "execution_count": 920,
     "metadata": {},
     "output_type": "execute_result"
    }
   ],
   "source": [
    "monitor_list"
   ]
  },
  {
   "cell_type": "code",
   "execution_count": 921,
   "metadata": {
    "collapsed": true
   },
   "outputs": [],
   "source": [
    "# whichMonitor = 'AQUOS'\n",
    "whichMonitor = 'syncmaster2433BW'"
   ]
  },
  {
   "cell_type": "code",
   "execution_count": 922,
   "metadata": {
    "collapsed": true
   },
   "outputs": [],
   "source": [
    "winsize = monitors.Monitor(whichMonitor).getSizePix()"
   ]
  },
  {
   "cell_type": "code",
   "execution_count": 923,
   "metadata": {
    "collapsed": false
   },
   "outputs": [
    {
     "data": {
      "text/plain": [
       "[1920, 1200]"
      ]
     },
     "execution_count": 923,
     "metadata": {},
     "output_type": "execute_result"
    }
   ],
   "source": [
    "winsize"
   ]
  },
  {
   "cell_type": "code",
   "execution_count": 924,
   "metadata": {
    "collapsed": false
   },
   "outputs": [
    {
     "data": {
      "text/plain": [
       "array([ 960.,  600.])"
      ]
     },
     "execution_count": 924,
     "metadata": {},
     "output_type": "execute_result"
    }
   ],
   "source": [
    "np.array(winsize)/2."
   ]
  },
  {
   "cell_type": "code",
   "execution_count": 925,
   "metadata": {
    "collapsed": false
   },
   "outputs": [],
   "source": [
    "win = visual.Window(fullscr=True, rgb=-1, size=winsize, units='deg', monitor=whichMonitor)"
   ]
  },
  {
   "cell_type": "code",
   "execution_count": 926,
   "metadata": {
    "collapsed": false
   },
   "outputs": [
    {
     "name": "stdout",
     "output_type": "stream",
     "text": [
      "8635.5372 \tWARNING \tUse of rgb arguments to stimuli are deprecated. Please use color and colorSpace args instead\n",
      "8635.5376 \tWARNING \tUser requested fullscreen with size [1920 1200], but screen is actually [2560, 1440]. Using actual size\n"
     ]
    }
   ],
   "source": [
    "win.close()"
   ]
  },
  {
   "cell_type": "code",
   "execution_count": 927,
   "metadata": {
    "collapsed": false
   },
   "outputs": [
    {
     "data": {
      "text/plain": [
       "51.52"
      ]
     },
     "metadata": {},
     "output_type": "display_data"
    },
    {
     "data": {
      "text/plain": [
       "32.2"
      ]
     },
     "metadata": {},
     "output_type": "display_data"
    },
    {
     "name": "stdout",
     "output_type": "stream",
     "text": [
      "Total Length:   51.52\n"
     ]
    }
   ],
   "source": [
    "cyc_per_sec = 0.05\n",
    "screen_width_cm = monitors.Monitor(whichMonitor).getWidth()\n",
    "screen_height_cm = (float(screen_width_cm)/monitors.Monitor(whichMonitor).getSizePix()[0])*monitors.Monitor(whichMonitor).getSizePix()[1]\n",
    "display(screen_width_cm); display(screen_height_cm)\n",
    "\n",
    "total_length = max([screen_width_cm, screen_height_cm])\n",
    "print \"Total Length:  \", total_length"
   ]
  },
  {
   "cell_type": "code",
   "execution_count": 928,
   "metadata": {
    "collapsed": false
   },
   "outputs": [
    {
     "name": "stdout",
     "output_type": "stream",
     "text": [
      "frames per cycle:  1200.0\n",
      "cycle duration (s):  20.0\n"
     ]
    }
   ],
   "source": [
    "fps = 60.\n",
    "total_time = total_length/(total_length*cyc_per_sec)\n",
    "frames_per_cycle = fps/cyc_per_sec\n",
    "print \"frames per cycle: \", frames_per_cycle\n",
    "distance = monitors.Monitor(whichMonitor).getDistance()\n",
    "\n",
    "num_seq_reps = 1\n",
    "duration = total_time*num_seq_reps\n",
    "print \"cycle duration (s): \", duration"
   ]
  },
  {
   "cell_type": "code",
   "execution_count": 929,
   "metadata": {
    "collapsed": false
   },
   "outputs": [],
   "source": [
    "barWidth = 1\n",
    "# orientation=0\n",
    "# longside = tools.monitorunittools.cm2deg(screen_height_cm, monitors.Monitor(whichMonitor))\n",
    "\n",
    "width_deg = tools.monitorunittools.cm2deg(screen_width_cm, monitors.Monitor(whichMonitor))\n",
    "height_deg = tools.monitorunittools.cm2deg(screen_height_cm, monitors.Monitor(whichMonitor))\n",
    "\n",
    "if orientation==1:\n",
    "    angle = 90 #0 is horizontal, 90 is vertical. 45 goes from up-left to down-right.\n",
    "    longside = tools.monitorunittools.cm2deg(screen_height_cm, monitors.Monitor(whichMonitor)) #screen_height_cm\n",
    "    # travelDist = screen_width_cm*0.5 # Half the travel distance (magnitude, no sign)\n",
    "#     width_deg = tools.monitorunittools.cm2deg(screen_width_cm, monitors.Monitor(whichMonitor))\n",
    "    travelDist = (width_deg*0.5)\n",
    "else:\n",
    "    angle = 0\n",
    "    longside = tools.monitorunittools.cm2deg(screen_width_cm, monitors.Monitor(whichMonitor)) #screen_width_cm\n",
    "    # travelDist = screen_height_cm*0.5 # Half the travel distance (magnitude, no sign)\n",
    "#     height_deg = tools.monitorunittools.cm2deg(screen_height_cm, monitors.Monitor(whichMonitor))\n",
    "    travelDist = (height_deg*0.5)"
   ]
  },
  {
   "cell_type": "code",
   "execution_count": 930,
   "metadata": {
    "collapsed": true
   },
   "outputs": [],
   "source": [
    "total_length_deg = tools.monitorunittools.cm2deg(total_length, monitors.Monitor(whichMonitor))\n",
    "stimSize = (longside,barWidth) # First number is longer dimension no matter what the orientation is.\n",
    "# uStartPoint = travelDist + barWidth*0.5 \n",
    "uStartPoint = travelDist"
   ]
  },
  {
   "cell_type": "code",
   "execution_count": 931,
   "metadata": {
    "collapsed": false
   },
   "outputs": [
    {
     "name": "stdout",
     "output_type": "stream",
     "text": [
      "screen physical dim [W, H]:  147.579490117 92.2371813234\n",
      "total (max) travel distance:  147.579490117\n",
      "size (147.5794901174449, 1)\n",
      "visible travel distance 92.2371813234\n"
     ]
    }
   ],
   "source": [
    "print \"screen physical dim [W, H]: \", width_deg, height_deg\n",
    "print 'total (max) travel distance: ', total_length_deg\n",
    "print \"size\", stimSize\n",
    "print \"visible travel distance\", travelDist*2"
   ]
  },
  {
   "cell_type": "code",
   "execution_count": 932,
   "metadata": {
    "collapsed": false
   },
   "outputs": [],
   "source": [
    "# [screen_width, screen_height_cm] = [93.0, 52.517647058823535]\n",
    "# winsize (pixels) = [1360, 768]\n",
    "# [width_deg, height_deg] = [213.11945001432255, 120.34980706691158]\n",
    "# Looks like aspect ratio is constant, phew.\n",
    "\n",
    "# 213.11945001432255/120.34980706691158\n",
    "# 1360/768.\n",
    "# 93.0/52.517647058823535"
   ]
  },
  {
   "cell_type": "code",
   "execution_count": 933,
   "metadata": {
    "collapsed": true
   },
   "outputs": [],
   "source": [
    "# orientation=0\n",
    "# direction=0 # as of 04/2016, this means FROM neg TO pos (left-->right {cond1: V-Left} or bottom-->top {cond4: H-Up})\n",
    "\n",
    "if direction==1: # START FROM NEG, go POS (start left-->right, or start bottom-->top)\n",
    "    startSign = -1\n",
    "else:\n",
    "    startSign = 1"
   ]
  },
  {
   "cell_type": "code",
   "execution_count": 934,
   "metadata": {
    "collapsed": false
   },
   "outputs": [
    {
     "data": {
      "text/plain": [
       "-45.618590661701525"
      ]
     },
     "metadata": {},
     "output_type": "display_data"
    }
   ],
   "source": [
    "startPoint = startSign*uStartPoint +barWidth*0.5; display(startPoint)"
   ]
  },
  {
   "cell_type": "code",
   "execution_count": 935,
   "metadata": {
    "collapsed": false
   },
   "outputs": [
    {
     "data": {
      "text/plain": [
       "72.78974505872245"
      ]
     },
     "metadata": {},
     "output_type": "display_data"
    }
   ],
   "source": [
    "endPoint = -1*(startPoint + startSign*(total_length_deg*0.5-uStartPoint - barWidth*0.5)); display(endPoint)"
   ]
  },
  {
   "cell_type": "code",
   "execution_count": 936,
   "metadata": {
    "collapsed": false
   },
   "outputs": [
    {
     "name": "stdout",
     "output_type": "stream",
     "text": [
      "DIST:  118.40833572\n",
      "START:  -45.6185906617\n",
      "END:  72.7897450587\n"
     ]
    }
   ],
   "source": [
    "dist = endPoint - startPoint\n",
    "print \"DIST: \", dist\n",
    "print \"START: \", startPoint\n",
    "print \"END: \", endPoint\n",
    "\n",
    "# THESE VALS ARE ACTUALLY INCORRECT -- we fall short of this."
   ]
  },
  {
   "cell_type": "code",
   "execution_count": 937,
   "metadata": {
    "collapsed": false
   },
   "outputs": [
    {
     "data": {
      "text/plain": [
       "-73.78974505872245"
      ]
     },
     "execution_count": 937,
     "metadata": {},
     "output_type": "execute_result"
    }
   ],
   "source": [
    "startPoint + startSign*(total_length_deg*0.5-uStartPoint + barWidth*0.5) # should be ADDING barWidth (to start AND end off screen...)\n",
    "# This formulation follows the leading edge of the bar, with the edge starting offscreen and ending at the opposite side, with the caaveat\n",
    "# that at the end of the cycle (V-Left), we have the cycle ending w/ the bar ON screen...\n",
    "\n",
    "# ACTUALLY, this is wrong:  startPoint adds barWidth, thereby starting the trailing edge of the bar aligned to edge of screen... \n",
    "# and, endPoint results in the leading edge of the bar aligned to the edge of opposite side of screen... -- see Line "
   ]
  },
  {
   "cell_type": "code",
   "execution_count": 938,
   "metadata": {
    "collapsed": false
   },
   "outputs": [
    {
     "data": {
      "text/plain": [
       "118.40833572042396"
      ]
     },
     "metadata": {},
     "output_type": "display_data"
    }
   ],
   "source": [
    "dist = endPoint - startPoint; display(dist)"
   ]
  },
  {
   "cell_type": "code",
   "execution_count": 939,
   "metadata": {
    "collapsed": false
   },
   "outputs": [
    {
     "data": {
      "text/plain": [
       "29.171154397020928"
      ]
     },
     "execution_count": 939,
     "metadata": {},
     "output_type": "execute_result"
    }
   ],
   "source": [
    "total_length_deg - dist"
   ]
  },
  {
   "cell_type": "code",
   "execution_count": 940,
   "metadata": {
    "collapsed": false
   },
   "outputs": [],
   "source": [
    "# 04/12/2016 - jyr\n",
    "\n",
    "# signs got screwed up at some point...\n",
    "\n",
    "# SHOULD BE THIS:\n",
    "#startPoint = startSign*uStartPoint - barWidth*0.5; display(startPoint)\n",
    "# i.e., total_length_deg*0.5 + barWidth*0.5 -- this starts with bar OFF screen (leading edge)\n",
    "\n",
    "\n",
    "#endPoint = -1*(startPoint + startSign*(total_length_deg*0.5-uStartPoint + barWidth*0.5)); display(endPoint)\n",
    "# i.e., -1*total_length_deg*0.5 + barWidth*0.5 -- this starts with bar OFF screen (leading edge)\n",
    "\n",
    "# SIMPLIFIED:\n",
    "# endPoint = -1*(startPoint - startSign*(barWidth*0.5)); display(endPoint) \n",
    "# THIS is if you just want the leading edge to go from screen-end to screen-end"
   ]
  },
  {
   "cell_type": "code",
   "execution_count": 941,
   "metadata": {
    "collapsed": false
   },
   "outputs": [
    {
     "data": {
      "text/plain": [
       "1260"
      ]
     },
     "metadata": {},
     "output_type": "display_data"
    },
    {
     "data": {
      "text/plain": [
       "[-45.618590661701525,\n",
       " -45.519917048601172,\n",
       " -45.42124343550082,\n",
       " -45.322569822400467,\n",
       " -45.223896209300115]"
      ]
     },
     "metadata": {},
     "output_type": "display_data"
    },
    {
     "data": {
      "image/png": "[encoded data removed]",
      "text/plain": [
       "<matplotlib.figure.Figure at 0x7f41adfdc5d0>"
      ]
     },
     "metadata": {},
     "output_type": "display_data"
    }
   ],
   "source": [
    "# STH WERID WITH POSITIONS:\n",
    "# Just using linearly spaced 1/fps intervals for x frames should give similar coords, using the same end/startPoints...\n",
    "# But, compare below 2 figs...\n",
    "\n",
    "# SOLVED:\n",
    "# Running with monitor settings to syncmaster:\n",
    "# winsize = [1920, 1200]\n",
    "# startPoint = -73.2897450587\n",
    "# posX = -73.2896754026,-72.8982859728, ...\n",
    "# DIST:  146.079490117\n",
    "# DUR:  20.0\n",
    "\n",
    "# i.e,. datafiles from 06.25.2015 using some other config...\n",
    "\n",
    "import math\n",
    "# angle = 0 # VERT \n",
    "\n",
    "nframes = 21\n",
    "dt = 1/fps\n",
    "samples = np.arange(0,nframes,dt)\n",
    "pos = []\n",
    "for i in samples:\n",
    "    curr_pos = (i % total_time) / total_time * (endPoint-startPoint) + startPoint\n",
    "    if angle==90:\n",
    "        cart_pos = curr_pos*math.sin(angle*math.pi/180)+0 #centerPoint[0]\n",
    "    else:\n",
    "        cart_pos= curr_pos*math.cos(angle*math.pi/180) #+centerPoint[1]\n",
    "    pos.append(cart_pos)\n",
    "    \n",
    "display(len(pos))\n",
    "plt.scatter(np.arange(len(samples)), pos)\n",
    "display(pos[0:5])"
   ]
  },
  {
   "cell_type": "code",
   "execution_count": 942,
   "metadata": {
    "collapsed": false
   },
   "outputs": [
    {
     "data": {
      "text/plain": [
       "1199"
      ]
     },
     "metadata": {},
     "output_type": "display_data"
    },
    {
     "data": {
      "text/plain": [
       "<matplotlib.collections.PathCollection at 0x7f41ad0b4cd0>"
      ]
     },
     "execution_count": 942,
     "metadata": {},
     "output_type": "execute_result"
    },
    {
     "data": {
      "image/png": "[encoded data removed]",
      "text/plain": [
       "<matplotlib.figure.Figure at 0x7f410f847690>"
      ]
     },
     "metadata": {},
     "output_type": "display_data"
    }
   ],
   "source": [
    "if moveX:\n",
    "    moving_dim = [positions[i][0] for (i,p) in enumerate(positions)]\n",
    "else:\n",
    "    moving_dim = [positions[i][1] for (i,p) in enumerate(positions)]\n",
    "    \n",
    "display(idxs[1])\n",
    "\n",
    "nframes = idxs[1] + 1\n",
    "real_pos = moving_dim[0:nframes]\n",
    "plt.scatter(np.arange(len(real_pos)), real_pos)"
   ]
  },
  {
   "cell_type": "code",
   "execution_count": 943,
   "metadata": {
    "collapsed": false
   },
   "outputs": [
    {
     "data": {
      "text/plain": [
       "23973"
      ]
     },
     "execution_count": 943,
     "metadata": {},
     "output_type": "execute_result"
    }
   ],
   "source": [
    "len(positions)"
   ]
  },
  {
   "cell_type": "code",
   "execution_count": 944,
   "metadata": {
    "collapsed": false
   },
   "outputs": [
    {
     "data": {
      "text/plain": [
       "(147.5794901174449, 1)"
      ]
     },
     "execution_count": 944,
     "metadata": {},
     "output_type": "execute_result"
    }
   ],
   "source": [
    "stimSize"
   ]
  },
  {
   "cell_type": "code",
   "execution_count": 945,
   "metadata": {
    "collapsed": false
   },
   "outputs": [
    {
     "data": {
      "text/plain": [
       "-45.618590661701525"
      ]
     },
     "metadata": {},
     "output_type": "display_data"
    },
    {
     "data": {
      "text/plain": [
       "72.78974505872245"
      ]
     },
     "metadata": {},
     "output_type": "display_data"
    },
    {
     "data": {
      "text/plain": [
       "37.39484838995645"
      ]
     },
     "metadata": {},
     "output_type": "display_data"
    },
    {
     "data": {
      "text/plain": [
       "-59.01741815769583"
      ]
     },
     "metadata": {},
     "output_type": "display_data"
    }
   ],
   "source": [
    "display(startPoint); display(endPoint); display(moving_dim[0]); display(moving_dim[-1])"
   ]
  },
  {
   "cell_type": "code",
   "execution_count": 946,
   "metadata": {
    "collapsed": false
   },
   "outputs": [],
   "source": [
    "# More weird stuff... why are timestamps so off?\n",
    "\n",
    "from datetime import datetime\n",
    "tstamps = [f.split('_')[1] for f in files]\n",
    "FORMAT = '%Y%m%d%H%M%S%f'\n",
    "#date = datetime.strptime(tstamps[0], FORMAT)\n",
    "#display(date)\n",
    "# convert string into math-able form:\n",
    "#'{hrs}:{min}:{sec}.{msec}'.format(hrs = str(d.hour), min = str(d.minute), sec = str(d.second), msec = str(d.microsecond/1000))\n",
    "fmt_tstamps = [datetime.strptime(t, FORMAT) for t in tstamps]\n",
    "times = ['{hrs}:{min}:{sec}.{msec}'.format(hrs = str(d.hour), min = str(d.minute), sec = str(d.second), msec = str(d.microsecond)) for d in fmt_tstamps]"
   ]
  },
  {
   "cell_type": "code",
   "execution_count": 947,
   "metadata": {
    "collapsed": false
   },
   "outputs": [],
   "source": [
    "mstimes = []\n",
    "for t in times:\n",
    "    hours, minutes, seconds = (t.split(\":\"))[-3:]\n",
    "    hours = int(hours)\n",
    "    minutes = int(minutes)\n",
    "    seconds = float(seconds)\n",
    "    miliseconds = int(3600000 * hours + 60000 * minutes + 1000 * seconds)\n",
    "    mstimes.append(miliseconds)"
   ]
  },
  {
   "cell_type": "code",
   "execution_count": 948,
   "metadata": {
    "collapsed": false
   },
   "outputs": [
    {
     "data": {
      "text/plain": [
       "'17:51:22.391440'"
      ]
     },
     "execution_count": 948,
     "metadata": {},
     "output_type": "execute_result"
    }
   ],
   "source": [
    "t"
   ]
  },
  {
   "cell_type": "code",
   "execution_count": 949,
   "metadata": {
    "collapsed": false
   },
   "outputs": [
    {
     "data": {
      "text/plain": [
       "['20150625174441758431',\n",
       " '20150625174441775092',\n",
       " '20150625174441791601',\n",
       " '20150625174441808601',\n",
       " '20150625174441825288']"
      ]
     },
     "execution_count": 949,
     "metadata": {},
     "output_type": "execute_result"
    }
   ],
   "source": [
    "tstamps[0:5]"
   ]
  },
  {
   "cell_type": "code",
   "execution_count": 950,
   "metadata": {
    "collapsed": false
   },
   "outputs": [
    {
     "data": {
      "text/plain": [
       "[<matplotlib.lines.Line2D at 0x7f41ae3b3c10>]"
      ]
     },
     "execution_count": 950,
     "metadata": {},
     "output_type": "execute_result"
    },
    {
     "data": {
      "image/png": "[encoded data removed]",
      "text/plain": [
       "<matplotlib.figure.Figure at 0x7f41ae07a9d0>"
      ]
     },
     "metadata": {},
     "output_type": "display_data"
    }
   ],
   "source": [
    "plt.plot(np.diff(mstimes[0:100]))"
   ]
  },
  {
   "cell_type": "code",
   "execution_count": 951,
   "metadata": {
    "collapsed": false
   },
   "outputs": [
    {
     "data": {
      "text/plain": [
       "37.39484838995645"
      ]
     },
     "metadata": {},
     "output_type": "display_data"
    },
    {
     "data": {
      "text/plain": [
       "-59.03166040651304"
      ]
     },
     "metadata": {},
     "output_type": "display_data"
    },
    {
     "data": {
      "text/plain": [
       "37.39479091518317"
      ]
     },
     "metadata": {},
     "output_type": "display_data"
    },
    {
     "name": "stdout",
     "output_type": "stream",
     "text": [
      "travel distance:  96.4265087965\n"
     ]
    }
   ],
   "source": [
    "# x = [positions[i][0] for (i,p) in enumerate(positions)]\n",
    "P = [i for i in moving_dim]\n",
    "display(P[0])\n",
    "display(P[idxs[1]-1])\n",
    "display(P[idxs[1]])\n",
    "# sim = np.zeros((len(P), ))\n",
    "print \"travel distance: \", abs(P[idxs[1]-1]) + abs(P[0])"
   ]
  },
  {
   "cell_type": "code",
   "execution_count": 953,
   "metadata": {
    "collapsed": false
   },
   "outputs": [
    {
     "name": "stdout",
     "output_type": "stream",
     "text": [
      "59.0174181577\n",
      "[37.39484838995645, 37.305595814539764, 37.2283681111874, 37.148319545962764, 37.06496388228396]\n",
      "[-58.71341454042849, -58.793558513776745, -58.873009341359335, -58.9534533330241, -59.03166040651304, 37.39479091518317]\n",
      "[ 0.          0.07987959  0.16010173  0.24041583  0.32142307]\n",
      "[  9.60857328e+01   9.61656503e+01   9.62446391e+01   9.63258785e+01\n",
      "   9.64122528e+01  -1.75527958e-03]\n",
      "96.4265087965\n"
     ]
    }
   ],
   "source": [
    "# shift all position values by some max value so there are no \"negative\" values\n",
    "# this makes it so that we actually draw within rect (need positive)\n",
    "\n",
    "\n",
    "print abs(moving_dim[-1])\n",
    "print P[0:5]\n",
    "print P[idxs[1]-5:idxs[1]+1]\n",
    "\n",
    "# shift_val = np.ceil(max([abs(i) for i in P]))\n",
    "\n",
    "if direction==0:\n",
    "    shift_val = abs(moving_dim[0])\n",
    "else:\n",
    "    shift_val = abs(moving_dim[-1])\n",
    "\n",
    "shift_P = [i+shift_val for i in P] # so we actually draw within rect (need positive)\n",
    "shift_P = np.flipud(shift_P)\n",
    "\n",
    "if direction==0: # shift by offset between calculate travel dist and actual screen size (andddd start from bottom of screen)\n",
    "    shift_screen = abs(travelDist*2 - max(shift_P))\n",
    "    shift_P -= shift_screen\n",
    "\n",
    "print shift_P[0:5]\n",
    "print shift_P[idxs[1]-5:idxs[1]+1]\n",
    "print max(shift_P) - min(shift_P)\n"
   ]
  },
  {
   "cell_type": "code",
   "execution_count": 968,
   "metadata": {
    "collapsed": false
   },
   "outputs": [
    {
     "data": {
      "text/plain": [
       "148.0"
      ]
     },
     "metadata": {},
     "output_type": "display_data"
    },
    {
     "data": {
      "text/plain": [
       "93.0"
      ]
     },
     "metadata": {},
     "output_type": "display_data"
    },
    {
     "name": "stdout",
     "output_type": "stream",
     "text": [
      "(147.5794901174449, 1)\n"
     ]
    }
   ],
   "source": [
    "import pygame\n",
    "import sys\n",
    "\n",
    "# travelDist*2\n",
    "\n",
    "# Set \"screen\" dimensions to be s.t. it is physical screen, not actual bar travel distance...\n",
    "\n",
    "if moveX:\n",
    "#     w=abs(np.ceil(abs(P[0])+barWidth)*2) # include offset to compensate for stupid positioning above...\n",
    "#     w=abs(np.ceil(max(shift_P) - min(shift_P)) + barWidth)\n",
    "    w=np.ceil(abs(travelDist)*2)\n",
    "    h=abs(np.ceil(stimSize[0]))\n",
    "else:\n",
    "#     h=abs(np.ceil(abs(P[0])+barWidth)*2) # include offset to compensate for stupid positioning above...\n",
    "#     h=abs(np.ceil(max(shift_P) - min(shift_P)) + barWidth)\n",
    "    h=np.ceil(abs(travelDist)*2)\n",
    "    w=abs(np.ceil(stimSize[0]))\n",
    "\n",
    "display(w,h)\n",
    "\n",
    "black = (0,0,0)\n",
    "white = (255,255,255)\n",
    "print stimSize"
   ]
  },
  {
   "cell_type": "code",
   "execution_count": 969,
   "metadata": {
    "collapsed": false
   },
   "outputs": [
    {
     "name": "stdout",
     "output_type": "stream",
     "text": [
      "23976\n"
     ]
    }
   ],
   "source": [
    "pygame.init()\n",
    "screen = pygame.display.set_mode((int(w),int(h)))\n",
    "\n",
    "screen.fill(black)\n",
    "# pygame.display.update()\n",
    "\n",
    "barw = stimSize[0]\n",
    "barh = stimSize[1]\n",
    "\n",
    "posx = 0.\n",
    "posy=shift_P[1199]\n",
    "print actual_nframes\n",
    "screen.fill(black)\n",
    "pygame.draw.rect(screen, white, (posx,posy,barw,2), 0)\n",
    "pygame.display.update()"
   ]
  },
  {
   "cell_type": "code",
   "execution_count": 970,
   "metadata": {
    "collapsed": false
   },
   "outputs": [],
   "source": [
    "pygame.init()\n",
    "screen = pygame.display.set_mode((int(w),int(h)))\n",
    "\n",
    "screen.fill(black)\n",
    "\n",
    "savedir = './tests/simulation/%s/' % cond\n",
    "if not os.path.exists(savedir):\n",
    "    os.makedirs(savedir)\n",
    "\n",
    "if moveX:\n",
    "    barw = stimSize[1]\n",
    "    barh = stimSize[0]\n",
    "else:\n",
    "    barw = stimSize[0]\n",
    "    barh = stimSize[1]    \n",
    "\n",
    "actual_nframes = len(positions)\n",
    "\n",
    "delay_secs = 5 # n seconds to wait to simulate hemo \"delay\"\n",
    "delay_frames = delay_secs * fps\n",
    "\n",
    "\n",
    "nframes = 0\n",
    "while nframes < actual_nframes:\n",
    "    if moveX:\n",
    "        posx=shift_P[nframes]\n",
    "        posy=0 #shift_x[nframes]\n",
    "    else:\n",
    "        posx=0\n",
    "        posy=shift_P[nframes]\n",
    "        \n",
    "    screen.fill(black)\n",
    "    pygame.draw.rect(screen, white, (posx,posy,barw,2), 0)\n",
    "    pygame.display.update()\n",
    "    pygame.image.save(screen, os.path.join(savedir, \"screen_%i.bmp\" % nframes))\n",
    "    nframes += 1"
   ]
  },
  {
   "cell_type": "code",
   "execution_count": 971,
   "metadata": {
    "collapsed": false
   },
   "outputs": [
    {
     "name": "stdout",
     "output_type": "stream",
     "text": [
      "N frames: 23973\n",
      "N positions: 23973\n"
     ]
    }
   ],
   "source": [
    "nframes_collected = os.listdir(savedir)\n",
    "print(\"N frames: %s\" % str(len(nframes_collected)))\n",
    "print(\"N positions: %s\" % str(len(positions)))"
   ]
  },
  {
   "cell_type": "code",
   "execution_count": 972,
   "metadata": {
    "collapsed": false
   },
   "outputs": [],
   "source": [
    "sim_frames = sorted([i for i in nframes_collected if i.split('.')[1]=='bmp'], key=natural_keys)"
   ]
  },
  {
   "cell_type": "code",
   "execution_count": 975,
   "metadata": {
    "collapsed": false
   },
   "outputs": [],
   "source": [
    "from PIL import Image\n",
    "sim=Image.open(os.path.join(savedir, sim_frames[1190]),'r')"
   ]
  },
  {
   "cell_type": "code",
   "execution_count": 976,
   "metadata": {
    "collapsed": false
   },
   "outputs": [
    {
     "name": "stdout",
     "output_type": "stream",
     "text": [
      "SIM IMAGE SHAPE: (148, 93)\n"
     ]
    },
    {
     "data": {
      "image/png": "[encoded data removed]",
      "text/plain": [
       "<matplotlib.figure.Figure at 0x7f41ad0e64d0>"
      ]
     },
     "metadata": {},
     "output_type": "display_data"
    }
   ],
   "source": [
    "# is it working...?\n",
    "# sim = Image.open(os.path.join(\"./stimuli/simulated\", sim_frames[100])).convert('LA')\n",
    "# sim=sim.convert('1') # make BW so don't have to deal with 3d\n",
    "# lena = misc.imread(os.path.join(\"./stimuli/simulated\", sim_frames[100]))\n",
    "\n",
    "# sim=Image.open(os.path.join(savedir, sim_frames[100]),'r')\n",
    "sim=sim.convert('L') #makes it greyscale\n",
    "y=np.asarray(sim.getdata(),dtype=np.float64).reshape((sim.size[1],sim.size[0]))\n",
    "y=np.asarray(y,dtype=np.uint8)\n",
    "\n",
    "plt.imshow(y)\n",
    "print \"SIM IMAGE SHAPE: %s\" % str(sim.size)"
   ]
  },
  {
   "cell_type": "code",
   "execution_count": 977,
   "metadata": {
    "collapsed": false
   },
   "outputs": [
    {
     "data": {
      "text/plain": [
       "0"
      ]
     },
     "execution_count": 977,
     "metadata": {},
     "output_type": "execute_result"
    }
   ],
   "source": [
    "y.max()"
   ]
  },
  {
   "cell_type": "code",
   "execution_count": 978,
   "metadata": {
    "collapsed": false
   },
   "outputs": [
    {
     "name": "stdout",
     "output_type": "stream",
     "text": [
      "(93, 148, 23973)\n",
      "0 images processed...\n",
      "1000 images processed...\n",
      "2000 images processed...\n",
      "3000 images processed...\n",
      "4000 images processed...\n",
      "5000 images processed...\n",
      "6000 images processed...\n",
      "7000 images processed...\n",
      "8000 images processed...\n",
      "9000 images processed...\n",
      "10000 images processed...\n",
      "11000 images processed...\n",
      "12000 images processed...\n",
      "13000 images processed...\n",
      "14000 images processed...\n",
      "15000 images processed...\n",
      "16000 images processed...\n",
      "17000 images processed...\n",
      "18000 images processed...\n",
      "19000 images processed...\n",
      "20000 images processed...\n",
      "21000 images processed...\n",
      "22000 images processed...\n",
      "23000 images processed...\n"
     ]
    }
   ],
   "source": [
    "stack = np.empty((sim.size[1], sim.size[0], len(sim_frames)))\n",
    "print stack.shape\n",
    "\n",
    "for i, f in enumerate(sim_frames):\n",
    "    if i % 1000 == 0:\n",
    "        print('%d images processed...' % i)\n",
    "    sim=Image.open(os.path.join(savedir, sim_frames[i]),'r')\n",
    "    sim=sim.convert('L') #makes it greyscale\n",
    "    y=np.asarray(sim.getdata(),dtype=np.float64).reshape((sim.size[1],sim.size[0]))\n",
    "    stack[:, :, i] = y"
   ]
  },
  {
   "cell_type": "code",
   "execution_count": 979,
   "metadata": {
    "collapsed": false
   },
   "outputs": [
    {
     "name": "stdout",
     "output_type": "stream",
     "text": [
      "TARGET:  20 0.0500563133525\n",
      "FREQS:  [ 0.          0.00250282  0.00500563 ..., -0.00750845 -0.00500563\n",
      " -0.00250282]\n"
     ]
    }
   ],
   "source": [
    "freqs = fft.fftfreq(len(stack[0, 0, :]), 1 / sampling_rate) # When set fps to 60 vs 120 -- target_bin should be 2x higher for 120, but freq correct (looks for closest matching target_bin )\n",
    "binwidth = freqs[1] - freqs[0]\n",
    "#target_bin = int(target_freq / binwidth)\n",
    "target_bin = np.where(freqs == min(freqs, key=lambda x: abs(float(x) - target_freq)))[0][0]\n",
    "print \"TARGET: \", target_bin, freqs[target_bin]\n",
    "print \"FREQS: \", freqs"
   ]
  },
  {
   "cell_type": "code",
   "execution_count": 980,
   "metadata": {
    "collapsed": false
   },
   "outputs": [],
   "source": [
    "\n",
    "# FFT:\n",
    "sample = stack[:,:,0]\n",
    "mag_map = np.empty(sample.shape)\n",
    "phase_map = np.empty(sample.shape)\n",
    "\n",
    "ft_real = np.empty(sample.shape)\n",
    "ft_imag = np.empty(sample.shape)\n",
    "\n",
    "ft_real_shift = np.empty(sample.shape)\n",
    "ft_imag_shift = np.empty(sample.shape)\n",
    "\n",
    "dynrange = np.empty(sample.shape)\n",
    "\n",
    "ft = np.empty(sample.shape)\n",
    "ft = ft + 0j\n",
    "\n",
    "#dlist = []\n",
    "i = 0\n",
    "for x in range(sample.shape[0]):\n",
    "    for y in range(sample.shape[1]):\n",
    "\n",
    "        # THIS IS BASICALLY MOVING AVG WINDOW...\n",
    "        pix = scipy.signal.detrend(stack[x, y, :], type='constant')\n",
    "\n",
    "        #dynrange[x, y] = np.log2(pix.max() - pix.min())\n",
    "\n",
    "        curr_ft = fft.fft(pix)  # fft.fft(pix) / len(pix)])\n",
    "        #curr_ft_shift = fft.fftshift(curr_ft)\n",
    "\n",
    "# DF = pd.DataFrame.from_records(dlist)\n",
    "\n",
    "        #mag = np.abs(curr_ft)\n",
    "        # mag_max = np.where(mag == mag.max())\n",
    "        # mag_min = np.where(mag == mag.min())\n",
    "        \n",
    "        phase = np.angle(curr_ft)\n",
    "\n",
    "        ft_real[x, y] = curr_ft[target_bin].real\n",
    "        ft_imag[x, y] = curr_ft[target_bin].imag\n",
    "        \n",
    "        ft[x,y] = curr_ft[target_bin]\n",
    "\n",
    "        #ft_real_shift[x, y] = curr_ft_shift[target_bin_shift].real\n",
    "        #ft_imag_shift[x, y] = curr_ft_shift[target_bin_shift].imag\n",
    "\n",
    "        # if i % 100 == 0:\n",
    "        # print ft_real[x, y], ft_imag[x,y]\n",
    "\n",
    "        #mag_map[x, y] = mag[target_bin]\n",
    "        phase_map[x, y] = phase[target_bin]\n",
    "\n",
    "        #dlist.append((x, y, curr_ft))\n",
    "\n",
    "        i += 1"
   ]
  },
  {
   "cell_type": "code",
   "execution_count": 981,
   "metadata": {
    "collapsed": false
   },
   "outputs": [
    {
     "data": {
      "text/plain": [
       "'./tests/simulation'"
      ]
     },
     "execution_count": 981,
     "metadata": {},
     "output_type": "execute_result"
    }
   ],
   "source": [
    "os.path.split(os.path.split(savedir)[0])[0]"
   ]
  },
  {
   "cell_type": "code",
   "execution_count": 982,
   "metadata": {
    "collapsed": false
   },
   "outputs": [],
   "source": [
    "outdir = os.path.join(os.path.split(os.path.split(savedir)[0])[0], \"structs\")\n",
    "append_to_name = \"simulated\"\n",
    "outdir\n",
    "\n",
    "D = dict()\n",
    "\n",
    "D['ft_real'] = ft_real  # np.array(ft)\n",
    "D['ft_imag'] = ft_imag\n",
    "D['ft'] = ft\n",
    "\n",
    "# D['mag_map'] = mag_map\n",
    "D['phase_map'] = phase_map\n",
    "\n",
    "D['mean_intensity'] = np.mean(stack, axis=2)\n",
    "#D['stack'] = stack\n",
    "#del stack\n",
    "D['dynrange'] = dynrange\n",
    "D['target_freq'] = target_freq\n",
    "D['fps'] = sampling_rate\n",
    "D['freqs'] = freqs  # fft.fftfreq(len(pix), 1 / sampling_rate)\n",
    "# D['freqs_shift'] = freqs_shift #fft.fftfreq(len(pix), 1 / sampling_rate)\n",
    "\n",
    "D['binsize'] = freqs[1] - freqs[0]\n",
    "# np.where(freqs == min(freqs, key=lambda x: abs(float(x) - target_freq)))[0][0]\n",
    "D['target_bin'] = target_bin\n",
    "#D['target_bin_shift'] = target_bin_shift\n",
    "D['nframes'] = nframes_per_cycle\n",
    "D['reduce_factor'] = reduce_factor\n",
    "\n",
    "# SAVE condition info:\n",
    "sessionpath = os.path.split(imdir)[0]\n",
    "# outdir = os.path.join(sessionpath, 'structs')\n",
    "# if not os.path.exists(outdir):\n",
    "#     os.makedirs(outdir)\n",
    "\n",
    "reduce_factor = (1, 1)\n",
    "fext = 'D_target_FFT_%s_%s_%s.pkl' % (cond, str(reduce_factor), append_to_name)\n",
    "fname = os.path.join(outdir, fext)\n",
    "with open(fname, 'wb') as f:\n",
    "    # protocol=pkl.HIGHEST_PROTOCOL)\n",
    "    pkl.dump(D, f, protocol=pkl.HIGHEST_PROTOCOL)"
   ]
  },
  {
   "cell_type": "code",
   "execution_count": 989,
   "metadata": {
    "collapsed": false
   },
   "outputs": [],
   "source": [
    "# outdir = \"./tests/simulation/V-Left_0/structs\"\n",
    "os.listdir(outdir)\n",
    "\n",
    "cond = 'H-Up_0'\n",
    "\n",
    "reduce_factor = (1, 1)\n",
    "fext = 'D_target_FFT_%s_%s_%s.pkl' % (cond, str(reduce_factor), append_to_name)\n",
    "fname = os.path.join(outdir, fext)\n",
    "with open(fname, 'rb') as f:\n",
    "    # protocol=pkl.HIGHEST_PROTOCOL)\n",
    "    if 'Down' in cond:\n",
    "        downD = pkl.load(f)\n",
    "    else:\n",
    "        upD = pkl.load(f)"
   ]
  },
  {
   "cell_type": "code",
   "execution_count": 1072,
   "metadata": {
    "collapsed": false
   },
   "outputs": [
    {
     "data": {
      "image/png": "[encoded data removed]",
      "text/plain": [
       "<matplotlib.figure.Figure at 0x7f41aa7990d0>"
      ]
     },
     "metadata": {},
     "output_type": "display_data"
    }
   ],
   "source": [
    "#####################################################\n",
    "# H-DOWN STIMULATION:\n",
    "# ---------------------------------------------------\n",
    "phase_mapD = downD['phase_map']\n",
    "# plt.imshow(phase_map, cmap='spectral', vmin=-1*np.pi, vmax=np.pi)\n",
    "plt.imshow(phase_mapD, cmap='spectral')\n",
    "plt.axis('off')\n",
    "# plt.colorbar()\n",
    "\n",
    "legend_path = '/home/juliana/Repositories/retinotopy-mapper/tests/simulation/H-Down_legend.tif'\n",
    "plt.savefig(legend_path)\n",
    "\n",
    "#####################################################\n",
    "# THIS MAP GOES:\n",
    "# from 0 @ TOP EDGE to -pi, to +pi, back to 0 (BOTTOM)"
   ]
  },
  {
   "cell_type": "code",
   "execution_count": 1073,
   "metadata": {
    "collapsed": false
   },
   "outputs": [
    {
     "data": {
      "image/png": "[encoded data removed]",
      "text/plain": [
       "<matplotlib.figure.Figure at 0x7f41aa538190>"
      ]
     },
     "metadata": {},
     "output_type": "display_data"
    }
   ],
   "source": [
    "#####################################################\n",
    "# H-UP_0 STIMULATION:\n",
    "# ---------------------------------------------------\n",
    "phase_mapU = upD['phase_map']\n",
    "fig = plt.figure()\n",
    "plt.imshow(phase_mapU, cmap='spectral')\n",
    "plt.axis('off')\n",
    "\n",
    "# plt.colorbar()\n",
    "\n",
    "legend_path = '/home/juliana/Repositories/retinotopy-mapper/tests/simulation/H-Up_legend.tif'\n",
    "plt.savefig(legend_path)\n",
    "#####################################################\n",
    "# THIS IS GOING:\n",
    "# 0 (BOTTOM edge) to -pi, to pi, back to 0 (TOP)"
   ]
  },
  {
   "cell_type": "code",
   "execution_count": 1074,
   "metadata": {
    "collapsed": false
   },
   "outputs": [
    {
     "name": "stdout",
     "output_type": "stream",
     "text": [
      "['D_target_FFT_H-Down_0_(1, 1)_simulated.pkl', 'D_target_FFT_V-Right_0_(1, 1)_simulated.pkl', 'D_target_FFT_H-Up_0_(1, 1)_simulated.pkl']\n"
     ]
    }
   ],
   "source": [
    "#####################################################\n",
    "# TEST MERGE:\n",
    "#####################################################\n",
    "\n",
    "flist = os.listdir(outdir)\n",
    "flist = [f for f in flist if os.path.splitext(f)[1] == '.pkl']\n",
    "dstructs = [f for f in flist if 'D_target_FFT' in f and str(reduce_factor) in f and append_to_name in f]\n",
    "if not dstructs:\n",
    "    dstructs = [f for f in flist if 'D_' in f and str(reduce_factor) in f]\n",
    "\n",
    "print dstructs\n",
    "    \n",
    "D = dict()\n",
    "for f in dstructs:\n",
    "    outfile = os.path.join(outdir, f)\n",
    "    with open(outfile,'rb') as fp:\n",
    "        D[f] = pkl.load(fp)"
   ]
  },
  {
   "cell_type": "code",
   "execution_count": 1075,
   "metadata": {
    "collapsed": false
   },
   "outputs": [],
   "source": [
    "for d in D.keys():\n",
    "    if \"Down\" in d:\n",
    "        downkey = d\n",
    "    elif \"Up\" in d:\n",
    "        upkey = d\n",
    "        "
   ]
  },
  {
   "cell_type": "code",
   "execution_count": 1076,
   "metadata": {
    "collapsed": false
   },
   "outputs": [],
   "source": [
    "# print min([D[upkey].shape, D[upkey].shape])\n",
    "downmap = np.zeros(D[downkey]['ft'].shape)\n",
    "upmap = np.zeros(D[upkey]['ft'].shape)\n",
    "\n",
    "downmap = downmap + 0j\n",
    "upmap = upmap + 0j\n",
    "\n",
    "downmap = D[downkey]['ft']\n",
    "upmap = D[upkey]['ft']"
   ]
  },
  {
   "cell_type": "code",
   "execution_count": 1077,
   "metadata": {
    "collapsed": false
   },
   "outputs": [
    {
     "data": {
      "text/plain": [
       "array([[  64471.70412651 -2011.47410271j,   64471.70412651 -2011.47410271j,\n",
       "          64471.70412651 -2011.47410271j, ...,\n",
       "          64471.70412651 -2011.47410271j,   64471.70412651 -2011.47410271j,\n",
       "              0.00000000    +0.j        ],\n",
       "       [ 127151.30601943 -8092.49736011j,  127151.30601943 -8092.49736011j,\n",
       "         127151.30601943 -8092.49736011j, ...,\n",
       "         127151.30601943 -8092.49736011j,  127151.30601943 -8092.49736011j,\n",
       "              0.00000000    +0.j        ],\n",
       "       [ 126335.67344119-16499.78720637j,  126335.67344119-16499.78720637j,\n",
       "         126335.67344119-16499.78720637j, ...,\n",
       "         126335.67344119-16499.78720637j,  126335.67344119-16499.78720637j,\n",
       "              0.00000000    +0.j        ],\n",
       "       ..., \n",
       "       [ 115958.44509692+52169.17167454j,  115958.44509692+52169.17167454j,\n",
       "         115958.44509692+52169.17167454j, ...,\n",
       "         115958.44509692+52169.17167454j,  115958.44509692+52169.17167454j,\n",
       "              0.00000000    +0.j        ],\n",
       "       [ 119429.05086521+44380.707195j  ,  119429.05086521+44380.707195j  ,\n",
       "         119429.05086521+44380.707195j  , ...,\n",
       "         119429.05086521+44380.707195j  ,  119429.05086521+44380.707195j  ,\n",
       "              0.00000000    +0.j        ],\n",
       "       [ 121025.53869248+36432.94574j   ,  121025.53869248+36432.94574j   ,\n",
       "         121025.53869248+36432.94574j   , ...,\n",
       "         121025.53869248+36432.94574j   ,  121025.53869248+36432.94574j   ,\n",
       "              0.00000000    +0.j        ]])"
      ]
     },
     "execution_count": 1077,
     "metadata": {},
     "output_type": "execute_result"
    }
   ],
   "source": [
    "downmap"
   ]
  },
  {
   "cell_type": "code",
   "execution_count": 1078,
   "metadata": {
    "collapsed": false
   },
   "outputs": [
    {
     "data": {
      "text/plain": [
       "<matplotlib.colorbar.Colorbar instance at 0x7f41aab93998>"
      ]
     },
     "execution_count": 1078,
     "metadata": {},
     "output_type": "execute_result"
    },
    {
     "data": {
      "image/png": "[encoded data removed]",
      "text/plain": [
       "<matplotlib.figure.Figure at 0x7f41aaa48210>"
      ]
     },
     "metadata": {},
     "output_type": "display_data"
    }
   ],
   "source": [
    "#########################################################################\n",
    "# STIM MAPS:\n",
    "#########################################################################\n",
    "\n",
    "azimuth_phase = np.angle( (downmap / upmap) ) / 2.\n",
    "azimuth_phase = ( np.angle(downmap) - np.angle(upmap) ) / 2. \n",
    "plt.imshow(azimuth_phase, cmap='spectral', vmin=-1*math.pi, vmax=1*math.pi)\n",
    "plt.colorbar()"
   ]
  },
  {
   "cell_type": "code",
   "execution_count": 1079,
   "metadata": {
    "collapsed": false
   },
   "outputs": [
    {
     "data": {
      "text/plain": [
       "<matplotlib.colorbar.Colorbar instance at 0x7f41aad94c68>"
      ]
     },
     "execution_count": 1079,
     "metadata": {},
     "output_type": "execute_result"
    },
    {
     "data": {
      "image/png": "[encoded data removed]",
      "text/plain": [
       "<matplotlib.figure.Figure at 0x7f41aa4c9a10>"
      ]
     },
     "metadata": {},
     "output_type": "display_data"
    }
   ],
   "source": [
    "azimuth_phase = np.angle( (downmap / upmap) ) / 2.\n",
    "# azimuth_phase = ( np.angle(leftmap) - np.angle(rightmap) ) / 2. \n",
    "plt.imshow(azimuth_phase, cmap='spectral', vmin=-1*math.pi, vmax=1*math.pi)\n",
    "plt.colorbar()\n"
   ]
  },
  {
   "cell_type": "code",
   "execution_count": 1084,
   "metadata": {
    "collapsed": false
   },
   "outputs": [
    {
     "data": {
      "text/plain": [
       "<matplotlib.colorbar.Colorbar instance at 0x7f41a9d119e0>"
      ]
     },
     "execution_count": 1084,
     "metadata": {},
     "output_type": "execute_result"
    },
    {
     "data": {
      "image/png": "[encoded data removed]",
      "text/plain": [
       "<matplotlib.figure.Figure at 0x7f41aa195990>"
      ]
     },
     "metadata": {},
     "output_type": "display_data"
    }
   ],
   "source": [
    "#########################################################################\n",
    "# DELAY MAP:\n",
    "#########################################################################\n",
    "delay_map = np.angle(downmap * upmap) / 2\n",
    "# azimuth_phase = ( np.angle(leftmap) - np.angle(rightmap) ) / 2. \n",
    "plt.imshow(delay_map, cmap='spectral', vmin=-1*math.pi, vmax=1*math.pi)\n",
    "plt.colorbar()"
   ]
  },
  {
   "cell_type": "code",
   "execution_count": 1094,
   "metadata": {
    "collapsed": false
   },
   "outputs": [
    {
     "data": {
      "text/plain": [
       "<matplotlib.colorbar.Colorbar instance at 0x7f41aa2273f8>"
      ]
     },
     "execution_count": 1094,
     "metadata": {},
     "output_type": "execute_result"
    },
    {
     "data": {
      "image/png": "[encoded data removed]",
      "text/plain": [
       "<matplotlib.figure.Figure at 0x7f41ab4b6690>"
      ]
     },
     "metadata": {},
     "output_type": "display_data"
    }
   ],
   "source": [
    "# azimuth_phase = np.angle(leftmap / rightmap) / 2. \n",
    "azimuth_phase = ( np.angle(downmap) - np.angle(upmap) ) / 2\n",
    "plt.imshow(azimuth_phase, cmap='spectral', vmin=-1*math.pi, vmax=1*math.pi)\n",
    "plt.colorbar()"
   ]
  },
  {
   "cell_type": "code",
   "execution_count": 1101,
   "metadata": {
    "collapsed": false
   },
   "outputs": [
    {
     "data": {
      "text/plain": [
       "<matplotlib.colorbar.Colorbar instance at 0x7f41a8d87a28>"
      ]
     },
     "execution_count": 1101,
     "metadata": {},
     "output_type": "execute_result"
    },
    {
     "data": {
      "image/png": "[encoded data removed]",
      "text/plain": [
       "<matplotlib.figure.Figure at 0x7f41a8f0acd0>"
      ]
     },
     "metadata": {},
     "output_type": "display_data"
    }
   ],
   "source": [
    "# azimuth_phase = np.angle(leftmap / rightmap) / 2. \n",
    "azimuth_phase = ( np.angle(upmap) - np.angle(downmap) ) / 2. \n",
    "plt.imshow(azimuth_phase, cmap='spectral', vmin=-1*math.pi, vmax=1*math.pi)\n",
    "plt.colorbar()"
   ]
  },
  {
   "cell_type": "code",
   "execution_count": 1120,
   "metadata": {
    "collapsed": false
   },
   "outputs": [
    {
     "data": {
      "text/plain": [
       "<matplotlib.image.AxesImage at 0x7f41a7d9a510>"
      ]
     },
     "execution_count": 1120,
     "metadata": {},
     "output_type": "execute_result"
    },
    {
     "data": {
      "image/png": "[encoded data removed]",
      "text/plain": [
       "<matplotlib.figure.Figure at 0x7f41a88e27d0>"
      ]
     },
     "metadata": {},
     "output_type": "display_data"
    }
   ],
   "source": [
    "# azimuth_phase = np.angle(leftmap / rightmap) / 2. \n",
    "onedir_map = np.angle(downmap) + delay_map\n",
    "azimuth_phase = np.angle(upmap.conjugate())  + delay_map\n",
    "# fig=plt.imshow(azimuth_phase, cmap='spectral', vmin=-1*math.pi, vmax=1*math.pi)\n",
    "# cbar = plt.colorbar(fig) \n",
    "# cbar.ax.invert_yaxis()\n",
    "fig = plt.figure()\n",
    "\n",
    "fig.add_subplot(1,2,1)\n",
    "plt.imshow(onedir_map, cmap='spectral', vmin=-1*math.pi, vmax=math.pi)\n",
    "\n",
    "fig.add_subplot(1,2,2)\n",
    "plt.imshow(azimuth_phase, cmap='spectral', vmin=-1*math.pi, vmax=math.pi)\n"
   ]
  },
  {
   "cell_type": "code",
   "execution_count": 1172,
   "metadata": {
    "collapsed": true
   },
   "outputs": [],
   "source": [
    "###########################################################################################################"
   ]
  },
  {
   "cell_type": "code",
   "execution_count": 838,
   "metadata": {
    "collapsed": false
   },
   "outputs": [
    {
     "name": "stdout",
     "output_type": "stream",
     "text": [
      "(93, 120)\n",
      "(93, 122)\n"
     ]
    }
   ],
   "source": [
    "# DONT DO THIS.\n",
    "\n",
    "# ftmap = dict()\n",
    "# # outshape = D[D.keys()[0]]['ft_real'].shape\n",
    "# # print outshape\n",
    "# for curr_key in D.keys():\n",
    "#     outshape = D[curr_key]['ft_real'].shape # WTF, outshape changing based on stim... (but maybe not for actual imaging acquis. data)\n",
    "#     print outshape\n",
    "#     reals = D[curr_key]['ft_real'].ravel()\n",
    "#     imags = D[curr_key]['ft_imag'].ravel()\n",
    "# #     imags = imags*-1.\n",
    "# #     if 'Down' in curr_key:\n",
    "# #         imags = imags*-1\n",
    "# #     if 'Right' in curr_key:\n",
    "# #         imags = imags*-1\n",
    "#     ftmap[curr_key] = [complex(x[0], x[1]) for x in zip(reals, imags)]\n",
    "#     ftmap[curr_key] = np.reshape(np.array(ftmap[curr_key]), outshape)\n"
   ]
  },
  {
   "cell_type": "code",
   "execution_count": 822,
   "metadata": {
    "collapsed": false
   },
   "outputs": [
    {
     "name": "stdout",
     "output_type": "stream",
     "text": [
      "2.0\n",
      "3.0\n",
      "<type 'complex'>\n",
      "2.0 -3.0\n"
     ]
    }
   ],
   "source": [
    "# WTF, why multipling by -1.... imags are just imags!\n",
    "\n",
    "i = 2\n",
    "j = -3\n",
    "c = complex(2,3)\n",
    "# c = 2-3j\n",
    "# print c\n",
    "print c.real\n",
    "print c.imag\n",
    "\n",
    "c = 2-3j\n",
    "print type(c)\n",
    "cr = c.real\n",
    "ci = c.imag\n",
    "print cr, ci"
   ]
  },
  {
   "cell_type": "code",
   "execution_count": null,
   "metadata": {
    "collapsed": true
   },
   "outputs": [],
   "source": [
    "###########################################################################################################"
   ]
  },
  {
   "cell_type": "code",
   "execution_count": 1191,
   "metadata": {
    "collapsed": false
   },
   "outputs": [
    {
     "name": "stdout",
     "output_type": "stream",
     "text": [
      "(0.99807766255210428, 0.99923106502084169, 0.74602077638401709, 1.0)\n"
     ]
    },
    {
     "data": {
      "text/plain": [
       "(0.80000000000000004, 0.80000000000000004, 0.80000000000000004, 1.0)"
      ]
     },
     "execution_count": 1191,
     "metadata": {},
     "output_type": "execute_result"
    }
   ],
   "source": [
    "import matplotlib\n",
    "\n",
    "cmap = matplotlib.cm.get_cmap('Spectral')\n",
    "\n",
    "rgba = cmap(0.5)\n",
    "print(rgba)\n",
    "\n",
    "from matplotlib import cm\n"
   ]
  },
  {
   "cell_type": "code",
   "execution_count": 1234,
   "metadata": {
    "collapsed": false
   },
   "outputs": [
    {
     "name": "stdout",
     "output_type": "stream",
     "text": [
      "[480, 300]\n"
     ]
    }
   ],
   "source": [
    "# map_shape = leftmap.shape\n",
    "# screen_legend = np.zeros(map_shape)\n",
    "\n",
    "screen_size = [int(i*0.25) for i in winsize]\n",
    "print screen_size\n",
    "screen_legend = np.zeros((screen_size[1], screen_size[0]))\n",
    "\n",
    "VERT = 1\n",
    "left = 1\n",
    "\n",
    "if VERT: \n",
    "    if left:\n",
    "        # First, set half the screen width (0 to 239 = to 0 to -pi)\n",
    "        nspaces_start = np.linspace(0, -1*math.pi, screen_size[0]/2)\n",
    "        for i in range(screen_size[1]):\n",
    "            screen_legend[i][0:screen_size[0]/2] = nspaces_start\n",
    "        # Then, set right side of screen (240 to end = to pi to 0)\n",
    "        nspaces_end = np.linspace(1*math.pi, 0, screen_size[0]/2)\n",
    "        for i in range(screen_size[1]):\n",
    "            screen_legend[i][screen_size[0]/2:] = nspaces_end\n",
    "    if right:\n",
    "        # First, set half the screen width (0 to 239 = to 0 to -pi)\n",
    "        nspaces_start = np.linspace(0, 1*math.pi, screen_size[0]/2)\n",
    "        for i in range(screen_size[1]):\n",
    "            screen_legend[i][0:screen_size[0]/2] = nspaces_start\n",
    "        # Then, set right side of screen (240 to end = to pi to 0)\n",
    "        nspaces_end = np.linspace(-1*math.pi, 0, screen_size[0]/2)\n",
    "        for i in range(screen_size[1]):\n",
    "            screen_legend[i][screen_size[0]/2:] = nspaces_end\n",
    "\n",
    "if HORZ:\n",
    "    if up:\n",
    "        # First, set half the screen width (0 to 239 = to 0 to -pi)\n",
    "        nspaces_start = np.linspace(0, -1*math.pi, screen_size[0]/2)\n",
    "        for i in range(screen_size[0]):\n",
    "            screen_legend[i][0:screen_size[0]/2] = nspaces_start\n",
    "        # Then, set right side of screen (240 to end = to pi to 0)\n",
    "        nspaces_end = np.linspace(1*math.pi, 0, screen_size[0]/2)\n",
    "        for i in range(screen_size[1]):\n",
    "            screen_legend[i][screen_size[0]/2:] = nspaces_end\n",
    "    if right:\n",
    "        # First, set half the screen width (0 to 239 = to 0 to -pi)\n",
    "        nspaces_start = np.linspace(0, 1*math.pi, screen_size[0]/2)\n",
    "        for i in range(screen_size[1]):\n",
    "            screen_legend[i][0:screen_size[0]/2] = nspaces_start\n",
    "        # Then, set right side of screen (240 to end = to pi to 0)\n",
    "        nspaces_end = np.linspace(-1*math.pi, 0, screen_size[0]/2)\n",
    "        for i in range(screen_size[1]):\n",
    "            screen_legend[i][screen_size[0]/2:] = nspaces_end\n",
    "\n",
    "plt.imshow(screen_legend, cmap='spectral')"
   ]
  },
  {
   "cell_type": "code",
   "execution_count": 1235,
   "metadata": {
    "collapsed": false
   },
   "outputs": [
    {
     "data": {
      "text/plain": [
       "<matplotlib.image.AxesImage at 0x7f3d6fc14f50>"
      ]
     },
     "execution_count": 1235,
     "metadata": {},
     "output_type": "execute_result"
    },
    {
     "data": {
      "image/png": "[encoded data removed]",
      "text/plain": [
       "<matplotlib.figure.Figure at 0x7f3d6fc9ab90>"
      ]
     },
     "metadata": {},
     "output_type": "display_data"
    }
   ],
   "source": [
    "###################################################\n",
    "# V-LEFT:\n",
    "###################################################\n",
    "\n",
    "plt.imshow(screen_legend, cmap='spectral')"
   ]
  },
  {
   "cell_type": "code",
   "execution_count": 1233,
   "metadata": {
    "collapsed": false
   },
   "outputs": [
    {
     "data": {
      "text/plain": [
       "0.0"
      ]
     },
     "execution_count": 1233,
     "metadata": {},
     "output_type": "execute_result"
    }
   ],
   "source": [
    "screen_legend[i][240]"
   ]
  },
  {
   "cell_type": "code",
   "execution_count": 1221,
   "metadata": {
    "collapsed": false
   },
   "outputs": [
    {
     "data": {
      "text/plain": [
       "(480,)"
      ]
     },
     "execution_count": 1221,
     "metadata": {},
     "output_type": "execute_result"
    }
   ],
   "source": [
    "screen_legend[i].shape"
   ]
  },
  {
   "cell_type": "code",
   "execution_count": 1240,
   "metadata": {
    "collapsed": false
   },
   "outputs": [
    {
     "name": "stdout",
     "output_type": "stream",
     "text": [
      "[480, 300]\n"
     ]
    }
   ],
   "source": [
    "screen_size = [int(i*0.25) for i in winsize]\n",
    "print screen_size\n",
    "screen_legend = np.zeros((screen_size[1], screen_size[0]))\n",
    "\n",
    "VERT = 1\n",
    "left = 0\n",
    "\n",
    "HORZ = 0\n",
    "up = 1\n",
    "\n",
    "if VERT: \n",
    "    if left:\n",
    "        # First, set half the screen width (0 to 239 = to 0 to -pi)\n",
    "        nspaces_start = np.linspace(0, -1*math.pi, screen_size[0]/2)\n",
    "        for i in range(screen_size[1]):\n",
    "            screen_legend[i][0:screen_size[0]/2] = nspaces_start\n",
    "        # Then, set right side of screen (240 to end = to pi to 0)\n",
    "        nspaces_end = np.linspace(1*math.pi, 0, screen_size[0]/2)\n",
    "        for i in range(screen_size[1]):\n",
    "            screen_legend[i][screen_size[0]/2:] = nspaces_end\n",
    "    else:\n",
    "        # First, set half the screen width (0 to 239 = to 0 to -pi)\n",
    "        nspaces_start = np.linspace(0, 1*math.pi, screen_size[0]/2)\n",
    "        for i in range(screen_size[1]):\n",
    "            screen_legend[i][0:screen_size[0]/2] = nspaces_start\n",
    "        # Then, set right side of screen (240 to end = to pi to 0)\n",
    "        nspaces_end = np.linspace(-1*math.pi, 0, screen_size[0]/2)\n",
    "        for i in range(screen_size[1]):\n",
    "            screen_legend[i][screen_size[0]/2:] = nspaces_end\n",
    "\n",
    "if HORZ:\n",
    "    if up:\n",
    "        # First, set half the screen width (0 to 239 = to 0 to -pi)\n",
    "        nspaces_start = np.linspace(0, -1*math.pi, screen_size[0]/2)\n",
    "        for i in range(screen_size[0]):\n",
    "            screen_legend[i][0:screen_size[0]/2] = nspaces_start\n",
    "        # Then, set right side of screen (240 to end = to pi to 0)\n",
    "        nspaces_end = np.linspace(1*math.pi, 0, screen_size[0]/2)\n",
    "        for i in range(screen_size[1]):\n",
    "            screen_legend[i][screen_size[0]/2:] = nspaces_end\n",
    "    else:\n",
    "        # First, set half the screen width (0 to 239 = to 0 to -pi)\n",
    "        nspaces_start = np.linspace(0, 1*math.pi, screen_size[0]/2)\n",
    "        for i in range(screen_size[1]):\n",
    "            screen_legend[i][0:screen_size[0]/2] = nspaces_start\n",
    "        # Then, set right side of screen (240 to end = to pi to 0)\n",
    "        nspaces_end = np.linspace(-1*math.pi, 0, screen_size[0]/2)\n",
    "        for i in range(screen_size[1]):\n",
    "            screen_legend[i][screen_size[0]/2:] = nspaces_end\n"
   ]
  },
  {
   "cell_type": "code",
   "execution_count": 1241,
   "metadata": {
    "collapsed": false
   },
   "outputs": [
    {
     "data": {
      "text/plain": [
       "<matplotlib.image.AxesImage at 0x7f3d6f302ad0>"
      ]
     },
     "execution_count": 1241,
     "metadata": {},
     "output_type": "execute_result"
    },
    {
     "data": {
      "image/png": "[encoded data removed]",
      "text/plain": [
       "<matplotlib.figure.Figure at 0x7f3d6f758490>"
      ]
     },
     "metadata": {},
     "output_type": "display_data"
    }
   ],
   "source": [
    "###################################################\n",
    "# V-RIGHT:\n",
    "###################################################\n",
    "\n",
    "plt.imshow(screen_legend, cmap='spectral')\n"
   ]
  },
  {
   "cell_type": "code",
   "execution_count": null,
   "metadata": {
    "collapsed": true
   },
   "outputs": [],
   "source": []
  }
 ],
 "metadata": {
  "kernelspec": {
   "display_name": "Python 2",
   "language": "python",
   "name": "python2"
  },
  "language_info": {
   "codemirror_mode": {
    "name": "ipython",
    "version": 2
   },
   "file_extension": ".py",
   "mimetype": "text/x-python",
   "name": "python",
   "nbconvert_exporter": "python",
   "pygments_lexer": "ipython2",
   "version": "2.7.11"
  }
 },
 "nbformat": 4,
 "nbformat_minor": 0
}
