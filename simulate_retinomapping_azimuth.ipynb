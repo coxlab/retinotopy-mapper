{
 "cells": [
  {
   "cell_type": "code",
   "execution_count": 3,
   "metadata": {
    "collapsed": true
   },
   "outputs": [],
   "source": [
    "import numpy as np\n",
    "import os\n",
    "from skimage.measure import block_reduce\n",
    "from scipy.misc import imread\n",
    "import cPickle as pkl\n",
    "import scipy.signal\n",
    "import numpy.fft as fft\n",
    "import sys\n",
    "import optparse\n",
    "from libtiff import TIFF\n",
    "from PIL import Image\n",
    "import re\n",
    "import itertools\n",
    "from scipy import ndimage\n",
    "import pandas as pd\n",
    "import matplotlib.pyplot as plt"
   ]
  },
  {
   "cell_type": "code",
   "execution_count": 4,
   "metadata": {
    "collapsed": true
   },
   "outputs": [],
   "source": [
    "def atoi(text):\n",
    "    return int(text) if text.isdigit() else text\n",
    "\n",
    "def natural_keys(text):\n",
    "    return [ atoi(c) for c in re.split('(\\d+)', text) ]"
   ]
  },
  {
   "cell_type": "code",
   "execution_count": 46,
   "metadata": {
    "collapsed": true
   },
   "outputs": [],
   "source": [
    "imdir = '/media/juliana/MAC/data/JR009/20150625/20150625_JR009_500um_0050Hz/V-Left_0'"
   ]
  },
  {
   "cell_type": "code",
   "execution_count": 6,
   "metadata": {
    "collapsed": true
   },
   "outputs": [],
   "source": [
    "# imdir = '/media/juliana/MAC/data/JR009/20150625/20150625_JR009_500um_0050Hz/V-Right_0'"
   ]
  },
  {
   "cell_type": "code",
   "execution_count": 47,
   "metadata": {
    "collapsed": true
   },
   "outputs": [],
   "source": [
    "im_format = '.png'"
   ]
  },
  {
   "cell_type": "code",
   "execution_count": 48,
   "metadata": {
    "collapsed": false
   },
   "outputs": [],
   "source": [
    "target_freq = 0.05"
   ]
  },
  {
   "cell_type": "code",
   "execution_count": 49,
   "metadata": {
    "collapsed": true
   },
   "outputs": [],
   "source": [
    "reduce_factor = (2, 2)"
   ]
  },
  {
   "cell_type": "code",
   "execution_count": 50,
   "metadata": {
    "collapsed": false
   },
   "outputs": [],
   "source": [
    "sampling_rate = 60.0"
   ]
  },
  {
   "cell_type": "code",
   "execution_count": 51,
   "metadata": {
    "collapsed": true
   },
   "outputs": [],
   "source": [
    "cycle_dur = 1. / target_freq"
   ]
  },
  {
   "cell_type": "code",
   "execution_count": 52,
   "metadata": {
    "collapsed": true
   },
   "outputs": [],
   "source": [
    "from IPython.display import Image, display"
   ]
  },
  {
   "cell_type": "code",
   "execution_count": 53,
   "metadata": {
    "collapsed": false
   },
   "outputs": [
    {
     "data": {
      "text/plain": [
       "20.0"
      ]
     },
     "metadata": {},
     "output_type": "display_data"
    }
   ],
   "source": [
    "display(cycle_dur)"
   ]
  },
  {
   "cell_type": "code",
   "execution_count": 54,
   "metadata": {
    "collapsed": true
   },
   "outputs": [],
   "source": [
    "basepath = os.path.split(os.path.split(imdir)[0])[0]\n",
    "session = os.path.split(os.path.split(imdir)[0])[1]\n",
    "cond = os.path.split(imdir)[1]"
   ]
  },
  {
   "cell_type": "code",
   "execution_count": 55,
   "metadata": {
    "collapsed": false
   },
   "outputs": [
    {
     "data": {
      "text/plain": [
       "'/media/juliana/MAC/data/JR009/20150625'"
      ]
     },
     "metadata": {},
     "output_type": "display_data"
    },
    {
     "data": {
      "text/plain": [
       "'20150625_JR009_500um_0050Hz'"
      ]
     },
     "metadata": {},
     "output_type": "display_data"
    },
    {
     "data": {
      "text/plain": [
       "'V-Left_0'"
      ]
     },
     "metadata": {},
     "output_type": "display_data"
    }
   ],
   "source": [
    "display(basepath); display(session); display(cond)"
   ]
  },
  {
   "cell_type": "code",
   "execution_count": 56,
   "metadata": {
    "collapsed": false
   },
   "outputs": [
    {
     "name": "stdout",
     "output_type": "stream",
     "text": [
      "23964\n",
      "23964\n",
      "001_20150625182154951761_0_0_1deg_[-58.53176130832045, -3.584036706734577e-15].png\n"
     ]
    }
   ],
   "source": [
    "files = os.listdir(imdir)\n",
    "print len(files)\n",
    "files = sorted([f for f in files if os.path.splitext(f)[1] == str(im_format)])\n",
    "print len(files)\n",
    "print files[0]"
   ]
  },
  {
   "cell_type": "code",
   "execution_count": 57,
   "metadata": {
    "collapsed": false
   },
   "outputs": [
    {
     "name": "stdout",
     "output_type": "stream",
     "text": [
      "sample type: float64, range: [3608.0, 1605.0]\n",
      "sample shape: (246, 328)\n"
     ]
    },
    {
     "data": {
      "text/plain": [
       "<matplotlib.image.AxesImage at 0x7f026e41bb50>"
      ]
     },
     "execution_count": 57,
     "metadata": {},
     "output_type": "execute_result"
    },
    {
     "data": {
      "image/png": "[encoded data removed]",
      "text/plain": [
       "<matplotlib.figure.Figure at 0x7f02a00c6210>"
      ]
     },
     "metadata": {},
     "output_type": "display_data"
    }
   ],
   "source": [
    "%matplotlib inline\n",
    "tiff = TIFF.open(os.path.join(imdir, files[0]), mode='r')\n",
    "sample = tiff.read_image().astype('float')\n",
    "print \"sample type: %s, range: %s\" % (sample.dtype, str([sample.max(), sample.min()]))\n",
    "print \"sample shape: %s\" % str(sample.shape)\n",
    "tiff.close()\n",
    "plt.imshow(sample, cmap='gray')"
   ]
  },
  {
   "cell_type": "code",
   "execution_count": 58,
   "metadata": {
    "collapsed": true
   },
   "outputs": [],
   "source": [
    "# FIND CYCLE STARTS:\n",
    "positions = [re.findall(\"\\[([^[\\]]*)\\]\", f) for f in files]\n",
    "plist = list(itertools.chain.from_iterable(positions))\n",
    "positions = [map(float, i.split(',')) for i in plist]"
   ]
  },
  {
   "cell_type": "code",
   "execution_count": 59,
   "metadata": {
    "collapsed": false
   },
   "outputs": [
    {
     "data": {
      "text/plain": [
       "[-58.53176130832045, -3.584036706734577e-15]"
      ]
     },
     "metadata": {},
     "output_type": "display_data"
    },
    {
     "data": {
      "text/plain": [
       "23964"
      ]
     },
     "execution_count": 59,
     "metadata": {},
     "output_type": "execute_result"
    }
   ],
   "source": [
    "display(positions[0]); len(positions)"
   ]
  },
  {
   "cell_type": "code",
   "execution_count": 60,
   "metadata": {
    "collapsed": true
   },
   "outputs": [],
   "source": [
    "if 'H-Up' in cond:\n",
    "    find_cycs = list(itertools.chain.from_iterable(\n",
    "        np.where(np.diff([p[1] for p in positions]) < 0)))\n",
    "    moveX = 0\n",
    "    condType = 4\n",
    "    \n",
    "if 'H-Down' in cond:\n",
    "    find_cycs = list(itertools.chain.from_iterable(\n",
    "        np.where(np.diff([p[1] for p in positions]) > 0)))\n",
    "    moveX = 0\n",
    "    condType = 3\n",
    "    \n",
    "if 'V-Left' in cond:\n",
    "    find_cycs = list(itertools.chain.from_iterable(\n",
    "        np.where(np.diff([p[0] for p in positions]) < 0)))\n",
    "    moveX = 1\n",
    "    condType = 1\n",
    "    \n",
    "if 'V-Right' in cond:\n",
    "    find_cycs = list(itertools.chain.from_iterable(\n",
    "        np.where(np.diff([p[0] for p in positions]) > 0)))\n",
    "    moveX = 1\n",
    "    condType = 2\n",
    "    \n",
    "idxs = [i + 1 for i in find_cycs]\n",
    "idxs.append(0)\n",
    "idxs.append(len(positions))\n",
    "idxs = sorted(idxs)\n",
    "nframes_per_cycle = [idxs[i] - idxs[i - 1] for i in range(1, len(idxs))]"
   ]
  },
  {
   "cell_type": "code",
   "execution_count": 61,
   "metadata": {
    "collapsed": false
   },
   "outputs": [
    {
     "data": {
      "text/plain": [
       "[0,\n",
       " 1198,\n",
       " 2396,\n",
       " 3595,\n",
       " 4794,\n",
       " 5993,\n",
       " 7192,\n",
       " 8390,\n",
       " 9589,\n",
       " 10788,\n",
       " 11987,\n",
       " 13185,\n",
       " 14383,\n",
       " 15582,\n",
       " 16781,\n",
       " 17980,\n",
       " 19169,\n",
       " 20367,\n",
       " 21566,\n",
       " 22765,\n",
       " 23964]"
      ]
     },
     "metadata": {},
     "output_type": "display_data"
    }
   ],
   "source": [
    "display(idxs)"
   ]
  },
  {
   "cell_type": "code",
   "execution_count": 62,
   "metadata": {
    "collapsed": false
   },
   "outputs": [
    {
     "data": {
      "text/plain": [
       "[1198,\n",
       " 1198,\n",
       " 1199,\n",
       " 1199,\n",
       " 1199,\n",
       " 1199,\n",
       " 1198,\n",
       " 1199,\n",
       " 1199,\n",
       " 1199,\n",
       " 1198,\n",
       " 1198,\n",
       " 1199,\n",
       " 1199,\n",
       " 1199,\n",
       " 1189,\n",
       " 1198,\n",
       " 1199,\n",
       " 1199,\n",
       " 1199]"
      ]
     },
     "metadata": {},
     "output_type": "display_data"
    }
   ],
   "source": [
    "display(nframes_per_cycle) # 0.05 cyc/sec, 20sec * 60Hz fps = 1200 frames per cycle (and, 1200*20 cycles=24k frames total )"
   ]
  },
  {
   "cell_type": "code",
   "execution_count": 63,
   "metadata": {
    "collapsed": false
   },
   "outputs": [
    {
     "data": {
      "text/plain": [
       "[[-58.53176130832045, -3.584036706734577e-15],\n",
       " [-58.42719239105267, -3.577633707243462e-15],\n",
       " [-58.32994360369381, -3.571678936435463e-15],\n",
       " [-58.235869929630695, -3.5659185852441915e-15],\n",
       " [-58.13534042345731, -3.559762928346436e-15]]"
      ]
     },
     "execution_count": 63,
     "metadata": {},
     "output_type": "execute_result"
    }
   ],
   "source": [
    "positions[0:5]"
   ]
  },
  {
   "cell_type": "code",
   "execution_count": 64,
   "metadata": {
    "collapsed": false
   },
   "outputs": [
    {
     "data": {
      "text/plain": [
       "[[57.739320173093866, 3.53551368174618e-15],\n",
       " [57.83585195456185, 3.541424548605718e-15],\n",
       " [57.933660729079655, 3.547413608737806e-15],\n",
       " [-58.531743244218546, -3.584035600627348e-15],\n",
       " [-58.42429518701696, -3.577456304661022e-15]]"
      ]
     },
     "execution_count": 64,
     "metadata": {},
     "output_type": "execute_result"
    }
   ],
   "source": [
    "positions[1195:1200] # idx[1] = 1198, i.e., start of cycle 2"
   ]
  },
  {
   "cell_type": "code",
   "execution_count": 65,
   "metadata": {
    "collapsed": true
   },
   "outputs": [],
   "source": [
    "from psychopy import visual, event, core, monitors, logging, tools"
   ]
  },
  {
   "cell_type": "code",
   "execution_count": 66,
   "metadata": {
    "collapsed": true
   },
   "outputs": [],
   "source": [
    "monitor_list = monitors.getAllMonitors()"
   ]
  },
  {
   "cell_type": "code",
   "execution_count": 67,
   "metadata": {
    "collapsed": false
   },
   "outputs": [
    {
     "data": {
      "text/plain": [
       "[u'AQUOS', u'testMonitor', u'BenQtest', u'syncmaster2433BW']"
      ]
     },
     "execution_count": 67,
     "metadata": {},
     "output_type": "execute_result"
    }
   ],
   "source": [
    "monitor_list"
   ]
  },
  {
   "cell_type": "code",
   "execution_count": 68,
   "metadata": {
    "collapsed": true
   },
   "outputs": [],
   "source": [
    "# whichMonitor = 'AQUOS'\n",
    "whichMonitor = 'syncmaster2433BW'"
   ]
  },
  {
   "cell_type": "code",
   "execution_count": 69,
   "metadata": {
    "collapsed": true
   },
   "outputs": [],
   "source": [
    "winsize = monitors.Monitor(whichMonitor).getSizePix()"
   ]
  },
  {
   "cell_type": "code",
   "execution_count": 70,
   "metadata": {
    "collapsed": false
   },
   "outputs": [
    {
     "data": {
      "text/plain": [
       "[1920, 1200]"
      ]
     },
     "execution_count": 70,
     "metadata": {},
     "output_type": "execute_result"
    }
   ],
   "source": [
    "winsize"
   ]
  },
  {
   "cell_type": "code",
   "execution_count": 71,
   "metadata": {
    "collapsed": false
   },
   "outputs": [
    {
     "data": {
      "text/plain": [
       "array([ 960.,  600.])"
      ]
     },
     "execution_count": 71,
     "metadata": {},
     "output_type": "execute_result"
    }
   ],
   "source": [
    "np.array(winsize)/2."
   ]
  },
  {
   "cell_type": "code",
   "execution_count": 72,
   "metadata": {
    "collapsed": false
   },
   "outputs": [],
   "source": [
    "win = visual.Window(fullscr=True, rgb=-1, size=winsize, units='deg', monitor=whichMonitor)"
   ]
  },
  {
   "cell_type": "code",
   "execution_count": 73,
   "metadata": {
    "collapsed": false
   },
   "outputs": [
    {
     "name": "stdout",
     "output_type": "stream",
     "text": [
      "5.3314 \tWARNING \tUse of rgb arguments to stimuli are deprecated. Please use color and colorSpace args instead\n",
      "5.3319 \tWARNING \tUser requested fullscreen with size [1920 1200], but screen is actually [2560, 1440]. Using actual size\n"
     ]
    }
   ],
   "source": [
    "win.close()"
   ]
  },
  {
   "cell_type": "code",
   "execution_count": 74,
   "metadata": {
    "collapsed": true
   },
   "outputs": [],
   "source": [
    "cyc_per_sec = 0.05"
   ]
  },
  {
   "cell_type": "code",
   "execution_count": 75,
   "metadata": {
    "collapsed": true
   },
   "outputs": [],
   "source": [
    "screen_width_cm = monitors.Monitor(whichMonitor).getWidth()"
   ]
  },
  {
   "cell_type": "code",
   "execution_count": 76,
   "metadata": {
    "collapsed": true
   },
   "outputs": [],
   "source": [
    "screen_height_cm = (float(screen_width_cm)/monitors.Monitor(whichMonitor).getSizePix()[0])*monitors.Monitor(whichMonitor).getSizePix()[1]"
   ]
  },
  {
   "cell_type": "code",
   "execution_count": 77,
   "metadata": {
    "collapsed": false
   },
   "outputs": [
    {
     "data": {
      "text/plain": [
       "51.52"
      ]
     },
     "metadata": {},
     "output_type": "display_data"
    },
    {
     "data": {
      "text/plain": [
       "32.2"
      ]
     },
     "metadata": {},
     "output_type": "display_data"
    }
   ],
   "source": [
    "display(screen_width_cm); display(screen_height_cm)"
   ]
  },
  {
   "cell_type": "code",
   "execution_count": 78,
   "metadata": {
    "collapsed": false
   },
   "outputs": [
    {
     "data": {
      "text/plain": [
       "51.52"
      ]
     },
     "metadata": {},
     "output_type": "display_data"
    }
   ],
   "source": [
    "total_length = max([screen_width_cm, screen_height_cm]); display(total_length)"
   ]
  },
  {
   "cell_type": "code",
   "execution_count": 79,
   "metadata": {
    "collapsed": true
   },
   "outputs": [],
   "source": [
    "fps = 60."
   ]
  },
  {
   "cell_type": "code",
   "execution_count": 80,
   "metadata": {
    "collapsed": false
   },
   "outputs": [],
   "source": [
    "total_time = total_length/(total_length*cyc_per_sec)"
   ]
  },
  {
   "cell_type": "code",
   "execution_count": 81,
   "metadata": {
    "collapsed": false
   },
   "outputs": [],
   "source": [
    "frames_per_cycle = fps/cyc_per_sec"
   ]
  },
  {
   "cell_type": "code",
   "execution_count": 82,
   "metadata": {
    "collapsed": false
   },
   "outputs": [
    {
     "data": {
      "text/plain": [
       "1200.0"
      ]
     },
     "metadata": {},
     "output_type": "display_data"
    }
   ],
   "source": [
    "display(frames_per_cycle)"
   ]
  },
  {
   "cell_type": "code",
   "execution_count": 83,
   "metadata": {
    "collapsed": true
   },
   "outputs": [],
   "source": [
    "distance = monitors.Monitor(whichMonitor).getDistance()"
   ]
  },
  {
   "cell_type": "code",
   "execution_count": 84,
   "metadata": {
    "collapsed": true
   },
   "outputs": [],
   "source": [
    "num_seq_reps = 1."
   ]
  },
  {
   "cell_type": "code",
   "execution_count": 85,
   "metadata": {
    "collapsed": false
   },
   "outputs": [],
   "source": [
    "duration = total_time*num_seq_reps"
   ]
  },
  {
   "cell_type": "code",
   "execution_count": 86,
   "metadata": {
    "collapsed": false
   },
   "outputs": [
    {
     "data": {
      "text/plain": [
       "19.999999999999996"
      ]
     },
     "metadata": {},
     "output_type": "display_data"
    }
   ],
   "source": [
    "display(duration)"
   ]
  },
  {
   "cell_type": "code",
   "execution_count": 87,
   "metadata": {
    "collapsed": true
   },
   "outputs": [],
   "source": [
    "barWidth = 1"
   ]
  },
  {
   "cell_type": "code",
   "execution_count": 88,
   "metadata": {
    "collapsed": true
   },
   "outputs": [],
   "source": [
    "longside = tools.monitorunittools.cm2deg(screen_height_cm, monitors.Monitor(whichMonitor))"
   ]
  },
  {
   "cell_type": "code",
   "execution_count": 89,
   "metadata": {
    "collapsed": false
   },
   "outputs": [
    {
     "data": {
      "text/plain": [
       "92.23718132340305"
      ]
     },
     "metadata": {},
     "output_type": "display_data"
    }
   ],
   "source": [
    "display(longside)"
   ]
  },
  {
   "cell_type": "code",
   "execution_count": 90,
   "metadata": {
    "collapsed": true
   },
   "outputs": [],
   "source": [
    "width_deg = tools.monitorunittools.cm2deg(screen_width_cm, monitors.Monitor(whichMonitor))"
   ]
  },
  {
   "cell_type": "code",
   "execution_count": 91,
   "metadata": {
    "collapsed": false
   },
   "outputs": [
    {
     "data": {
      "text/plain": [
       "147.5794901174449"
      ]
     },
     "metadata": {},
     "output_type": "display_data"
    }
   ],
   "source": [
    "display(width_deg)"
   ]
  },
  {
   "cell_type": "code",
   "execution_count": 92,
   "metadata": {
    "collapsed": false
   },
   "outputs": [],
   "source": [
    "# [screen_width, screen_height_cm] = [93.0, 52.517647058823535]\n",
    "# winsize (pixels) = [1360, 768]\n",
    "# [width_deg, height_deg] = [213.11945001432255, 120.34980706691158]\n",
    "# Looks like aspect ratio is constant, phew.\n",
    "\n",
    "# 213.11945001432255/120.34980706691158\n",
    "# 1360/768.\n",
    "# 93.0/52.517647058823535"
   ]
  },
  {
   "cell_type": "code",
   "execution_count": 93,
   "metadata": {
    "collapsed": false
   },
   "outputs": [
    {
     "data": {
      "text/plain": [
       "73.78974505872245"
      ]
     },
     "metadata": {},
     "output_type": "display_data"
    }
   ],
   "source": [
    "travelDist = width_deg*0.5; display(travelDist)"
   ]
  },
  {
   "cell_type": "code",
   "execution_count": 94,
   "metadata": {
    "collapsed": false
   },
   "outputs": [
    {
     "data": {
      "text/plain": [
       "147.5794901174449"
      ]
     },
     "metadata": {},
     "output_type": "display_data"
    }
   ],
   "source": [
    "total_length_deg = tools.monitorunittools.cm2deg(total_length, monitors.Monitor(whichMonitor)); display(total_length_deg)"
   ]
  },
  {
   "cell_type": "code",
   "execution_count": 95,
   "metadata": {
    "collapsed": false
   },
   "outputs": [
    {
     "data": {
      "text/plain": [
       "(92.23718132340305, 1)"
      ]
     },
     "metadata": {},
     "output_type": "display_data"
    }
   ],
   "source": [
    "stimSize = (longside,barWidth); display(stimSize)"
   ]
  },
  {
   "cell_type": "code",
   "execution_count": 96,
   "metadata": {
    "collapsed": false
   },
   "outputs": [
    {
     "data": {
      "text/plain": [
       "73.78974505872245"
      ]
     },
     "metadata": {},
     "output_type": "display_data"
    }
   ],
   "source": [
    "uStartPoint = travelDist; display(uStartPoint) # this is just 0.5 of the travel dimension"
   ]
  },
  {
   "cell_type": "code",
   "execution_count": 97,
   "metadata": {
    "collapsed": false
   },
   "outputs": [
    {
     "name": "stdout",
     "output_type": "stream",
     "text": [
      "1\n",
      "1\n"
     ]
    }
   ],
   "source": [
    "# SPECIFICY CONDITION TYPES:\n",
    "print condType\n",
    "if condType == 1:\n",
    "    orientation = 1 # 1 = VERTICAL, 0 = horizontal\n",
    "    direction = 1 # 1 = start from LEFT or BOTTOM (neg-->pos), 0 = start RIGHT or TOP (pos-->neg)\n",
    "    # as of 04/2016, this means FROM neg TO pos (left-->right {cond1: V-Left} or bottom-->top {cond4: H-Up})\n",
    "\n",
    "elif condType == 2:\n",
    "    orientation = 1 # vertical\n",
    "    direction = 0 # start from RIGHT\n",
    "\n",
    "elif condType == 3:\n",
    "    orientation = 0 # horizontal\n",
    "    direction = 0 # start from TOP\n",
    "\n",
    "elif condType == 4:\n",
    "    orientation = 0 # horizontal\n",
    "    direction = 1 # start from BOTTOM\n",
    "\n",
    "centerPoint = [0,0] #center of screen is [0,0] (degrees).\n",
    "print direction\n",
    "if direction==1: # START FROM NEG, go POS (start left-->right, or start bottom-->top)\n",
    "    startSign = -1\n",
    "else:\n",
    "    startSign = 1"
   ]
  },
  {
   "cell_type": "code",
   "execution_count": 98,
   "metadata": {
    "collapsed": false
   },
   "outputs": [
    {
     "data": {
      "text/plain": [
       "-73.28974505872245"
      ]
     },
     "metadata": {},
     "output_type": "display_data"
    }
   ],
   "source": [
    "startPoint = startSign*uStartPoint +barWidth*0.5; display(startPoint)"
   ]
  },
  {
   "cell_type": "code",
   "execution_count": 99,
   "metadata": {
    "collapsed": false
   },
   "outputs": [
    {
     "data": {
      "text/plain": [
       "72.78974505872245"
      ]
     },
     "metadata": {},
     "output_type": "display_data"
    }
   ],
   "source": [
    "endPoint = -1*(startPoint + startSign*(total_length_deg*0.5-uStartPoint - barWidth*0.5)); display(endPoint)"
   ]
  },
  {
   "cell_type": "code",
   "execution_count": 100,
   "metadata": {
    "collapsed": false
   },
   "outputs": [
    {
     "data": {
      "text/plain": [
       "147.5794901174449"
      ]
     },
     "execution_count": 100,
     "metadata": {},
     "output_type": "execute_result"
    }
   ],
   "source": [
    "total_length_deg# *0.5-uStartPoint"
   ]
  },
  {
   "cell_type": "code",
   "execution_count": 101,
   "metadata": {
    "collapsed": false
   },
   "outputs": [
    {
     "data": {
      "text/plain": [
       "-73.78974505872245"
      ]
     },
     "execution_count": 101,
     "metadata": {},
     "output_type": "execute_result"
    }
   ],
   "source": [
    "startPoint + startSign*(total_length_deg*0.5-uStartPoint + barWidth*0.5) # should be ADDING barWidth (to start AND end off screen...)\n",
    "# This formulation follows the leading edge of the bar, with the edge starting offscreen and ending at the opposite side, with the caaveat\n",
    "# that at the end of the cycle (V-Left), we have the cycle ending w/ the bar ON screen...\n",
    "\n",
    "# ACTUALLY, this is wrong:  startPoint adds barWidth, thereby starting the trailing edge of the bar aligned to edge of screen... \n",
    "# and, endPoint results in the leading edge of the bar aligned to the edge of opposite side of screen... -- see Line "
   ]
  },
  {
   "cell_type": "code",
   "execution_count": 102,
   "metadata": {
    "collapsed": false
   },
   "outputs": [
    {
     "data": {
      "text/plain": [
       "146.0794901174449"
      ]
     },
     "metadata": {},
     "output_type": "display_data"
    }
   ],
   "source": [
    "dist = endPoint - startPoint; display(dist)"
   ]
  },
  {
   "cell_type": "code",
   "execution_count": 103,
   "metadata": {
    "collapsed": false
   },
   "outputs": [
    {
     "data": {
      "text/plain": [
       "1.5"
      ]
     },
     "execution_count": 103,
     "metadata": {},
     "output_type": "execute_result"
    }
   ],
   "source": [
    "total_length_deg - abs(dist)"
   ]
  },
  {
   "cell_type": "code",
   "execution_count": 104,
   "metadata": {
    "collapsed": false
   },
   "outputs": [],
   "source": [
    "# 04/12/2016 - jyr\n",
    "\n",
    "# signs got screwed up at some point...\n",
    "\n",
    "# SHOULD BE THIS:\n",
    "#startPoint = startSign*uStartPoint - barWidth*0.5; display(startPoint)\n",
    "# i.e., total_length_deg*0.5 + barWidth*0.5 -- this starts with bar OFF screen (leading edge)\n",
    "\n",
    "\n",
    "#endPoint = -1*(startPoint + startSign*(total_length_deg*0.5-uStartPoint + barWidth*0.5)); display(endPoint)\n",
    "# i.e., -1*total_length_deg*0.5 + barWidth*0.5 -- this starts with bar OFF screen (leading edge)\n",
    "\n",
    "# SIMPLIFIED:\n",
    "# endPoint = -1*(startPoint - startSign*(barWidth*0.5)); display(endPoint) \n",
    "# THIS is if you just want the leading edge to go from screen-end to screen-end"
   ]
  },
  {
   "cell_type": "code",
   "execution_count": 105,
   "metadata": {
    "collapsed": false
   },
   "outputs": [
    {
     "data": {
      "text/plain": [
       "106.05972500716128"
      ]
     },
     "execution_count": 105,
     "metadata": {},
     "output_type": "execute_result"
    }
   ],
   "source": [
    "105.55972500716128 + 0.5"
   ]
  },
  {
   "cell_type": "code",
   "execution_count": 106,
   "metadata": {
    "collapsed": false
   },
   "outputs": [
    {
     "data": {
      "text/plain": [
       "19.999999999999996"
      ]
     },
     "metadata": {},
     "output_type": "display_data"
    }
   ],
   "source": [
    "display(duration)"
   ]
  },
  {
   "cell_type": "code",
   "execution_count": 107,
   "metadata": {
    "collapsed": false
   },
   "outputs": [
    {
     "data": {
      "text/plain": [
       "1260"
      ]
     },
     "metadata": {},
     "output_type": "display_data"
    },
    {
     "data": {
      "text/plain": [
       "[-73.289745058722445,\n",
       " -73.168012150291247,\n",
       " -73.046279241860034,\n",
       " -72.924546333428836,\n",
       " -72.802813424997623]"
      ]
     },
     "metadata": {},
     "output_type": "display_data"
    },
    {
     "data": {
      "image/png": "[encoded data removed]",
      "text/plain": [
       "<matplotlib.figure.Figure at 0x7f02537cdf50>"
      ]
     },
     "metadata": {},
     "output_type": "display_data"
    }
   ],
   "source": [
    "# STH WERID WITH POSITIONS:\n",
    "# Just using linearly spaced 1/fps intervals for x frames should give similar coords, using the same end/startPoints...\n",
    "# But, compare below 2 figs...\n",
    "\n",
    "# SOLVED:\n",
    "# Running with monitor settings to syncmaster:\n",
    "# winsize = [1920, 1200]\n",
    "# startPoint = -73.2897450587\n",
    "# posX = -73.2896754026,-72.8982859728, ...\n",
    "# DIST:  146.079490117\n",
    "# DUR:  20.0\n",
    "\n",
    "# i.e,. datafiles from 06.25.2015 using some other config...\n",
    "\n",
    "import math\n",
    "angle = 90 # VERT \n",
    "\n",
    "nframes = 21\n",
    "dt = 1/fps\n",
    "samples = np.arange(0,nframes,dt)\n",
    "pos = []\n",
    "for i in samples:\n",
    "    curr_pos = (i % total_time) / total_time * (endPoint-startPoint) + startPoint\n",
    "    cart_pos = curr_pos*math.sin(angle*math.pi/180)+0 #centerPoint[0]\n",
    "    pos.append(cart_pos)\n",
    "    \n",
    "display(len(pos))\n",
    "plt.scatter(np.arange(len(samples)), pos)\n",
    "display(pos[0:5])"
   ]
  },
  {
   "cell_type": "code",
   "execution_count": 108,
   "metadata": {
    "collapsed": false
   },
   "outputs": [
    {
     "data": {
      "text/plain": [
       "1198"
      ]
     },
     "metadata": {},
     "output_type": "display_data"
    },
    {
     "data": {
      "text/plain": [
       "<matplotlib.collections.PathCollection at 0x7f025357d210>"
      ]
     },
     "execution_count": 108,
     "metadata": {},
     "output_type": "execute_result"
    },
    {
     "data": {
      "image/png": "[encoded data removed]",
      "text/plain": [
       "<matplotlib.figure.Figure at 0x7f02535ef090>"
      ]
     },
     "metadata": {},
     "output_type": "display_data"
    }
   ],
   "source": [
    "if moveX:\n",
    "    moving_dim = [positions[i][0] for (i,p) in enumerate(positions)]\n",
    "else:\n",
    "    moving_dim = [positions[i][1] for (i,p) in enumerate(positions)]\n",
    "    \n",
    "display(idxs[1])\n",
    "\n",
    "nframes = idxs[1] + 1\n",
    "real_pos = moving_dim[0:nframes]\n",
    "plt.scatter(np.arange(len(real_pos)), real_pos)"
   ]
  },
  {
   "cell_type": "code",
   "execution_count": 109,
   "metadata": {
    "collapsed": false
   },
   "outputs": [
    {
     "data": {
      "text/plain": [
       "23964"
      ]
     },
     "execution_count": 109,
     "metadata": {},
     "output_type": "execute_result"
    }
   ],
   "source": [
    "len(positions)"
   ]
  },
  {
   "cell_type": "code",
   "execution_count": 110,
   "metadata": {
    "collapsed": false
   },
   "outputs": [
    {
     "data": {
      "text/plain": [
       "(92.23718132340305, 1)"
      ]
     },
     "execution_count": 110,
     "metadata": {},
     "output_type": "execute_result"
    }
   ],
   "source": [
    "stimSize"
   ]
  },
  {
   "cell_type": "code",
   "execution_count": 111,
   "metadata": {
    "collapsed": false
   },
   "outputs": [
    {
     "data": {
      "text/plain": [
       "-73.28974505872245"
      ]
     },
     "metadata": {},
     "output_type": "display_data"
    },
    {
     "data": {
      "text/plain": [
       "72.78974505872245"
      ]
     },
     "metadata": {},
     "output_type": "display_data"
    },
    {
     "data": {
      "text/plain": [
       "-58.53176130832045"
      ]
     },
     "metadata": {},
     "output_type": "display_data"
    },
    {
     "data": {
      "text/plain": [
       "58.01790753170847"
      ]
     },
     "metadata": {},
     "output_type": "display_data"
    }
   ],
   "source": [
    "display(startPoint); display(endPoint); display(moving_dim[0]); display(moving_dim[-1])"
   ]
  },
  {
   "cell_type": "code",
   "execution_count": 112,
   "metadata": {
    "collapsed": false
   },
   "outputs": [],
   "source": [
    "# More weird stuff... why are timestamps so off?\n",
    "\n",
    "from datetime import datetime\n",
    "tstamps = [f.split('_')[1] for f in files]\n",
    "FORMAT = '%Y%m%d%H%M%S%f'\n",
    "#date = datetime.strptime(tstamps[0], FORMAT)\n",
    "#display(date)\n",
    "# convert string into math-able form:\n",
    "#'{hrs}:{min}:{sec}.{msec}'.format(hrs = str(d.hour), min = str(d.minute), sec = str(d.second), msec = str(d.microsecond/1000))\n",
    "fmt_tstamps = [datetime.strptime(t, FORMAT) for t in tstamps]\n",
    "times = ['{hrs}:{min}:{sec}.{msec}'.format(hrs = str(d.hour), min = str(d.minute), sec = str(d.second), msec = str(d.microsecond)) for d in fmt_tstamps]"
   ]
  },
  {
   "cell_type": "code",
   "execution_count": 113,
   "metadata": {
    "collapsed": false
   },
   "outputs": [],
   "source": [
    "mstimes = []\n",
    "for t in times:\n",
    "    hours, minutes, seconds = (t.split(\":\"))[-3:]\n",
    "    hours = int(hours)\n",
    "    minutes = int(minutes)\n",
    "    seconds = float(seconds)\n",
    "    miliseconds = int(3600000 * hours + 60000 * minutes + 1000 * seconds)\n",
    "    mstimes.append(miliseconds)"
   ]
  },
  {
   "cell_type": "code",
   "execution_count": 114,
   "metadata": {
    "collapsed": false
   },
   "outputs": [
    {
     "data": {
      "text/plain": [
       "'18:28:35.618425'"
      ]
     },
     "execution_count": 114,
     "metadata": {},
     "output_type": "execute_result"
    }
   ],
   "source": [
    "t"
   ]
  },
  {
   "cell_type": "code",
   "execution_count": 115,
   "metadata": {
    "collapsed": false
   },
   "outputs": [
    {
     "data": {
      "text/plain": [
       "['20150625182154951761',\n",
       " '20150625182154968753',\n",
       " '20150625182154985097',\n",
       " '20150625182155002058',\n",
       " '20150625182155018586']"
      ]
     },
     "execution_count": 115,
     "metadata": {},
     "output_type": "execute_result"
    }
   ],
   "source": [
    "tstamps[0:5]"
   ]
  },
  {
   "cell_type": "code",
   "execution_count": 116,
   "metadata": {
    "collapsed": false
   },
   "outputs": [
    {
     "data": {
      "text/plain": [
       "[<matplotlib.lines.Line2D at 0x7f025315fed0>]"
      ]
     },
     "execution_count": 116,
     "metadata": {},
     "output_type": "execute_result"
    },
    {
     "data": {
      "image/png": "[encoded data removed]",
      "text/plain": [
       "<matplotlib.figure.Figure at 0x7f02535f7690>"
      ]
     },
     "metadata": {},
     "output_type": "display_data"
    }
   ],
   "source": [
    "plt.plot(np.diff(mstimes[0:100]))"
   ]
  },
  {
   "cell_type": "code",
   "execution_count": 117,
   "metadata": {
    "collapsed": false
   },
   "outputs": [
    {
     "data": {
      "text/plain": [
       "-58.53176130832045"
      ]
     },
     "metadata": {},
     "output_type": "display_data"
    },
    {
     "data": {
      "text/plain": [
       "57.933660729079655"
      ]
     },
     "metadata": {},
     "output_type": "display_data"
    },
    {
     "data": {
      "text/plain": [
       "-58.531743244218546"
      ]
     },
     "metadata": {},
     "output_type": "display_data"
    }
   ],
   "source": [
    "# x = [positions[i][0] for (i,p) in enumerate(positions)]\n",
    "P = [i for i in moving_dim]\n",
    "display(P[0])\n",
    "display(P[idxs[1]-1])\n",
    "display(P[idxs[1]])\n",
    "sim = np.zeros((len(P), ))"
   ]
  },
  {
   "cell_type": "code",
   "execution_count": 118,
   "metadata": {
    "collapsed": false
   },
   "outputs": [
    {
     "data": {
      "text/plain": [
       "[-58.53176130832045,\n",
       " -58.42719239105267,\n",
       " -58.32994360369381,\n",
       " -58.235869929630695,\n",
       " -58.13534042345731]"
      ]
     },
     "execution_count": 118,
     "metadata": {},
     "output_type": "execute_result"
    }
   ],
   "source": [
    "P[0:5]"
   ]
  },
  {
   "cell_type": "code",
   "execution_count": 119,
   "metadata": {
    "collapsed": false
   },
   "outputs": [
    {
     "data": {
      "text/plain": [
       "120.0"
      ]
     },
     "metadata": {},
     "output_type": "display_data"
    },
    {
     "data": {
      "text/plain": [
       "93.0"
      ]
     },
     "metadata": {},
     "output_type": "display_data"
    }
   ],
   "source": [
    "import pygame\n",
    "import sys\n",
    "\n",
    "shift_P = [i+np.ceil(max(P)) for i in P]\n",
    "\n",
    "w=abs(np.ceil(abs(P[0])+barWidth)*2) # include offset to compensate for stupid positioning above...\n",
    "h=abs(np.ceil(stimSize[0]))\n",
    "display(w,h)\n",
    "\n",
    "black = (0,0,0)\n",
    "white = (255,255,255)"
   ]
  },
  {
   "cell_type": "code",
   "execution_count": 120,
   "metadata": {
    "collapsed": true
   },
   "outputs": [],
   "source": [
    "savedir = './tests/simulation/%s/' % cond\n",
    "if not os.path.exists(savedir):\n",
    "    os.makedirs(savedir)\n"
   ]
  },
  {
   "cell_type": "code",
   "execution_count": 121,
   "metadata": {
    "collapsed": false
   },
   "outputs": [],
   "source": [
    "pygame.init()\n",
    "screen = pygame.display.set_mode((int(w),int(h)))\n",
    "\n",
    "screen.fill(black)\n",
    "\n",
    "# savedir = './tests/simulation/%s/' % cond\n",
    "# if not os.path.exists(savedir):\n",
    "#     os.makedirs(savedir)\n",
    "\n",
    "barw = stimSize[1]\n",
    "barh = stimSize[0]\n",
    "\n",
    "actual_nframes = len(positions)\n",
    "\n",
    "delay_secs = 5 # n seconds to wait to simulate hemo \"delay\"\n",
    "delay_frames = delay_secs * fps\n",
    "\n",
    "\n",
    "nframes = 0\n",
    "while nframes < actual_nframes:\n",
    "    if moveX:\n",
    "        posx=shift_P[nframes]\n",
    "        posy=0 #shift_x[nframes]\n",
    "    else:\n",
    "        posx=0\n",
    "        posy=shift_P[nframes]\n",
    "        \n",
    "    screen.fill(black)\n",
    "    pygame.draw.rect(screen, white, (posx,posy,barw,barh), 0)\n",
    "    pygame.display.update()\n",
    "    pygame.image.save(screen, os.path.join(savedir, \"screen_%i.bmp\" % nframes))\n",
    "    nframes += 1"
   ]
  },
  {
   "cell_type": "code",
   "execution_count": 122,
   "metadata": {
    "collapsed": false
   },
   "outputs": [
    {
     "name": "stdout",
     "output_type": "stream",
     "text": [
      "N frames: 23964\n",
      "N positions: 23964\n"
     ]
    }
   ],
   "source": [
    "nframes_collected = os.listdir(savedir)\n",
    "print(\"N frames: %s\" % str(len(nframes_collected)))\n",
    "print(\"N positions: %s\" % str(len(positions)))"
   ]
  },
  {
   "cell_type": "code",
   "execution_count": 123,
   "metadata": {
    "collapsed": false
   },
   "outputs": [],
   "source": [
    "sim_frames = sorted([i for i in nframes_collected if i.split('.')[1]=='bmp'], key=natural_keys)"
   ]
  },
  {
   "cell_type": "code",
   "execution_count": 128,
   "metadata": {
    "collapsed": false
   },
   "outputs": [],
   "source": [
    "from PIL import Image\n",
    "sim=Image.open(os.path.join(savedir, sim_frames[0]),'r')"
   ]
  },
  {
   "cell_type": "code",
   "execution_count": 129,
   "metadata": {
    "collapsed": false
   },
   "outputs": [
    {
     "name": "stdout",
     "output_type": "stream",
     "text": [
      "SIM IMAGE SHAPE: (120, 93)\n"
     ]
    },
    {
     "data": {
      "image/png": "[encoded data removed]",
      "text/plain": [
       "<matplotlib.figure.Figure at 0x7f02535f71d0>"
      ]
     },
     "metadata": {},
     "output_type": "display_data"
    }
   ],
   "source": [
    "# is it working...?\n",
    "# sim = Image.open(os.path.join(\"./stimuli/simulated\", sim_frames[100])).convert('LA')\n",
    "# sim=sim.convert('1') # make BW so don't have to deal with 3d\n",
    "# lena = misc.imread(os.path.join(\"./stimuli/simulated\", sim_frames[100]))\n",
    "\n",
    "# sim=Image.open(os.path.join(savedir, sim_frames[100]),'r')\n",
    "sim=sim.convert('L') #makes it greyscale\n",
    "y=np.asarray(sim.getdata(),dtype=np.float64).reshape((sim.size[1],sim.size[0]))\n",
    "y=np.asarray(y,dtype=np.uint8)\n",
    "\n",
    "plt.imshow(y)\n",
    "print \"SIM IMAGE SHAPE: %s\" % str(sim.size)"
   ]
  },
  {
   "cell_type": "code",
   "execution_count": 126,
   "metadata": {
    "collapsed": false
   },
   "outputs": [
    {
     "data": {
      "text/plain": [
       "255"
      ]
     },
     "execution_count": 126,
     "metadata": {},
     "output_type": "execute_result"
    }
   ],
   "source": [
    "y.max()"
   ]
  },
  {
   "cell_type": "code",
   "execution_count": 127,
   "metadata": {
    "collapsed": false
   },
   "outputs": [
    {
     "name": "stdout",
     "output_type": "stream",
     "text": [
      "(93, 120, 23964)\n",
      "0 images processed...\n",
      "1000 images processed...\n",
      "2000 images processed...\n",
      "3000 images processed...\n",
      "4000 images processed...\n",
      "5000 images processed...\n",
      "6000 images processed...\n",
      "7000 images processed...\n",
      "8000 images processed...\n",
      "9000 images processed...\n",
      "10000 images processed...\n",
      "11000 images processed...\n",
      "12000 images processed...\n",
      "13000 images processed...\n",
      "14000 images processed...\n",
      "15000 images processed...\n",
      "16000 images processed...\n",
      "17000 images processed...\n",
      "18000 images processed...\n",
      "19000 images processed...\n",
      "20000 images processed...\n",
      "21000 images processed...\n",
      "22000 images processed...\n",
      "23000 images processed...\n"
     ]
    }
   ],
   "source": [
    "stack = np.empty((sim.size[1], sim.size[0], len(sim_frames)))\n",
    "print stack.shape\n",
    "\n",
    "for i, f in enumerate(sim_frames):\n",
    "    if i % 1000 == 0:\n",
    "        print('%d images processed...' % i)\n",
    "    sim=Image.open(os.path.join(savedir, sim_frames[i]),'r')\n",
    "    sim=sim.convert('L') #makes it greyscale\n",
    "    y=np.asarray(sim.getdata(),dtype=np.float64).reshape((sim.size[1],sim.size[0]))\n",
    "    stack[:, :, i] = y"
   ]
  },
  {
   "cell_type": "code",
   "execution_count": 130,
   "metadata": {
    "collapsed": false
   },
   "outputs": [
    {
     "name": "stdout",
     "output_type": "stream",
     "text": [
      "TARGET:  20 0.050075112669\n",
      "FREQS:  [ 0.          0.00250376  0.00500751 ..., -0.00751127 -0.00500751\n",
      " -0.00250376]\n"
     ]
    }
   ],
   "source": [
    "freqs = fft.fftfreq(len(stack[0, 0, :]), 1 / sampling_rate) # When set fps to 60 vs 120 -- target_bin should be 2x higher for 120, but freq correct (looks for closest matching target_bin )\n",
    "binwidth = freqs[1] - freqs[0]\n",
    "#target_bin = int(target_freq / binwidth)\n",
    "target_bin = np.where(freqs == min(freqs, key=lambda x: abs(float(x) - target_freq)))[0][0]\n",
    "print \"TARGET: \", target_bin, freqs[target_bin]\n",
    "print \"FREQS: \", freqs"
   ]
  },
  {
   "cell_type": "code",
   "execution_count": 131,
   "metadata": {
    "collapsed": false
   },
   "outputs": [],
   "source": [
    "\n",
    "# FFT:\n",
    "sample = stack[:,:,0]\n",
    "mag_map = np.empty(sample.shape)\n",
    "phase_map = np.empty(sample.shape)\n",
    "\n",
    "ft_real = np.empty(sample.shape)\n",
    "ft_imag = np.empty(sample.shape)\n",
    "\n",
    "ft_real_shift = np.empty(sample.shape)\n",
    "ft_imag_shift = np.empty(sample.shape)\n",
    "\n",
    "dynrange = np.empty(sample.shape)\n",
    "\n",
    "ft = np.empty(sample.shape)\n",
    "ft = ft + 0j\n",
    "\n",
    "#dlist = []\n",
    "i = 0\n",
    "for x in range(sample.shape[0]):\n",
    "    for y in range(sample.shape[1]):\n",
    "\n",
    "        # THIS IS BASICALLY MOVING AVG WINDOW...\n",
    "        pix = scipy.signal.detrend(stack[x, y, :], type='constant')\n",
    "\n",
    "        #dynrange[x, y] = np.log2(pix.max() - pix.min())\n",
    "\n",
    "        curr_ft = fft.fft(pix)  # fft.fft(pix) / len(pix)])\n",
    "        #curr_ft_shift = fft.fftshift(curr_ft)\n",
    "\n",
    "# DF = pd.DataFrame.from_records(dlist)\n",
    "\n",
    "        #mag = np.abs(curr_ft)\n",
    "        # mag_max = np.where(mag == mag.max())\n",
    "        # mag_min = np.where(mag == mag.min())\n",
    "        \n",
    "        phase = np.angle(curr_ft)\n",
    "\n",
    "        ft_real[x, y] = curr_ft[target_bin].real\n",
    "        ft_imag[x, y] = curr_ft[target_bin].imag\n",
    "        \n",
    "        ft[x,y] = curr_ft[target_bin]\n",
    "\n",
    "        #ft_real_shift[x, y] = curr_ft_shift[target_bin_shift].real\n",
    "        #ft_imag_shift[x, y] = curr_ft_shift[target_bin_shift].imag\n",
    "\n",
    "        # if i % 100 == 0:\n",
    "        # print ft_real[x, y], ft_imag[x,y]\n",
    "\n",
    "        #mag_map[x, y] = mag[target_bin]\n",
    "        phase_map[x, y] = phase[target_bin]\n",
    "\n",
    "        #dlist.append((x, y, curr_ft))\n",
    "\n",
    "        i += 1"
   ]
  },
  {
   "cell_type": "code",
   "execution_count": 132,
   "metadata": {
    "collapsed": false
   },
   "outputs": [
    {
     "data": {
      "text/plain": [
       "'./tests/simulation'"
      ]
     },
     "execution_count": 132,
     "metadata": {},
     "output_type": "execute_result"
    }
   ],
   "source": [
    "os.path.split(os.path.split(savedir)[0])[0]"
   ]
  },
  {
   "cell_type": "code",
   "execution_count": 133,
   "metadata": {
    "collapsed": false
   },
   "outputs": [
    {
     "data": {
      "text/plain": [
       "'./tests/simulation/structs'"
      ]
     },
     "execution_count": 133,
     "metadata": {},
     "output_type": "execute_result"
    }
   ],
   "source": [
    "outdir = os.path.join(os.path.split(os.path.split(savedir)[0])[0], \"structs\")\n",
    "append_to_name = \"simulated\"\n",
    "outdir\n"
   ]
  },
  {
   "cell_type": "code",
   "execution_count": 134,
   "metadata": {
    "collapsed": false
   },
   "outputs": [],
   "source": [
    "\n",
    "D = dict()\n",
    "\n",
    "D['ft_real'] = ft_real  # np.array(ft)\n",
    "D['ft_imag'] = ft_imag\n",
    "D['ft'] = ft\n",
    "\n",
    "# D['mag_map'] = mag_map\n",
    "D['phase_map'] = phase_map\n",
    "\n",
    "D['mean_intensity'] = np.mean(stack, axis=2)\n",
    "#D['stack'] = stack\n",
    "#del stack\n",
    "D['dynrange'] = dynrange\n",
    "D['target_freq'] = target_freq\n",
    "D['fps'] = sampling_rate\n",
    "D['freqs'] = freqs  # fft.fftfreq(len(pix), 1 / sampling_rate)\n",
    "# D['freqs_shift'] = freqs_shift #fft.fftfreq(len(pix), 1 / sampling_rate)\n",
    "\n",
    "D['binsize'] = freqs[1] - freqs[0]\n",
    "# np.where(freqs == min(freqs, key=lambda x: abs(float(x) - target_freq)))[0][0]\n",
    "D['target_bin'] = target_bin\n",
    "#D['target_bin_shift'] = target_bin_shift\n",
    "D['nframes'] = nframes_per_cycle\n",
    "D['reduce_factor'] = reduce_factor\n",
    "\n",
    "# SAVE condition info:\n",
    "sessionpath = os.path.split(imdir)[0]\n",
    "# outdir = os.path.join(sessionpath, 'structs')\n",
    "# if not os.path.exists(outdir):\n",
    "#     os.makedirs(outdir)\n",
    "\n",
    "reduce_factor = (1, 1)\n",
    "fext = 'D_target_FFT_%s_%s_%s.pkl' % (cond, str(reduce_factor), append_to_name)\n",
    "fname = os.path.join(outdir, fext)\n",
    "with open(fname, 'wb') as f:\n",
    "    # protocol=pkl.HIGHEST_PROTOCOL)\n",
    "    pkl.dump(D, f, protocol=pkl.HIGHEST_PROTOCOL)"
   ]
  },
  {
   "cell_type": "code",
   "execution_count": 135,
   "metadata": {
    "collapsed": false
   },
   "outputs": [
    {
     "data": {
      "text/plain": [
       "'./tests/simulation/structs'"
      ]
     },
     "execution_count": 135,
     "metadata": {},
     "output_type": "execute_result"
    }
   ],
   "source": [
    "# outdir = \"./tests/simulation/V-Left_0/structs\"\n",
    "os.listdir(outdir)\n",
    "outdir"
   ]
  },
  {
   "cell_type": "code",
   "execution_count": 138,
   "metadata": {
    "collapsed": false
   },
   "outputs": [
    {
     "name": "stdout",
     "output_type": "stream",
     "text": [
      "./tests/simulation/structs\n",
      "['D_target_V-Right_0_(1, 1)_simulated_orig.pkl', 'D_target_FFT_H-Down_0_(1, 1)_simulated.pkl', 'D_target_V-Left_0_(1, 1)_simulated.pkl', 'D_target_FFT_V-Left_0_(1, 1)_simulated.pkl', 'D_target_FFT_V-Right_0_(1, 1)_simulated.pkl', 'D_target_FFT_H-Up_0_(1, 1)_simulated.pkl', 'D_target_V-Right_0_(1, 1)_simulated.pkl', 'D_target_V-Left_0_(1, 1)_True.pkl']\n",
      "['D_target_FFT_H-Down_0_(1, 1)_simulated.pkl', 'D_target_FFT_V-Left_0_(1, 1)_simulated.pkl', 'D_target_FFT_V-Right_0_(1, 1)_simulated.pkl', 'D_target_FFT_H-Up_0_(1, 1)_simulated.pkl']\n"
     ]
    }
   ],
   "source": [
    "#####################################################\n",
    "# TEST MERGE:\n",
    "#####################################################\n",
    "\n",
    "reduce_factor = (1,1)\n",
    "print outdir\n",
    "flist = os.listdir(outdir)\n",
    "\n",
    "flist = [f for f in flist if os.path.splitext(f)[1] == '.pkl']\n",
    "print flist\n",
    "dstructs = [f for f in flist if 'D_target_FFT' in f and str(reduce_factor) in f]\n",
    "# if not dstructs:\n",
    "#     dstructs = [f for f in flist if 'D_' in f and str(reduce_factor) in f]\n",
    "\n",
    "print dstructs\n",
    "    \n",
    "D = dict()\n",
    "for f in dstructs:\n",
    "    outfile = os.path.join(outdir, f)\n",
    "    with open(outfile,'rb') as fp:\n",
    "        D[f] = pkl.load(fp)"
   ]
  },
  {
   "cell_type": "code",
   "execution_count": 139,
   "metadata": {
    "collapsed": false
   },
   "outputs": [
    {
     "name": "stdout",
     "output_type": "stream",
     "text": [
      "['D_target_FFT_V-Right_0_(1, 1)_simulated.pkl', 'D_target_FFT_H-Down_0_(1, 1)_simulated.pkl', 'D_target_FFT_V-Left_0_(1, 1)_simulated.pkl', 'D_target_FFT_H-Up_0_(1, 1)_simulated.pkl']\n"
     ]
    }
   ],
   "source": [
    "for d in D.keys():\n",
    "    if \"Left\" in d:\n",
    "        leftkey = d\n",
    "    elif \"Right\" in d:\n",
    "        rightkey = d\n",
    "print D.keys()"
   ]
  },
  {
   "cell_type": "code",
   "execution_count": 166,
   "metadata": {
    "collapsed": false
   },
   "outputs": [],
   "source": [
    "# print min([ftmap[rightkey].shape, ftmap[leftkey].shape])\n",
    "# leftmap = np.zeros(min([ftmap[rightkey].shape, ftmap[leftkey].shape]))\n",
    "# rightmap = np.zeros(min([ftmap[rightkey].shape, ftmap[leftkey].shape]))\n",
    "\n",
    "# leftmap = leftmap + 0j\n",
    "# rightmap = rightmap + 0j\n",
    "\n",
    "\n",
    "leftmap = D[leftkey]['ft']\n",
    "rightmap = D[rightkey]['ft'][:,0:120]"
   ]
  },
  {
   "cell_type": "code",
   "execution_count": 167,
   "metadata": {
    "collapsed": false
   },
   "outputs": [
    {
     "data": {
      "text/plain": [
       "(93, 120)"
      ]
     },
     "execution_count": 167,
     "metadata": {},
     "output_type": "execute_result"
    }
   ],
   "source": [
    "rightmap.shape"
   ]
  },
  {
   "cell_type": "code",
   "execution_count": 168,
   "metadata": {
    "collapsed": false
   },
   "outputs": [
    {
     "data": {
      "text/plain": [
       "<matplotlib.colorbar.Colorbar instance at 0x7f01d2174b48>"
      ]
     },
     "execution_count": 168,
     "metadata": {},
     "output_type": "execute_result"
    },
    {
     "data": {
      "image/png": "[encoded data removed]",
      "text/plain": [
       "<matplotlib.figure.Figure at 0x7f01d297e750>"
      ]
     },
     "metadata": {},
     "output_type": "display_data"
    }
   ],
   "source": [
    "#########################################################################\n",
    "# STIM MAPS:\n",
    "#########################################################################\n",
    "\n",
    "azimuth_phase = np.angle( (leftmap / rightmap) )\n",
    "# azimuth_phase = ( np.angle(leftmap) - np.angle(rightmap) ) / 2. \n",
    "plt.imshow(azimuth_phase, cmap='spectral', vmin=-1*math.pi, vmax=1*math.pi)\n",
    "plt.colorbar()\n",
    "# THIS IS DOUBLE-COLOR-MAPPED, i.e., [from LEFT --> RIGHT] 0 --> -pi, pi --> 0 --> -pi, pi --> 0."
   ]
  },
  {
   "cell_type": "code",
   "execution_count": 172,
   "metadata": {
    "collapsed": false
   },
   "outputs": [
    {
     "data": {
      "image/png": "[encoded data removed]",
      "text/plain": [
       "<matplotlib.figure.Figure at 0x7f01d1fae250>"
      ]
     },
     "metadata": {},
     "output_type": "display_data"
    }
   ],
   "source": [
    "#####################################################\n",
    "# V-LEFT_0 STIMULATION:\n",
    "# ---------------------------------------------------\n",
    "plt.imshow(np.angle(leftmap), cmap='spectral')\n",
    "plt.axis('off')\n",
    "\n",
    "legend_path = '/home/juliana/Repositories/retinotopy-mapper/tests/simulation/V-Left_legend.tif'\n",
    "plt.savefig(legend_path)\n",
    "#####################################################\n",
    "# THIS IS GOING:\n",
    "# 0 (LEFT edge) to -pi, to pi, back to 0"
   ]
  },
  {
   "cell_type": "code",
   "execution_count": 171,
   "metadata": {
    "collapsed": false
   },
   "outputs": [
    {
     "data": {
      "image/png": "[encoded data removed]",
      "text/plain": [
       "<matplotlib.figure.Figure at 0x7f01d2249550>"
      ]
     },
     "metadata": {},
     "output_type": "display_data"
    }
   ],
   "source": [
    "#####################################################\n",
    "# V-RIGHT_0 STIMULATION:\n",
    "# ---------------------------------------------------\n",
    "plt.imshow(np.angle(rightmap), cmap='spectral')\n",
    "plt.axis('off')\n",
    "\n",
    "legend_path = '/home/juliana/Repositories/retinotopy-mapper/tests/simulation/V-Right_legend.tif'\n",
    "plt.savefig(legend_path)\n",
    "#####################################################\n",
    "# THIS IS GOING:\n",
    "# 0 (right edge) to -pi, to pi, back to 0"
   ]
  },
  {
   "cell_type": "code",
   "execution_count": 156,
   "metadata": {
    "collapsed": false
   },
   "outputs": [
    {
     "data": {
      "text/plain": [
       "<matplotlib.colorbar.Colorbar instance at 0x7f01d29a8320>"
      ]
     },
     "execution_count": 156,
     "metadata": {},
     "output_type": "execute_result"
    },
    {
     "data": {
      "image/png": "[encoded data removed]",
      "text/plain": [
       "<matplotlib.figure.Figure at 0x7f02522ade50>"
      ]
     },
     "metadata": {},
     "output_type": "display_data"
    }
   ],
   "source": [
    "azimuth_phase = np.angle(leftmap / rightmap) / 2\n",
    "# azimuth_phase = ( np.angle(leftmap) - np.angle(rightmap) ) / 2. \n",
    "plt.imshow(azimuth_phase, cmap='spectral', vmin=-1*math.pi, vmax=1*math.pi)\n",
    "plt.colorbar()"
   ]
  },
  {
   "cell_type": "code",
   "execution_count": 157,
   "metadata": {
    "collapsed": false
   },
   "outputs": [
    {
     "data": {
      "text/plain": [
       "<matplotlib.colorbar.Colorbar instance at 0x7f01d286e488>"
      ]
     },
     "execution_count": 157,
     "metadata": {},
     "output_type": "execute_result"
    },
    {
     "data": {
      "image/png": "[encoded data removed]",
      "text/plain": [
       "<matplotlib.figure.Figure at 0x7f02524ccdd0>"
      ]
     },
     "metadata": {},
     "output_type": "display_data"
    }
   ],
   "source": [
    "#########################################################################\n",
    "# DELAY MAP:\n",
    "#########################################################################\n",
    "delay_vert = np.angle(leftmap * rightmap) / 2\n",
    "# azimuth_phase = ( np.angle(leftmap) - np.angle(rightmap) ) / 2. \n",
    "plt.imshow(delay_vert, cmap='spectral', vmin=-1*math.pi, vmax=1*math.pi)\n",
    "plt.colorbar()"
   ]
  },
  {
   "cell_type": "code",
   "execution_count": 158,
   "metadata": {
    "collapsed": false
   },
   "outputs": [
    {
     "data": {
      "text/plain": [
       "<matplotlib.text.Text at 0x7f01d27fd610>"
      ]
     },
     "execution_count": 158,
     "metadata": {},
     "output_type": "execute_result"
    },
    {
     "data": {
      "image/png": "[encoded data removed]",
      "text/plain": [
       "<matplotlib.figure.Figure at 0x7f01d28376d0>"
      ]
     },
     "metadata": {},
     "output_type": "display_data"
    }
   ],
   "source": [
    "# azimuth_phase = np.angle(leftmap / rightmap) / 2. \n",
    "# azimuth_phase = ( np.angle(leftmap) - np.angle(rightmap) ) / 2\n",
    "\n",
    "fig = plt.figure()\n",
    "fig.add_subplot(2,2,1)\n",
    "left_phase = np.angle(leftmap)\n",
    "plt.imshow(left_phase, cmap='spectral', vmin=-1*math.pi, vmax=1*math.pi)\n",
    "plt.title('left map')\n",
    "\n",
    "fig.add_subplot(2,2,2)\n",
    "# azimuth_phase = np.angle(leftmap.conjugate()) - delay_vert\n",
    "azimuth_phase = np.angle(leftmap) - delay_vert\n",
    "plt.imshow(azimuth_phase, cmap='spectral', vmin=-1*math.pi, vmax=1*math.pi)\n",
    "# plt.colorbar()\n",
    "plt.title('leftmap shifted by delay')\n",
    "\n",
    "fig.add_subplot(2,2,3)\n",
    "right_phase = np.angle(rightmap)\n",
    "plt.imshow(right_phase, cmap='spectral', vmin=-1*math.pi, vmax=1*math.pi)\n",
    "plt.title('right map')\n",
    "\n",
    "fig.add_subplot(2,2,4)\n",
    "azimuth_phase = np.angle(rightmap.conjugate()) - delay_vert\n",
    "# azimuth_phase = np.angle(rightmap) - delay_vert\n",
    "plt.imshow(azimuth_phase, cmap='spectral', vmin=-1*math.pi, vmax=1*math.pi)\n",
    "# plt.colorbar()\n",
    "plt.title('rightmap shifted by delay')"
   ]
  },
  {
   "cell_type": "code",
   "execution_count": 159,
   "metadata": {
    "collapsed": false
   },
   "outputs": [
    {
     "data": {
      "text/plain": [
       "<matplotlib.colorbar.Colorbar instance at 0x7f01d25e8f80>"
      ]
     },
     "execution_count": 159,
     "metadata": {},
     "output_type": "execute_result"
    },
    {
     "data": {
      "image/png": "[encoded data removed]",
      "text/plain": [
       "<matplotlib.figure.Figure at 0x7f025269b9d0>"
      ]
     },
     "metadata": {},
     "output_type": "display_data"
    }
   ],
   "source": [
    "# azimuth_phase = np.angle(leftmap / rightmap) / 2. \n",
    "azimuth_phase = ( np.angle(rightmap) - np.angle(leftmap) ) / 2. \n",
    "plt.imshow(azimuth_phase, cmap='spectral', vmin=-1*math.pi, vmax=1*math.pi)\n",
    "plt.colorbar()"
   ]
  },
  {
   "cell_type": "code",
   "execution_count": 160,
   "metadata": {
    "collapsed": false
   },
   "outputs": [
    {
     "data": {
      "text/plain": [
       "<matplotlib.colorbar.Colorbar instance at 0x7f01d2448368>"
      ]
     },
     "execution_count": 160,
     "metadata": {},
     "output_type": "execute_result"
    },
    {
     "data": {
      "image/png": "[encoded data removed]",
      "text/plain": [
       "<matplotlib.figure.Figure at 0x7f02526bd550>"
      ]
     },
     "metadata": {},
     "output_type": "display_data"
    }
   ],
   "source": [
    "# azimuth_phase = np.angle(leftmap / rightmap) / 2. \n",
    "azimuth_phase = ( np.angle(rightmap) - np.angle(leftmap) ) / 2. \n",
    "# fig=plt.imshow(azimuth_phase, cmap='spectral', vmin=-1*math.pi, vmax=1*math.pi)\n",
    "# cbar = plt.colorbar(fig) \n",
    "# cbar.ax.invert_yaxis()\n",
    "plt.imshow(azimuth_phase, cmap='spectral', vmin=1*math.pi, vmax=-1*math.pi)\n",
    "plt.colorbar()"
   ]
  },
  {
   "cell_type": "code",
   "execution_count": 161,
   "metadata": {
    "collapsed": true
   },
   "outputs": [],
   "source": [
    "###########################################################################################################"
   ]
  },
  {
   "cell_type": "code",
   "execution_count": 162,
   "metadata": {
    "collapsed": false
   },
   "outputs": [],
   "source": [
    "# DONT DO THIS.\n",
    "\n",
    "# ftmap = dict()\n",
    "# # outshape = D[D.keys()[0]]['ft_real'].shape\n",
    "# # print outshape\n",
    "# for curr_key in D.keys():\n",
    "#     outshape = D[curr_key]['ft_real'].shape # WTF, outshape changing based on stim... (but maybe not for actual imaging acquis. data)\n",
    "#     print outshape\n",
    "#     reals = D[curr_key]['ft_real'].ravel()\n",
    "#     imags = D[curr_key]['ft_imag'].ravel()\n",
    "# #     imags = imags*-1.\n",
    "# #     if 'Down' in curr_key:\n",
    "# #         imags = imags*-1\n",
    "# #     if 'Right' in curr_key:\n",
    "# #         imags = imags*-1\n",
    "#     ftmap[curr_key] = [complex(x[0], x[1]) for x in zip(reals, imags)]\n",
    "#     ftmap[curr_key] = np.reshape(np.array(ftmap[curr_key]), outshape)\n"
   ]
  },
  {
   "cell_type": "code",
   "execution_count": 822,
   "metadata": {
    "collapsed": false
   },
   "outputs": [
    {
     "name": "stdout",
     "output_type": "stream",
     "text": [
      "2.0\n",
      "3.0\n",
      "<type 'complex'>\n",
      "2.0 -3.0\n"
     ]
    }
   ],
   "source": [
    "# WTF, why multipling by -1.... imags are just imags!\n",
    "\n",
    "i = 2\n",
    "j = -3\n",
    "c = complex(2,3)\n",
    "# c = 2-3j\n",
    "# print c\n",
    "print c.real\n",
    "print c.imag\n",
    "\n",
    "c = 2-3j\n",
    "print type(c)\n",
    "cr = c.real\n",
    "ci = c.imag\n",
    "print cr, ci"
   ]
  },
  {
   "cell_type": "code",
   "execution_count": null,
   "metadata": {
    "collapsed": true
   },
   "outputs": [],
   "source": [
    "###########################################################################################################"
   ]
  },
  {
   "cell_type": "code",
   "execution_count": 1191,
   "metadata": {
    "collapsed": false
   },
   "outputs": [
    {
     "name": "stdout",
     "output_type": "stream",
     "text": [
      "(0.99807766255210428, 0.99923106502084169, 0.74602077638401709, 1.0)\n"
     ]
    },
    {
     "data": {
      "text/plain": [
       "(0.80000000000000004, 0.80000000000000004, 0.80000000000000004, 1.0)"
      ]
     },
     "execution_count": 1191,
     "metadata": {},
     "output_type": "execute_result"
    }
   ],
   "source": [
    "import matplotlib\n",
    "\n",
    "cmap = matplotlib.cm.get_cmap('Spectral')\n",
    "\n",
    "rgba = cmap(0.5)\n",
    "print(rgba)\n",
    "\n",
    "from matplotlib import cm\n"
   ]
  },
  {
   "cell_type": "code",
   "execution_count": 1234,
   "metadata": {
    "collapsed": false
   },
   "outputs": [
    {
     "name": "stdout",
     "output_type": "stream",
     "text": [
      "[480, 300]\n"
     ]
    }
   ],
   "source": [
    "# map_shape = leftmap.shape\n",
    "# screen_legend = np.zeros(map_shape)\n",
    "\n",
    "screen_size = [int(i*0.25) for i in winsize]\n",
    "print screen_size\n",
    "screen_legend = np.zeros((screen_size[1], screen_size[0]))\n",
    "\n",
    "VERT = 1\n",
    "left = 1\n",
    "\n",
    "if VERT: \n",
    "    if left:\n",
    "        # First, set half the screen width (0 to 239 = to 0 to -pi)\n",
    "        nspaces_start = np.linspace(0, -1*math.pi, screen_size[0]/2)\n",
    "        for i in range(screen_size[1]):\n",
    "            screen_legend[i][0:screen_size[0]/2] = nspaces_start\n",
    "        # Then, set right side of screen (240 to end = to pi to 0)\n",
    "        nspaces_end = np.linspace(1*math.pi, 0, screen_size[0]/2)\n",
    "        for i in range(screen_size[1]):\n",
    "            screen_legend[i][screen_size[0]/2:] = nspaces_end\n",
    "    if right:\n",
    "        # First, set half the screen width (0 to 239 = to 0 to -pi)\n",
    "        nspaces_start = np.linspace(0, 1*math.pi, screen_size[0]/2)\n",
    "        for i in range(screen_size[1]):\n",
    "            screen_legend[i][0:screen_size[0]/2] = nspaces_start\n",
    "        # Then, set right side of screen (240 to end = to pi to 0)\n",
    "        nspaces_end = np.linspace(-1*math.pi, 0, screen_size[0]/2)\n",
    "        for i in range(screen_size[1]):\n",
    "            screen_legend[i][screen_size[0]/2:] = nspaces_end\n",
    "\n",
    "if HORZ:\n",
    "    if up:\n",
    "        # First, set half the screen width (0 to 239 = to 0 to -pi)\n",
    "        nspaces_start = np.linspace(0, -1*math.pi, screen_size[0]/2)\n",
    "        for i in range(screen_size[0]):\n",
    "            screen_legend[i][0:screen_size[0]/2] = nspaces_start\n",
    "        # Then, set right side of screen (240 to end = to pi to 0)\n",
    "        nspaces_end = np.linspace(1*math.pi, 0, screen_size[0]/2)\n",
    "        for i in range(screen_size[1]):\n",
    "            screen_legend[i][screen_size[0]/2:] = nspaces_end\n",
    "    if right:\n",
    "        # First, set half the screen width (0 to 239 = to 0 to -pi)\n",
    "        nspaces_start = np.linspace(0, 1*math.pi, screen_size[0]/2)\n",
    "        for i in range(screen_size[1]):\n",
    "            screen_legend[i][0:screen_size[0]/2] = nspaces_start\n",
    "        # Then, set right side of screen (240 to end = to pi to 0)\n",
    "        nspaces_end = np.linspace(-1*math.pi, 0, screen_size[0]/2)\n",
    "        for i in range(screen_size[1]):\n",
    "            screen_legend[i][screen_size[0]/2:] = nspaces_end\n",
    "\n",
    "plt.imshow(screen_legend, cmap='spectral')"
   ]
  },
  {
   "cell_type": "code",
   "execution_count": 1235,
   "metadata": {
    "collapsed": false
   },
   "outputs": [
    {
     "data": {
      "text/plain": [
       "<matplotlib.image.AxesImage at 0x7f3d6fc14f50>"
      ]
     },
     "execution_count": 1235,
     "metadata": {},
     "output_type": "execute_result"
    },
    {
     "data": {
      "image/png": "[encoded data removed]",
      "text/plain": [
       "<matplotlib.figure.Figure at 0x7f3d6fc9ab90>"
      ]
     },
     "metadata": {},
     "output_type": "display_data"
    }
   ],
   "source": [
    "###################################################\n",
    "# V-LEFT:\n",
    "###################################################\n",
    "\n",
    "plt.imshow(screen_legend, cmap='spectral')"
   ]
  },
  {
   "cell_type": "code",
   "execution_count": 1233,
   "metadata": {
    "collapsed": false
   },
   "outputs": [
    {
     "data": {
      "text/plain": [
       "0.0"
      ]
     },
     "execution_count": 1233,
     "metadata": {},
     "output_type": "execute_result"
    }
   ],
   "source": [
    "screen_legend[i][240]"
   ]
  },
  {
   "cell_type": "code",
   "execution_count": 1221,
   "metadata": {
    "collapsed": false
   },
   "outputs": [
    {
     "data": {
      "text/plain": [
       "(480,)"
      ]
     },
     "execution_count": 1221,
     "metadata": {},
     "output_type": "execute_result"
    }
   ],
   "source": [
    "screen_legend[i].shape"
   ]
  },
  {
   "cell_type": "code",
   "execution_count": 1240,
   "metadata": {
    "collapsed": false
   },
   "outputs": [
    {
     "name": "stdout",
     "output_type": "stream",
     "text": [
      "[480, 300]\n"
     ]
    }
   ],
   "source": [
    "screen_size = [int(i*0.25) for i in winsize]\n",
    "print screen_size\n",
    "screen_legend = np.zeros((screen_size[1], screen_size[0]))\n",
    "\n",
    "VERT = 1\n",
    "left = 0\n",
    "\n",
    "HORZ = 0\n",
    "up = 1\n",
    "\n",
    "if VERT: \n",
    "    if left:\n",
    "        # First, set half the screen width (0 to 239 = to 0 to -pi)\n",
    "        nspaces_start = np.linspace(0, -1*math.pi, screen_size[0]/2)\n",
    "        for i in range(screen_size[1]):\n",
    "            screen_legend[i][0:screen_size[0]/2] = nspaces_start\n",
    "        # Then, set right side of screen (240 to end = to pi to 0)\n",
    "        nspaces_end = np.linspace(1*math.pi, 0, screen_size[0]/2)\n",
    "        for i in range(screen_size[1]):\n",
    "            screen_legend[i][screen_size[0]/2:] = nspaces_end\n",
    "    else:\n",
    "        # First, set half the screen width (0 to 239 = to 0 to -pi)\n",
    "        nspaces_start = np.linspace(0, 1*math.pi, screen_size[0]/2)\n",
    "        for i in range(screen_size[1]):\n",
    "            screen_legend[i][0:screen_size[0]/2] = nspaces_start\n",
    "        # Then, set right side of screen (240 to end = to pi to 0)\n",
    "        nspaces_end = np.linspace(-1*math.pi, 0, screen_size[0]/2)\n",
    "        for i in range(screen_size[1]):\n",
    "            screen_legend[i][screen_size[0]/2:] = nspaces_end\n",
    "\n",
    "if HORZ:\n",
    "    if up:\n",
    "        # First, set half the screen width (0 to 239 = to 0 to -pi)\n",
    "        nspaces_start = np.linspace(0, -1*math.pi, screen_size[0]/2)\n",
    "        for i in range(screen_size[0]):\n",
    "            screen_legend[i][0:screen_size[0]/2] = nspaces_start\n",
    "        # Then, set right side of screen (240 to end = to pi to 0)\n",
    "        nspaces_end = np.linspace(1*math.pi, 0, screen_size[0]/2)\n",
    "        for i in range(screen_size[1]):\n",
    "            screen_legend[i][screen_size[0]/2:] = nspaces_end\n",
    "    else:\n",
    "        # First, set half the screen width (0 to 239 = to 0 to -pi)\n",
    "        nspaces_start = np.linspace(0, 1*math.pi, screen_size[0]/2)\n",
    "        for i in range(screen_size[1]):\n",
    "            screen_legend[i][0:screen_size[0]/2] = nspaces_start\n",
    "        # Then, set right side of screen (240 to end = to pi to 0)\n",
    "        nspaces_end = np.linspace(-1*math.pi, 0, screen_size[0]/2)\n",
    "        for i in range(screen_size[1]):\n",
    "            screen_legend[i][screen_size[0]/2:] = nspaces_end\n"
   ]
  },
  {
   "cell_type": "code",
   "execution_count": 1241,
   "metadata": {
    "collapsed": false
   },
   "outputs": [
    {
     "data": {
      "text/plain": [
       "<matplotlib.image.AxesImage at 0x7f3d6f302ad0>"
      ]
     },
     "execution_count": 1241,
     "metadata": {},
     "output_type": "execute_result"
    },
    {
     "data": {
      "image/png": "[encoded data removed]",
      "text/plain": [
       "<matplotlib.figure.Figure at 0x7f3d6f758490>"
      ]
     },
     "metadata": {},
     "output_type": "display_data"
    }
   ],
   "source": [
    "###################################################\n",
    "# V-RIGHT:\n",
    "###################################################\n",
    "\n",
    "plt.imshow(screen_legend, cmap='spectral')\n"
   ]
  },
  {
   "cell_type": "code",
   "execution_count": null,
   "metadata": {
    "collapsed": true
   },
   "outputs": [],
   "source": []
  }
 ],
 "metadata": {
  "kernelspec": {
   "display_name": "Python 2",
   "language": "python",
   "name": "python2"
  },
  "language_info": {
   "codemirror_mode": {
    "name": "ipython",
    "version": 2
   },
   "file_extension": ".py",
   "mimetype": "text/x-python",
   "name": "python",
   "nbconvert_exporter": "python",
   "pygments_lexer": "ipython2",
   "version": "2.7.11"
  }
 },
 "nbformat": 4,
 "nbformat_minor": 0
}
